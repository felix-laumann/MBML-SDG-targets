{
 "cells": [
  {
   "cell_type": "markdown",
   "metadata": {},
   "source": [
    "# Finding interrelations of the UN SDG Targets and impute missing observations"
   ]
  },
  {
   "cell_type": "markdown",
   "metadata": {},
   "source": [
    "### This project is divided into two major phases: \n",
    "1. It is intended to find cliques within the [UN SDG](https://sustainabledevelopment.un.org/?menu=1300) Targets.\n",
    "2. Within one of the found cliques, missing observations of the time-series are inferred\n",
    "\n",
    "Each Target has at least one quantitatively measurable Indicator associated whose measurements from 1984 to 2017 serve as our data points. The data set we are working with is for the entire world, i.e. the values presented are means over all countries. Regarding the first phase, for a more sophisticated analysis, but out of scope of this course, correlations in each country should be analysed separately."
   ]
  },
  {
   "cell_type": "markdown",
   "metadata": {},
   "source": [
    "<img src=\"Screenshot from 2018-04-19 10-08-40.png\">"
   ]
  },
  {
   "cell_type": "markdown",
   "metadata": {},
   "source": [
    "## 1. Find cliques"
   ]
  },
  {
   "cell_type": "markdown",
   "metadata": {},
   "source": [
    "Import necessary packages and load our preprocessed data set\n",
    "\n",
    "*if you want to see what happened in the preprocessing, see **prepare_df_for_analysis.ipynb** *"
   ]
  },
  {
   "cell_type": "code",
   "execution_count": 1,
   "metadata": {
    "collapsed": true
   },
   "outputs": [],
   "source": [
    "import numpy as np\n",
    "import pandas as pd\n",
    "from matplotlib import pyplot as plt\n",
    "import pystan\n",
    "import math\n",
    "import os"
   ]
  },
  {
   "cell_type": "code",
   "execution_count": 2,
   "metadata": {},
   "outputs": [
    {
     "data": {
      "text/html": [
       "<div>\n",
       "<style>\n",
       "    .dataframe thead tr:only-child th {\n",
       "        text-align: right;\n",
       "    }\n",
       "\n",
       "    .dataframe thead th {\n",
       "        text-align: left;\n",
       "    }\n",
       "\n",
       "    .dataframe tbody tr th {\n",
       "        vertical-align: top;\n",
       "    }\n",
       "</style>\n",
       "<table border=\"1\" class=\"dataframe\">\n",
       "  <thead>\n",
       "    <tr style=\"text-align: right;\">\n",
       "      <th></th>\n",
       "      <th>Unnamed: 0</th>\n",
       "      <th>Category</th>\n",
       "      <th>Indicator Description</th>\n",
       "      <th>Goal</th>\n",
       "      <th>Target</th>\n",
       "      <th>Indicator Ref</th>\n",
       "      <th>Unit</th>\n",
       "      <th>Unit multiplier</th>\n",
       "      <th>1984</th>\n",
       "      <th>1985</th>\n",
       "      <th>...</th>\n",
       "      <th>2008</th>\n",
       "      <th>2009</th>\n",
       "      <th>2010</th>\n",
       "      <th>2011</th>\n",
       "      <th>2012</th>\n",
       "      <th>2013</th>\n",
       "      <th>2014</th>\n",
       "      <th>2015</th>\n",
       "      <th>2016</th>\n",
       "      <th>2017</th>\n",
       "    </tr>\n",
       "  </thead>\n",
       "  <tbody>\n",
       "    <tr>\n",
       "      <th>0</th>\n",
       "      <td>106</td>\n",
       "      <td>Population</td>\n",
       "      <td>Proportion of population below the internation...</td>\n",
       "      <td>1</td>\n",
       "      <td>1.1</td>\n",
       "      <td>1.1.1</td>\n",
       "      <td>Percent</td>\n",
       "      <td>Units</td>\n",
       "      <td>NaN</td>\n",
       "      <td>NaN</td>\n",
       "      <td>...</td>\n",
       "      <td>NaN</td>\n",
       "      <td>NaN</td>\n",
       "      <td>NaN</td>\n",
       "      <td>NaN</td>\n",
       "      <td>NaN</td>\n",
       "      <td>10.7</td>\n",
       "      <td>NaN</td>\n",
       "      <td>NaN</td>\n",
       "      <td>NaN</td>\n",
       "      <td>NaN</td>\n",
       "    </tr>\n",
       "    <tr>\n",
       "      <th>1</th>\n",
       "      <td>107</td>\n",
       "      <td>Population</td>\n",
       "      <td>Proportion of population covered by social pro...</td>\n",
       "      <td>1</td>\n",
       "      <td>1.3</td>\n",
       "      <td>1.3.1</td>\n",
       "      <td>Percent</td>\n",
       "      <td>Units</td>\n",
       "      <td>NaN</td>\n",
       "      <td>NaN</td>\n",
       "      <td>...</td>\n",
       "      <td>NaN</td>\n",
       "      <td>NaN</td>\n",
       "      <td>NaN</td>\n",
       "      <td>NaN</td>\n",
       "      <td>NaN</td>\n",
       "      <td>NaN</td>\n",
       "      <td>NaN</td>\n",
       "      <td>NaN</td>\n",
       "      <td>45.17</td>\n",
       "      <td>NaN</td>\n",
       "    </tr>\n",
       "    <tr>\n",
       "      <th>2</th>\n",
       "      <td>108</td>\n",
       "      <td>Population</td>\n",
       "      <td>Proportion of population covered by social pro...</td>\n",
       "      <td>1</td>\n",
       "      <td>1.3</td>\n",
       "      <td>1.3.1</td>\n",
       "      <td>Percent</td>\n",
       "      <td>Units</td>\n",
       "      <td>NaN</td>\n",
       "      <td>NaN</td>\n",
       "      <td>...</td>\n",
       "      <td>NaN</td>\n",
       "      <td>NaN</td>\n",
       "      <td>NaN</td>\n",
       "      <td>NaN</td>\n",
       "      <td>NaN</td>\n",
       "      <td>NaN</td>\n",
       "      <td>NaN</td>\n",
       "      <td>NaN</td>\n",
       "      <td>34.86</td>\n",
       "      <td>NaN</td>\n",
       "    </tr>\n",
       "    <tr>\n",
       "      <th>3</th>\n",
       "      <td>109</td>\n",
       "      <td>Population</td>\n",
       "      <td>Proportion of population covered by social pro...</td>\n",
       "      <td>1</td>\n",
       "      <td>1.3</td>\n",
       "      <td>1.3.1</td>\n",
       "      <td>Percent</td>\n",
       "      <td>Units</td>\n",
       "      <td>NaN</td>\n",
       "      <td>NaN</td>\n",
       "      <td>...</td>\n",
       "      <td>NaN</td>\n",
       "      <td>NaN</td>\n",
       "      <td>NaN</td>\n",
       "      <td>NaN</td>\n",
       "      <td>NaN</td>\n",
       "      <td>NaN</td>\n",
       "      <td>NaN</td>\n",
       "      <td>NaN</td>\n",
       "      <td>27.79</td>\n",
       "      <td>NaN</td>\n",
       "    </tr>\n",
       "    <tr>\n",
       "      <th>4</th>\n",
       "      <td>110</td>\n",
       "      <td>Population</td>\n",
       "      <td>Proportion of population covered by social pro...</td>\n",
       "      <td>1</td>\n",
       "      <td>1.3</td>\n",
       "      <td>1.3.1</td>\n",
       "      <td>Percent</td>\n",
       "      <td>Units</td>\n",
       "      <td>NaN</td>\n",
       "      <td>NaN</td>\n",
       "      <td>...</td>\n",
       "      <td>NaN</td>\n",
       "      <td>NaN</td>\n",
       "      <td>NaN</td>\n",
       "      <td>NaN</td>\n",
       "      <td>NaN</td>\n",
       "      <td>NaN</td>\n",
       "      <td>NaN</td>\n",
       "      <td>NaN</td>\n",
       "      <td>41.08</td>\n",
       "      <td>NaN</td>\n",
       "    </tr>\n",
       "  </tbody>\n",
       "</table>\n",
       "<p>5 rows × 42 columns</p>\n",
       "</div>"
      ],
      "text/plain": [
       "   Unnamed: 0    Category                              Indicator Description  \\\n",
       "0         106  Population  Proportion of population below the internation...   \n",
       "1         107  Population  Proportion of population covered by social pro...   \n",
       "2         108  Population  Proportion of population covered by social pro...   \n",
       "3         109  Population  Proportion of population covered by social pro...   \n",
       "4         110  Population  Proportion of population covered by social pro...   \n",
       "\n",
       "   Goal Target Indicator Ref     Unit Unit multiplier  1984  1985  ...   2008  \\\n",
       "0     1    1.1         1.1.1  Percent           Units   NaN   NaN  ...    NaN   \n",
       "1     1    1.3         1.3.1  Percent           Units   NaN   NaN  ...    NaN   \n",
       "2     1    1.3         1.3.1  Percent           Units   NaN   NaN  ...    NaN   \n",
       "3     1    1.3         1.3.1  Percent           Units   NaN   NaN  ...    NaN   \n",
       "4     1    1.3         1.3.1  Percent           Units   NaN   NaN  ...    NaN   \n",
       "\n",
       "   2009  2010  2011  2012  2013  2014  2015   2016  2017  \n",
       "0   NaN   NaN   NaN   NaN  10.7   NaN   NaN    NaN   NaN  \n",
       "1   NaN   NaN   NaN   NaN   NaN   NaN   NaN  45.17   NaN  \n",
       "2   NaN   NaN   NaN   NaN   NaN   NaN   NaN  34.86   NaN  \n",
       "3   NaN   NaN   NaN   NaN   NaN   NaN   NaN  27.79   NaN  \n",
       "4   NaN   NaN   NaN   NaN   NaN   NaN   NaN  41.08   NaN  \n",
       "\n",
       "[5 rows x 42 columns]"
      ]
     },
     "execution_count": 2,
     "metadata": {},
     "output_type": "execute_result"
    }
   ],
   "source": [
    "# load csv\n",
    "df = pd.read_csv(\"TargetsForAnalysis.csv\")\n",
    "df.head()"
   ]
  },
  {
   "cell_type": "markdown",
   "metadata": {},
   "source": [
    "See how many data points we have for each Indicator"
   ]
  },
  {
   "cell_type": "code",
   "execution_count": 3,
   "metadata": {},
   "outputs": [],
   "source": [
    "intyears = list(range(1984, 2018))\n",
    "#print(intyears)\n",
    "\n",
    "years = []\n",
    "for year in intyears:\n",
    "    years.append(str(year))\n",
    "    \n",
    "#print(years)"
   ]
  },
  {
   "cell_type": "code",
   "execution_count": 4,
   "metadata": {},
   "outputs": [],
   "source": [
    "def getnumberofyearswithdata(r):\n",
    "    n = 0\n",
    "    for year in years:\n",
    "        if ~np.isnan(r[year]):\n",
    "            n+=1\n",
    "    return n"
   ]
  },
  {
   "cell_type": "code",
   "execution_count": 5,
   "metadata": {},
   "outputs": [],
   "source": [
    "# new column with number of data points per Indicator\n",
    "df['Years with values'] = df.apply(getnumberofyearswithdata, axis=1)"
   ]
  },
  {
   "cell_type": "code",
   "execution_count": 6,
   "metadata": {
    "scrolled": true
   },
   "outputs": [
    {
     "data": {
      "text/plain": [
       "(197, 43)"
      ]
     },
     "execution_count": 6,
     "metadata": {},
     "output_type": "execute_result"
    }
   ],
   "source": [
    "df.head()\n",
    "df.shape"
   ]
  },
  {
   "cell_type": "markdown",
   "metadata": {},
   "source": [
    "We need at least two data points to conclude any kind of correlation"
   ]
  },
  {
   "cell_type": "code",
   "execution_count": 7,
   "metadata": {
    "scrolled": false
   },
   "outputs": [
    {
     "name": "stdout",
     "output_type": "stream",
     "text": [
      "(120, 43)\n"
     ]
    },
    {
     "data": {
      "text/html": [
       "<div>\n",
       "<style>\n",
       "    .dataframe thead tr:only-child th {\n",
       "        text-align: right;\n",
       "    }\n",
       "\n",
       "    .dataframe thead th {\n",
       "        text-align: left;\n",
       "    }\n",
       "\n",
       "    .dataframe tbody tr th {\n",
       "        vertical-align: top;\n",
       "    }\n",
       "</style>\n",
       "<table border=\"1\" class=\"dataframe\">\n",
       "  <thead>\n",
       "    <tr style=\"text-align: right;\">\n",
       "      <th></th>\n",
       "      <th>Unnamed: 0</th>\n",
       "      <th>Category</th>\n",
       "      <th>Indicator Description</th>\n",
       "      <th>Goal</th>\n",
       "      <th>Target</th>\n",
       "      <th>Indicator Ref</th>\n",
       "      <th>Unit</th>\n",
       "      <th>Unit multiplier</th>\n",
       "      <th>1984</th>\n",
       "      <th>1985</th>\n",
       "      <th>...</th>\n",
       "      <th>2009</th>\n",
       "      <th>2010</th>\n",
       "      <th>2011</th>\n",
       "      <th>2012</th>\n",
       "      <th>2013</th>\n",
       "      <th>2014</th>\n",
       "      <th>2015</th>\n",
       "      <th>2016</th>\n",
       "      <th>2017</th>\n",
       "      <th>Years with values</th>\n",
       "    </tr>\n",
       "  </thead>\n",
       "  <tbody>\n",
       "    <tr>\n",
       "      <th>0</th>\n",
       "      <td>106</td>\n",
       "      <td>Population</td>\n",
       "      <td>Proportion of population below the internation...</td>\n",
       "      <td>1</td>\n",
       "      <td>1.1</td>\n",
       "      <td>1.1.1</td>\n",
       "      <td>Percent</td>\n",
       "      <td>Units</td>\n",
       "      <td>NaN</td>\n",
       "      <td>NaN</td>\n",
       "      <td>...</td>\n",
       "      <td>NaN</td>\n",
       "      <td>NaN</td>\n",
       "      <td>NaN</td>\n",
       "      <td>NaN</td>\n",
       "      <td>10.70</td>\n",
       "      <td>NaN</td>\n",
       "      <td>NaN</td>\n",
       "      <td>NaN</td>\n",
       "      <td>NaN</td>\n",
       "      <td>2</td>\n",
       "    </tr>\n",
       "    <tr>\n",
       "      <th>8</th>\n",
       "      <td>115</td>\n",
       "      <td>Population</td>\n",
       "      <td>Proportion of births attended by skilled healt...</td>\n",
       "      <td>3</td>\n",
       "      <td>3.1</td>\n",
       "      <td>3.1.2</td>\n",
       "      <td>Percent</td>\n",
       "      <td>Units</td>\n",
       "      <td>NaN</td>\n",
       "      <td>NaN</td>\n",
       "      <td>...</td>\n",
       "      <td>NaN</td>\n",
       "      <td>69.88</td>\n",
       "      <td>NaN</td>\n",
       "      <td>NaN</td>\n",
       "      <td>NaN</td>\n",
       "      <td>NaN</td>\n",
       "      <td>NaN</td>\n",
       "      <td>78.49</td>\n",
       "      <td>NaN</td>\n",
       "      <td>3</td>\n",
       "    </tr>\n",
       "    <tr>\n",
       "      <th>9</th>\n",
       "      <td>129</td>\n",
       "      <td>Population</td>\n",
       "      <td>Participation rate in organized learning (one ...</td>\n",
       "      <td>4</td>\n",
       "      <td>4.2</td>\n",
       "      <td>4.2.2</td>\n",
       "      <td>Percent</td>\n",
       "      <td>Units</td>\n",
       "      <td>NaN</td>\n",
       "      <td>NaN</td>\n",
       "      <td>...</td>\n",
       "      <td>59.41</td>\n",
       "      <td>60.44</td>\n",
       "      <td>62.64</td>\n",
       "      <td>64.64</td>\n",
       "      <td>65.20</td>\n",
       "      <td>66.59</td>\n",
       "      <td>NaN</td>\n",
       "      <td>NaN</td>\n",
       "      <td>NaN</td>\n",
       "      <td>12</td>\n",
       "    </tr>\n",
       "    <tr>\n",
       "      <th>10</th>\n",
       "      <td>130</td>\n",
       "      <td>Population</td>\n",
       "      <td>Proportion of population using safely managed ...</td>\n",
       "      <td>6</td>\n",
       "      <td>6.1</td>\n",
       "      <td>6.1.1</td>\n",
       "      <td>Percent</td>\n",
       "      <td>Units</td>\n",
       "      <td>NaN</td>\n",
       "      <td>NaN</td>\n",
       "      <td>...</td>\n",
       "      <td>54.02</td>\n",
       "      <td>55.55</td>\n",
       "      <td>55.91</td>\n",
       "      <td>55.77</td>\n",
       "      <td>55.22</td>\n",
       "      <td>55.03</td>\n",
       "      <td>54.81</td>\n",
       "      <td>NaN</td>\n",
       "      <td>NaN</td>\n",
       "      <td>16</td>\n",
       "    </tr>\n",
       "    <tr>\n",
       "      <th>11</th>\n",
       "      <td>131</td>\n",
       "      <td>Population</td>\n",
       "      <td>Proportion of population using safely managed ...</td>\n",
       "      <td>6</td>\n",
       "      <td>6.1</td>\n",
       "      <td>6.1.1</td>\n",
       "      <td>Percent</td>\n",
       "      <td>Units</td>\n",
       "      <td>NaN</td>\n",
       "      <td>NaN</td>\n",
       "      <td>...</td>\n",
       "      <td>69.90</td>\n",
       "      <td>70.82</td>\n",
       "      <td>71.14</td>\n",
       "      <td>71.22</td>\n",
       "      <td>71.09</td>\n",
       "      <td>71.14</td>\n",
       "      <td>71.16</td>\n",
       "      <td>NaN</td>\n",
       "      <td>NaN</td>\n",
       "      <td>16</td>\n",
       "    </tr>\n",
       "  </tbody>\n",
       "</table>\n",
       "<p>5 rows × 43 columns</p>\n",
       "</div>"
      ],
      "text/plain": [
       "    Unnamed: 0    Category                              Indicator Description  \\\n",
       "0          106  Population  Proportion of population below the internation...   \n",
       "8          115  Population  Proportion of births attended by skilled healt...   \n",
       "9          129  Population  Participation rate in organized learning (one ...   \n",
       "10         130  Population  Proportion of population using safely managed ...   \n",
       "11         131  Population  Proportion of population using safely managed ...   \n",
       "\n",
       "    Goal Target Indicator Ref     Unit Unit multiplier  1984  1985  \\\n",
       "0      1    1.1         1.1.1  Percent           Units   NaN   NaN   \n",
       "8      3    3.1         3.1.2  Percent           Units   NaN   NaN   \n",
       "9      4    4.2         4.2.2  Percent           Units   NaN   NaN   \n",
       "10     6    6.1         6.1.1  Percent           Units   NaN   NaN   \n",
       "11     6    6.1         6.1.1  Percent           Units   NaN   NaN   \n",
       "\n",
       "          ...           2009   2010   2011   2012   2013   2014   2015   2016  \\\n",
       "0         ...            NaN    NaN    NaN    NaN  10.70    NaN    NaN    NaN   \n",
       "8         ...            NaN  69.88    NaN    NaN    NaN    NaN    NaN  78.49   \n",
       "9         ...          59.41  60.44  62.64  64.64  65.20  66.59    NaN    NaN   \n",
       "10        ...          54.02  55.55  55.91  55.77  55.22  55.03  54.81    NaN   \n",
       "11        ...          69.90  70.82  71.14  71.22  71.09  71.14  71.16    NaN   \n",
       "\n",
       "    2017  Years with values  \n",
       "0    NaN                  2  \n",
       "8    NaN                  3  \n",
       "9    NaN                 12  \n",
       "10   NaN                 16  \n",
       "11   NaN                 16  \n",
       "\n",
       "[5 rows x 43 columns]"
      ]
     },
     "execution_count": 7,
     "metadata": {},
     "output_type": "execute_result"
    }
   ],
   "source": [
    "df_new = df.loc[df['Years with values'] > 1]\n",
    "\n",
    "# see how many rows we deleted\n",
    "print(df_new.shape)\n",
    "df_new.head()"
   ]
  },
  {
   "cell_type": "markdown",
   "metadata": {},
   "source": [
    "See how many Targets are associated with the Indicators we found"
   ]
  },
  {
   "cell_type": "code",
   "execution_count": 8,
   "metadata": {},
   "outputs": [
    {
     "data": {
      "text/plain": [
       "str"
      ]
     },
     "execution_count": 8,
     "metadata": {},
     "output_type": "execute_result"
    }
   ],
   "source": [
    "# create a list of Targets\n",
    "e = list(df_new['Target'])\n",
    "type(e[2])"
   ]
  },
  {
   "cell_type": "code",
   "execution_count": 9,
   "metadata": {},
   "outputs": [
    {
     "name": "stderr",
     "output_type": "stream",
     "text": [
      "/home/felix/anaconda3/lib/python3.6/site-packages/ipykernel_launcher.py:1: SettingWithCopyWarning: \n",
      "A value is trying to be set on a copy of a slice from a DataFrame.\n",
      "Try using .loc[row_indexer,col_indexer] = value instead\n",
      "\n",
      "See the caveats in the documentation: http://pandas.pydata.org/pandas-docs/stable/indexing.html#indexing-view-versus-copy\n",
      "  \"\"\"Entry point for launching an IPython kernel.\n"
     ]
    }
   ],
   "source": [
    "df_new['Target'] = df_new.apply(lambda x: str(x['Target']), axis=1)"
   ]
  },
  {
   "cell_type": "code",
   "execution_count": 10,
   "metadata": {
    "collapsed": true
   },
   "outputs": [],
   "source": [
    "#list(df_new['Target'])"
   ]
  },
  {
   "cell_type": "code",
   "execution_count": 11,
   "metadata": {
    "scrolled": true
   },
   "outputs": [
    {
     "data": {
      "text/plain": [
       "(120, 43)"
      ]
     },
     "execution_count": 11,
     "metadata": {},
     "output_type": "execute_result"
    }
   ],
   "source": [
    "df_new.shape"
   ]
  },
  {
   "cell_type": "markdown",
   "metadata": {},
   "source": [
    "See which Targets are in our data frame"
   ]
  },
  {
   "cell_type": "code",
   "execution_count": 12,
   "metadata": {},
   "outputs": [
    {
     "data": {
      "text/plain": [
       "['3.6',\n",
       " '6.2',\n",
       " '7.2',\n",
       " '10.c',\n",
       " '3.1',\n",
       " '8.2',\n",
       " '17.8',\n",
       " '9.2',\n",
       " '9.c',\n",
       " '9.4',\n",
       " '15.4',\n",
       " '16.a',\n",
       " '14.4',\n",
       " '7.1',\n",
       " '2.1',\n",
       " '17.3',\n",
       " '15.2',\n",
       " '3.9',\n",
       " '15.1',\n",
       " '3.4',\n",
       " '17.19',\n",
       " '4.2',\n",
       " '17.2',\n",
       " '6.1',\n",
       " '14.5',\n",
       " '8.4',\n",
       " '3.3',\n",
       " '12.2',\n",
       " '1.1',\n",
       " '6.b',\n",
       " '9.5',\n",
       " '16.3',\n",
       " '8.1']"
      ]
     },
     "execution_count": 12,
     "metadata": {},
     "output_type": "execute_result"
    }
   ],
   "source": [
    "targets = list(set(df_new['Target']))\n",
    "targets"
   ]
  },
  {
   "cell_type": "markdown",
   "metadata": {},
   "source": [
    "We know that one Target can have potentially more than one Indicator, and that Indicators can be separetely measured for, e.g., genders, age groups, etc.\n",
    "But since we want to find interrelations between the Targets, only the row per Target with maximum amount of data is considered."
   ]
  },
  {
   "cell_type": "code",
   "execution_count": 13,
   "metadata": {
    "collapsed": true
   },
   "outputs": [],
   "source": [
    "# create empty dictionary\n",
    "target_dfs = {}"
   ]
  },
  {
   "cell_type": "code",
   "execution_count": 14,
   "metadata": {
    "collapsed": true
   },
   "outputs": [],
   "source": [
    "for t in targets:\n",
    "    target_dfs[t] = df_new[df_new['Target']==t]"
   ]
  },
  {
   "cell_type": "code",
   "execution_count": 15,
   "metadata": {},
   "outputs": [
    {
     "data": {
      "text/html": [
       "<div>\n",
       "<style>\n",
       "    .dataframe thead tr:only-child th {\n",
       "        text-align: right;\n",
       "    }\n",
       "\n",
       "    .dataframe thead th {\n",
       "        text-align: left;\n",
       "    }\n",
       "\n",
       "    .dataframe tbody tr th {\n",
       "        vertical-align: top;\n",
       "    }\n",
       "</style>\n",
       "<table border=\"1\" class=\"dataframe\">\n",
       "  <thead>\n",
       "    <tr style=\"text-align: right;\">\n",
       "      <th></th>\n",
       "      <th>Unnamed: 0</th>\n",
       "      <th>Category</th>\n",
       "      <th>Indicator Description</th>\n",
       "      <th>Goal</th>\n",
       "      <th>Target</th>\n",
       "      <th>Indicator Ref</th>\n",
       "      <th>Unit</th>\n",
       "      <th>Unit multiplier</th>\n",
       "      <th>1984</th>\n",
       "      <th>1985</th>\n",
       "      <th>...</th>\n",
       "      <th>2009</th>\n",
       "      <th>2010</th>\n",
       "      <th>2011</th>\n",
       "      <th>2012</th>\n",
       "      <th>2013</th>\n",
       "      <th>2014</th>\n",
       "      <th>2015</th>\n",
       "      <th>2016</th>\n",
       "      <th>2017</th>\n",
       "      <th>Years with values</th>\n",
       "    </tr>\n",
       "  </thead>\n",
       "  <tbody>\n",
       "    <tr>\n",
       "      <th>177</th>\n",
       "      <td>77</td>\n",
       "      <td>Environment (Tonnes)</td>\n",
       "      <td>Material footprint, material footprint per cap...</td>\n",
       "      <td>12</td>\n",
       "      <td>12.2</td>\n",
       "      <td>12.2.1</td>\n",
       "      <td>Metric Tons</td>\n",
       "      <td>Units</td>\n",
       "      <td>NaN</td>\n",
       "      <td>NaN</td>\n",
       "      <td>...</td>\n",
       "      <td>9.690000e+00</td>\n",
       "      <td>1.010000e+01</td>\n",
       "      <td>NaN</td>\n",
       "      <td>NaN</td>\n",
       "      <td>NaN</td>\n",
       "      <td>NaN</td>\n",
       "      <td>NaN</td>\n",
       "      <td>NaN</td>\n",
       "      <td>NaN</td>\n",
       "      <td>11</td>\n",
       "    </tr>\n",
       "    <tr>\n",
       "      <th>178</th>\n",
       "      <td>78</td>\n",
       "      <td>Environment (Tonnes)</td>\n",
       "      <td>Material footprint, material footprint per cap...</td>\n",
       "      <td>12</td>\n",
       "      <td>12.2</td>\n",
       "      <td>12.2.1</td>\n",
       "      <td>Metric Tons</td>\n",
       "      <td>Units</td>\n",
       "      <td>NaN</td>\n",
       "      <td>NaN</td>\n",
       "      <td>...</td>\n",
       "      <td>1.330000e-03</td>\n",
       "      <td>1.330000e-03</td>\n",
       "      <td>NaN</td>\n",
       "      <td>NaN</td>\n",
       "      <td>NaN</td>\n",
       "      <td>NaN</td>\n",
       "      <td>NaN</td>\n",
       "      <td>NaN</td>\n",
       "      <td>NaN</td>\n",
       "      <td>11</td>\n",
       "    </tr>\n",
       "    <tr>\n",
       "      <th>179</th>\n",
       "      <td>79</td>\n",
       "      <td>Environment (Tonnes)</td>\n",
       "      <td>Material footprint, material footprint per cap...</td>\n",
       "      <td>12</td>\n",
       "      <td>12.2</td>\n",
       "      <td>12.2.1</td>\n",
       "      <td>Metric Tons</td>\n",
       "      <td>Units</td>\n",
       "      <td>NaN</td>\n",
       "      <td>NaN</td>\n",
       "      <td>...</td>\n",
       "      <td>6.573055e+16</td>\n",
       "      <td>6.932903e+16</td>\n",
       "      <td>NaN</td>\n",
       "      <td>NaN</td>\n",
       "      <td>NaN</td>\n",
       "      <td>NaN</td>\n",
       "      <td>NaN</td>\n",
       "      <td>NaN</td>\n",
       "      <td>NaN</td>\n",
       "      <td>11</td>\n",
       "    </tr>\n",
       "    <tr>\n",
       "      <th>183</th>\n",
       "      <td>83</td>\n",
       "      <td>Environment (Tonnes)</td>\n",
       "      <td>Domestic material consumption, domestic materi...</td>\n",
       "      <td>12</td>\n",
       "      <td>12.2</td>\n",
       "      <td>12.2.2</td>\n",
       "      <td>Metric Tons</td>\n",
       "      <td>Units</td>\n",
       "      <td>NaN</td>\n",
       "      <td>NaN</td>\n",
       "      <td>...</td>\n",
       "      <td>9.750000e+00</td>\n",
       "      <td>1.006000e+01</td>\n",
       "      <td>NaN</td>\n",
       "      <td>NaN</td>\n",
       "      <td>NaN</td>\n",
       "      <td>NaN</td>\n",
       "      <td>NaN</td>\n",
       "      <td>NaN</td>\n",
       "      <td>NaN</td>\n",
       "      <td>11</td>\n",
       "    </tr>\n",
       "    <tr>\n",
       "      <th>184</th>\n",
       "      <td>84</td>\n",
       "      <td>Environment (Tonnes)</td>\n",
       "      <td>Domestic material consumption, domestic materi...</td>\n",
       "      <td>12</td>\n",
       "      <td>12.2</td>\n",
       "      <td>12.2.2</td>\n",
       "      <td>Metric Tons</td>\n",
       "      <td>Units</td>\n",
       "      <td>NaN</td>\n",
       "      <td>NaN</td>\n",
       "      <td>...</td>\n",
       "      <td>1.330000e-03</td>\n",
       "      <td>1.330000e-03</td>\n",
       "      <td>NaN</td>\n",
       "      <td>NaN</td>\n",
       "      <td>NaN</td>\n",
       "      <td>NaN</td>\n",
       "      <td>NaN</td>\n",
       "      <td>NaN</td>\n",
       "      <td>NaN</td>\n",
       "      <td>11</td>\n",
       "    </tr>\n",
       "    <tr>\n",
       "      <th>185</th>\n",
       "      <td>85</td>\n",
       "      <td>Environment (Tonnes)</td>\n",
       "      <td>Domestic material consumption, domestic materi...</td>\n",
       "      <td>12</td>\n",
       "      <td>12.2</td>\n",
       "      <td>12.2.2</td>\n",
       "      <td>Metric Tons</td>\n",
       "      <td>Units</td>\n",
       "      <td>NaN</td>\n",
       "      <td>NaN</td>\n",
       "      <td>...</td>\n",
       "      <td>6.807354e+16</td>\n",
       "      <td>7.099971e+16</td>\n",
       "      <td>NaN</td>\n",
       "      <td>NaN</td>\n",
       "      <td>NaN</td>\n",
       "      <td>NaN</td>\n",
       "      <td>NaN</td>\n",
       "      <td>NaN</td>\n",
       "      <td>NaN</td>\n",
       "      <td>11</td>\n",
       "    </tr>\n",
       "  </tbody>\n",
       "</table>\n",
       "<p>6 rows × 43 columns</p>\n",
       "</div>"
      ],
      "text/plain": [
       "     Unnamed: 0              Category  \\\n",
       "177          77  Environment (Tonnes)   \n",
       "178          78  Environment (Tonnes)   \n",
       "179          79  Environment (Tonnes)   \n",
       "183          83  Environment (Tonnes)   \n",
       "184          84  Environment (Tonnes)   \n",
       "185          85  Environment (Tonnes)   \n",
       "\n",
       "                                 Indicator Description  Goal Target  \\\n",
       "177  Material footprint, material footprint per cap...    12   12.2   \n",
       "178  Material footprint, material footprint per cap...    12   12.2   \n",
       "179  Material footprint, material footprint per cap...    12   12.2   \n",
       "183  Domestic material consumption, domestic materi...    12   12.2   \n",
       "184  Domestic material consumption, domestic materi...    12   12.2   \n",
       "185  Domestic material consumption, domestic materi...    12   12.2   \n",
       "\n",
       "    Indicator Ref         Unit Unit multiplier  1984  1985        ...          \\\n",
       "177        12.2.1  Metric Tons           Units   NaN   NaN        ...           \n",
       "178        12.2.1  Metric Tons           Units   NaN   NaN        ...           \n",
       "179        12.2.1  Metric Tons           Units   NaN   NaN        ...           \n",
       "183        12.2.2  Metric Tons           Units   NaN   NaN        ...           \n",
       "184        12.2.2  Metric Tons           Units   NaN   NaN        ...           \n",
       "185        12.2.2  Metric Tons           Units   NaN   NaN        ...           \n",
       "\n",
       "             2009          2010  2011  2012  2013  2014  2015  2016  2017  \\\n",
       "177  9.690000e+00  1.010000e+01   NaN   NaN   NaN   NaN   NaN   NaN   NaN   \n",
       "178  1.330000e-03  1.330000e-03   NaN   NaN   NaN   NaN   NaN   NaN   NaN   \n",
       "179  6.573055e+16  6.932903e+16   NaN   NaN   NaN   NaN   NaN   NaN   NaN   \n",
       "183  9.750000e+00  1.006000e+01   NaN   NaN   NaN   NaN   NaN   NaN   NaN   \n",
       "184  1.330000e-03  1.330000e-03   NaN   NaN   NaN   NaN   NaN   NaN   NaN   \n",
       "185  6.807354e+16  7.099971e+16   NaN   NaN   NaN   NaN   NaN   NaN   NaN   \n",
       "\n",
       "     Years with values  \n",
       "177                 11  \n",
       "178                 11  \n",
       "179                 11  \n",
       "183                 11  \n",
       "184                 11  \n",
       "185                 11  \n",
       "\n",
       "[6 rows x 43 columns]"
      ]
     },
     "execution_count": 15,
     "metadata": {},
     "output_type": "execute_result"
    }
   ],
   "source": [
    "# show an example of Target with more than on Indicator\n",
    "target_dfs['12.2']"
   ]
  },
  {
   "cell_type": "code",
   "execution_count": 16,
   "metadata": {
    "collapsed": true
   },
   "outputs": [],
   "source": [
    "# find row with maximum amount of data points for each target\n",
    "max_dfrows = {}"
   ]
  },
  {
   "cell_type": "code",
   "execution_count": 17,
   "metadata": {
    "collapsed": true
   },
   "outputs": [],
   "source": [
    "for target in targets:\n",
    "    if target_dfs[target].shape[0] > 1:\n",
    "        max_dfrows[target] = target_dfs[target].loc[target_dfs[target]['Years with values'].idxmax()].to_frame().T\n",
    "    else:\n",
    "        max_dfrows[target]=target_dfs[target]"
   ]
  },
  {
   "cell_type": "code",
   "execution_count": 18,
   "metadata": {},
   "outputs": [
    {
     "data": {
      "text/plain": [
       "{'1.1':   Unnamed: 0    Category                              Indicator Description  \\\n",
       " 0        106  Population  Proportion of population below the internation...   \n",
       " \n",
       "   Goal Target Indicator Ref     Unit Unit multiplier 1984 1985  \\\n",
       " 0    1    1.1         1.1.1  Percent           Units  NaN  NaN   \n",
       " \n",
       "          ...        2009 2010 2011 2012  2013 2014 2015 2016 2017  \\\n",
       " 0        ...         NaN  NaN  NaN  NaN  10.7  NaN  NaN  NaN  NaN   \n",
       " \n",
       "   Years with values  \n",
       " 0                 2  \n",
       " \n",
       " [1 rows x 43 columns], '10.c':      Unnamed: 0       Category  \\\n",
       " 117          13  E&P (Percent)   \n",
       " \n",
       "                                  Indicator Description  Goal Target  \\\n",
       " 117  Remittance costs as a proportion of the amount...    10   10.c   \n",
       " \n",
       "     Indicator Ref     Unit Unit multiplier  1984  1985        ...          \\\n",
       " 117        10.c.1  Percent           Units   NaN   NaN        ...           \n",
       " \n",
       "      2009  2010  2011  2012  2013  2014  2015  2016  2017  Years with values  \n",
       " 117   NaN   NaN   8.9   9.0   8.6   8.2   7.5   NaN   NaN                  5  \n",
       " \n",
       " [1 rows x 43 columns], '12.2':     Unnamed: 0              Category  \\\n",
       " 177         77  Environment (Tonnes)   \n",
       " \n",
       "                                  Indicator Description Goal Target  \\\n",
       " 177  Material footprint, material footprint per cap...   12   12.2   \n",
       " \n",
       "     Indicator Ref         Unit Unit multiplier 1984 1985        ...         \\\n",
       " 177        12.2.1  Metric Tons           Units  NaN  NaN        ...          \n",
       " \n",
       "      2009  2010 2011 2012 2013 2014 2015 2016 2017 Years with values  \n",
       " 177  9.69  10.1  NaN  NaN  NaN  NaN  NaN  NaN  NaN                11  \n",
       " \n",
       " [1 rows x 43 columns], '14.4':     Unnamed: 0               Category  \\\n",
       " 151         46  Environment (percent)   \n",
       " \n",
       "                                  Indicator Description Goal Target  \\\n",
       " 151  Proportion of fish stocks within biologically ...   14   14.4   \n",
       " \n",
       "     Indicator Ref     Unit Unit multiplier 1984   1985        ...         \\\n",
       " 151        14.4.1  Percent           Units  NaN  50.27        ...          \n",
       " \n",
       "       2009 2010   2011 2012   2013 2014 2015 2016 2017 Years with values  \n",
       " 151  57.47  NaN  61.28  NaN  58.11  NaN  NaN  NaN  NaN                14  \n",
       " \n",
       " [1 rows x 43 columns], '14.5':      Unnamed: 0               Category  \\\n",
       " 155          50  Environment (percent)   \n",
       " \n",
       "                                  Indicator Description  Goal Target  \\\n",
       " 155  Coverage of protected areas in relation to mar...    14   14.5   \n",
       " \n",
       "     Indicator Ref     Unit Unit multiplier  1984  1985        ...          \\\n",
       " 155        14.5.1  Percent           Units   NaN   NaN        ...           \n",
       " \n",
       "      2009  2010  2011  2012  2013  2014   2015   2016  2017  Years with values  \n",
       " 155   NaN  7.44   NaN   NaN   NaN   NaN  11.92  12.74   NaN                  5  \n",
       " \n",
       " [1 rows x 43 columns], '15.1':     Unnamed: 0               Category  \\\n",
       " 157         56  Environment (percent)   \n",
       " \n",
       "                                  Indicator Description Goal Target  \\\n",
       " 157  Proportion of important sites for terrestrial ...   15   15.1   \n",
       " \n",
       "     Indicator Ref     Unit Unit multiplier 1984 1985        ...         2009  \\\n",
       " 157        15.1.2  Percent           Units  NaN  NaN        ...         41.7   \n",
       " \n",
       "       2010   2011  2012   2013   2014   2015   2016   2017 Years with values  \n",
       " 157  41.93  42.18  42.7  43.01  43.19  43.23  43.23  43.23                18  \n",
       " \n",
       " [1 rows x 43 columns], '15.2':     Unnamed: 0              Category  \\\n",
       " 169        102  Environment (Tonnes)   \n",
       " \n",
       "                               Indicator Description Goal Target Indicator Ref  \\\n",
       " 169  Progress towards sustainable forest management   15   15.2        15.2.1   \n",
       " \n",
       "         Unit Unit multiplier 1984 1985        ...        2009  2010 2011 2012  \\\n",
       " 169  Percent           Units  NaN  NaN        ...         NaN  7.09  NaN  NaN   \n",
       " \n",
       "     2013   2014 2015 2016 2017 Years with values  \n",
       " 169  NaN  11.01  NaN  NaN  NaN                 2  \n",
       " \n",
       " [1 rows x 43 columns], '15.4':     Unnamed: 0               Category  \\\n",
       " 163         62  Environment (Percent)   \n",
       " \n",
       "                                  Indicator Description Goal Target  \\\n",
       " 163  Coverage by protected areas of important sites...   15   15.4   \n",
       " \n",
       "     Indicator Ref     Unit Unit multiplier 1984 1985        ...          2009  \\\n",
       " 163        15.4.1  Percent           Units  NaN  NaN        ...         46.51   \n",
       " \n",
       "       2010   2011   2012   2013   2014   2015   2016   2017 Years with values  \n",
       " 163  46.99  47.55  48.41  48.82  48.99  49.03  49.06  49.06                18  \n",
       " \n",
       " [1 rows x 43 columns], '16.3':    Unnamed: 0    Category                              Indicator Description  \\\n",
       " 44        173  Population  Unsentenced detainees as a proportion of overa...   \n",
       " \n",
       "    Goal Target Indicator Ref     Unit Unit multiplier 1984 1985  \\\n",
       " 44   16   16.3        16.3.2  Percent           Units  NaN  NaN   \n",
       " \n",
       "           ...        2009 2010 2011 2012 2013 2014 2015 2016 2017  \\\n",
       " 44        ...         NaN  NaN  NaN  NaN  NaN  NaN   31  NaN  NaN   \n",
       " \n",
       "    Years with values  \n",
       " 44                 2  \n",
       " \n",
       " [1 rows x 43 columns], '16.a':    Unnamed: 0    Category                              Indicator Description  \\\n",
       " 45        174  Population  Existence of independent national human rights...   \n",
       " \n",
       "    Goal Target Indicator Ref     Unit Unit multiplier 1984 1985  \\\n",
       " 45   16   16.a        16.a.1  Percent           Units  NaN  NaN   \n",
       " \n",
       "           ...        2009  2010 2011 2012 2013 2014  2015  2016 2017  \\\n",
       " 45        ...         NaN  32.9  NaN  NaN  NaN  NaN  35.5  36.5  NaN   \n",
       " \n",
       "    Years with values  \n",
       " 45                 5  \n",
       " \n",
       " [1 rows x 43 columns], '17.19':      Unnamed: 0   Category                              Indicator Description  \\\n",
       " 141          36  E&P (USD)  Dollar value of all resources made available t...   \n",
       " \n",
       "      Goal Target Indicator Ref Unit Unit multiplier  1984  1985  \\\n",
       " 141    17  17.19       17.19.1  USD           Units   NaN   NaN   \n",
       " \n",
       "            ...                 2009         2010         2011         2012  \\\n",
       " 141        ...          140684730.4  351996221.8  483067124.0  208600838.5   \n",
       " \n",
       "             2013         2014  2015  2016  2017  Years with values  \n",
       " 141  443106234.3  349844367.5   NaN   NaN   NaN                  9  \n",
       " \n",
       " [1 rows x 43 columns], '17.2':      Unnamed: 0       Category  \\\n",
       " 140          20  E&P (Percent)   \n",
       " \n",
       "                                  Indicator Description  Goal Target  \\\n",
       " 140  Net official development assistance, total and...    17   17.2   \n",
       " \n",
       "     Indicator Ref          Unit Unit multiplier  1984  1985  \\\n",
       " 140        17.2.1  Constant USD        Billions   NaN   NaN   \n",
       " \n",
       "            ...              2009      2010     2011      2012      2013  \\\n",
       " 140        ...          0.000114  0.000121  0.00012  0.000115  0.000122   \n",
       " \n",
       "          2014      2015      2016  2017  Years with values  \n",
       " 140  0.000124  0.000132  0.000143   NaN                 17  \n",
       " \n",
       " [1 rows x 43 columns], '17.3':      Unnamed: 0       Category  \\\n",
       " 119          21  E&P (Percent)   \n",
       " \n",
       "                                  Indicator Description  Goal Target  \\\n",
       " 119  Volume of remittances (in United States dollar...    17   17.3   \n",
       " \n",
       "     Indicator Ref     Unit Unit multiplier  1984  1985        ...          \\\n",
       " 119        17.3.2  Percent           Units   NaN   NaN        ...           \n",
       " \n",
       "      2009  2010  2011  2012  2013  2014  2015  2016  2017  Years with values  \n",
       " 119  0.66  0.65  0.65  0.67  0.69  0.71  0.76   NaN   NaN                 16  \n",
       " \n",
       " [1 rows x 43 columns], '17.8':    Unnamed: 0    Category                         Indicator Description Goal  \\\n",
       " 47        176  Population  Proportion of individuals using the Internet   17   \n",
       " \n",
       "    Target Indicator Ref     Unit Unit multiplier 1984 1985        ...         \\\n",
       " 47   17.8        17.8.1  Percent           Units  NaN  NaN        ...          \n",
       " \n",
       "      2009   2010   2011  2012   2013   2014   2015 2016 2017 Years with values  \n",
       " 47  25.66  29.11  31.69  34.8  37.18  40.49  43.75  NaN  NaN                16  \n",
       " \n",
       " [1 rows x 43 columns], '2.1':    Unnamed: 0              Category           Indicator Description Goal  \\\n",
       " 48        177  Population (Percent)  Prevalence of undernourishment    2   \n",
       " \n",
       "    Target Indicator Ref     Unit Unit multiplier 1984 1985        ...         \\\n",
       " 48    2.1         2.1.1  Percent           Units  NaN  NaN        ...          \n",
       " \n",
       "     2009  2010  2011  2012  2013 2014  2015 2016 2017 Years with values  \n",
       " 48  12.5  12.1  11.8  11.4  11.2   11  10.8  NaN  NaN                25  \n",
       " \n",
       " [1 rows x 43 columns], '3.1':    Unnamed: 0    Category     Indicator Description Goal Target Indicator Ref  \\\n",
       " 57        114  Population  Maternal mortality ratio    3    3.1         3.1.1   \n",
       " \n",
       "        Unit Unit multiplier 1984 1985        ...        2009  2010 2011 2012  \\\n",
       " 57  Percent           Units  NaN  NaN        ...         NaN  24.6  NaN  NaN   \n",
       " \n",
       "    2013 2014  2015 2016 2017 Years with values  \n",
       " 57  NaN  NaN  21.6  NaN  NaN                 4  \n",
       " \n",
       " [1 rows x 43 columns], '3.3':    Unnamed: 0    Category                          Indicator Description Goal  \\\n",
       " 60        117  Population  Tuberculosis incidence per 100,000 population    3   \n",
       " \n",
       "    Target Indicator Ref     Unit Unit multiplier 1984 1985        ...         \\\n",
       " 60    3.3         3.3.2  Percent           Units  NaN  NaN        ...          \n",
       " \n",
       "     2009  2010  2011 2012  2013  2014  2015 2016 2017 Years with values  \n",
       " 60  15.9  15.5  15.3   15  14.7  14.4  14.2  NaN  NaN                16  \n",
       " \n",
       " [1 rows x 43 columns], '3.4':     Unnamed: 0    Category   Indicator Description  Goal Target Indicator Ref  \\\n",
       " 64         121  Population  Suicide mortality rate     3    3.4         3.4.2   \n",
       " \n",
       "        Unit Unit multiplier  1984  1985        ...          2009   2010  2011  \\\n",
       " 64  Percent           Units   NaN   NaN        ...           NaN  1.123   NaN   \n",
       " \n",
       "     2012  2013  2014   2015  2016  2017  Years with values  \n",
       " 64   NaN   NaN   NaN  1.073   NaN   NaN                  4  \n",
       " \n",
       " [1 rows x 43 columns], '3.6':     Unnamed: 0    Category                    Indicator Description  Goal  \\\n",
       " 65         123  Population  Death rate due to road traffic injuries     3   \n",
       " \n",
       "    Target Indicator Ref     Unit Unit multiplier  1984  1985  \\\n",
       " 65    3.6         3.6.1  Percent           Units   NaN   NaN   \n",
       " \n",
       "           ...          2009  2010  2011  2012  2013  2014  2015  2016  2017  \\\n",
       " 65        ...           NaN   1.8   NaN   NaN  1.74   NaN   NaN   NaN   NaN   \n",
       " \n",
       "     Years with values  \n",
       " 65                  4  \n",
       " \n",
       " [1 rows x 43 columns], '3.9':     Unnamed: 0    Category                              Indicator Description  \\\n",
       " 70         128  Population  Mortality rate attributed to unintentional poi...   \n",
       " \n",
       "     Goal Target Indicator Ref     Unit Unit multiplier  1984  1985  \\\n",
       " 70     3    3.9         3.9.3  Percent           Units   NaN   NaN   \n",
       " \n",
       "           ...          2009  2010  2011  2012  2013  2014   2015  2016  2017  \\\n",
       " 70        ...           NaN  0.16   NaN   NaN   NaN   NaN  0.147   NaN   NaN   \n",
       " \n",
       "     Years with values  \n",
       " 70                  4  \n",
       " \n",
       " [1 rows x 43 columns], '4.2':   Unnamed: 0    Category                              Indicator Description  \\\n",
       " 9        129  Population  Participation rate in organized learning (one ...   \n",
       " \n",
       "   Goal Target Indicator Ref     Unit Unit multiplier 1984 1985  \\\n",
       " 9    4    4.2         4.2.2  Percent           Units  NaN  NaN   \n",
       " \n",
       "          ...          2009   2010   2011   2012  2013   2014 2015 2016 2017  \\\n",
       " 9        ...         59.41  60.44  62.64  64.64  65.2  66.59  NaN  NaN  NaN   \n",
       " \n",
       "   Years with values  \n",
       " 9                12  \n",
       " \n",
       " [1 rows x 43 columns], '6.1':    Unnamed: 0    Category                              Indicator Description  \\\n",
       " 10        130  Population  Proportion of population using safely managed ...   \n",
       " \n",
       "    Goal Target Indicator Ref     Unit Unit multiplier 1984 1985  \\\n",
       " 10    6    6.1         6.1.1  Percent           Units  NaN  NaN   \n",
       " \n",
       "           ...          2009   2010   2011   2012   2013   2014   2015 2016  \\\n",
       " 10        ...         54.02  55.55  55.91  55.77  55.22  55.03  54.81  NaN   \n",
       " \n",
       "    2017 Years with values  \n",
       " 10  NaN                16  \n",
       " \n",
       " [1 rows x 43 columns], '6.2':    Unnamed: 0    Category                              Indicator Description  \\\n",
       " 13        133  Population  Proportion of population using safely managed ...   \n",
       " \n",
       "    Goal Target Indicator Ref     Unit Unit multiplier 1984 1985  \\\n",
       " 13    6    6.2         6.2.1  Percent           Units  NaN  NaN   \n",
       " \n",
       "           ...          2009   2010   2011   2012   2013   2014   2015 2016  \\\n",
       " 13        ...         28.29  27.58  26.97  26.23  25.48  24.73  23.97  NaN   \n",
       " \n",
       "    2017 Years with values  \n",
       " 13  NaN                16  \n",
       " \n",
       " [1 rows x 43 columns], '6.b':    Unnamed: 0    Category                              Indicator Description  \\\n",
       " 25        151  Population  Proportion of local administrative units with ...   \n",
       " \n",
       "    Goal Target Indicator Ref     Unit Unit multiplier 1984 1985  \\\n",
       " 25    6    6.b         6.b.1  Percent           Units  NaN  NaN   \n",
       " \n",
       "           ...        2009 2010 2011 2012 2013   2014 2015 2016   2017  \\\n",
       " 25        ...         NaN  NaN  NaN  NaN  NaN  22.34  NaN  NaN  21.62   \n",
       " \n",
       "    Years with values  \n",
       " 25                 2  \n",
       " \n",
       " [1 rows x 43 columns], '7.1':    Unnamed: 0    Category                              Indicator Description  \\\n",
       " 37        163  Population  Proportion of population with access to electr...   \n",
       " \n",
       "    Goal Target Indicator Ref     Unit Unit multiplier 1984 1985  \\\n",
       " 37    7    7.1         7.1.1  Percent           Units  NaN  NaN   \n",
       " \n",
       "           ...        2009  2010 2011 2012 2013   2014 2015 2016 2017  \\\n",
       " 37        ...         NaN  70.2  NaN  NaN  NaN  73.04  NaN  NaN  NaN   \n",
       " \n",
       "    Years with values  \n",
       " 37                 4  \n",
       " \n",
       " [1 rows x 43 columns], '7.2':      Unnamed: 0               Category  \\\n",
       " 143          38  Environment (Percent)   \n",
       " \n",
       "                                  Indicator Description  Goal Target  \\\n",
       " 143  Renewable energy share in the total final ener...     7    7.2   \n",
       " \n",
       "     Indicator Ref     Unit Unit multiplier  1984  1985        ...          \\\n",
       " 143         7.2.1  Percent           Units   NaN   NaN        ...           \n",
       " \n",
       "       2009   2010   2011   2012   2013   2014  2015  2016  2017  \\\n",
       " 143  17.71  17.51  17.54  17.91  18.19  18.33   NaN   NaN   NaN   \n",
       " \n",
       "      Years with values  \n",
       " 143                 15  \n",
       " \n",
       " [1 rows x 43 columns], '8.1':      Unnamed: 0       Category                      Indicator Description  \\\n",
       " 113           8  E&P (Percent)  Annual growth rate of real GDP per capita   \n",
       " \n",
       "      Goal Target Indicator Ref     Unit Unit multiplier  1984  1985  \\\n",
       " 113     8    8.1         8.1.1  Percent           Units   NaN   NaN   \n",
       " \n",
       "            ...          2009  2010  2011  2012  2013  2014  2015  2016  2017  \\\n",
       " 113        ...         -3.24  2.82  1.62  1.01  1.08  1.35  1.45   NaN   NaN   \n",
       " \n",
       "      Years with values  \n",
       " 113                 16  \n",
       " \n",
       " [1 rows x 43 columns], '8.2':      Unnamed: 0       Category  \\\n",
       " 114           9  E&P (Percent)   \n",
       " \n",
       "                                  Indicator Description  Goal Target  \\\n",
       " 114  Annual growth rate of real GDP per employed pe...     8    8.2   \n",
       " \n",
       "     Indicator Ref     Unit Unit multiplier  1984  1985        ...          \\\n",
       " 114         8.2.1  Percent           Units   NaN   NaN        ...           \n",
       " \n",
       "      2009  2010  2011  2012  2013  2014  2015  2016  2017  Years with values  \n",
       " 114 -0.71  4.07  2.66   1.9  1.93   1.8  1.67   1.8   NaN                 17  \n",
       " \n",
       " [1 rows x 43 columns], '8.4':     Unnamed: 0              Category  \\\n",
       " 174         74  Environment (Tonnes)   \n",
       " \n",
       "                                  Indicator Description Goal Target  \\\n",
       " 174  Material footprint, material footprint per cap...    8    8.4   \n",
       " \n",
       "     Indicator Ref         Unit Unit multiplier 1984 1985        ...         \\\n",
       " 174         8.4.1  Metric Tons           Units  NaN  NaN        ...          \n",
       " \n",
       "      2009  2010 2011 2012 2013 2014 2015 2016 2017 Years with values  \n",
       " 174  9.69  10.1  NaN  NaN  NaN  NaN  NaN  NaN  NaN                11  \n",
       " \n",
       " [1 rows x 43 columns], '9.2':     Unnamed: 0       Category  \\\n",
       " 115         10  E&P (Percent)   \n",
       " \n",
       "                                  Indicator Description Goal Target  \\\n",
       " 115  Manufacturing value added as a proportion of G...    9    9.2   \n",
       " \n",
       "     Indicator Ref     Unit Unit multiplier 1984 1985        ...          2009  \\\n",
       " 115         9.2.1  Percent           Units  NaN  NaN        ...         14.99   \n",
       " \n",
       "       2010   2011   2012   2013   2014   2015   2016 2017 Years with values  \n",
       " 115  15.81  15.97  15.94  15.99  16.03  16.11  16.16  NaN                17  \n",
       " \n",
       " [1 rows x 43 columns], '9.4':     Unnamed: 0              Category                 Indicator Description  \\\n",
       " 191         95  Environment (Tonnes)  CO2 emission per unit of value added   \n",
       " \n",
       "     Goal Target Indicator Ref         Unit Unit multiplier 1984 1985  \\\n",
       " 191    9    9.4         9.4.1  Metric Tons           Units  NaN  NaN   \n",
       " \n",
       "            ...                2009         2010         2011         2012  \\\n",
       " 191        ...         2.87486e+10  3.04504e+10  3.13544e+10  3.15929e+10   \n",
       " \n",
       "             2013        2014 2015 2016 2017 Years with values  \n",
       " 191  3.21294e+10  3.2381e+10  NaN  NaN  NaN                15  \n",
       " \n",
       " [1 rows x 43 columns], '9.5':     Unnamed: 0    Category                              Indicator Description  \\\n",
       " 103        167  Population  Researchers (in full-time equivalent) per mill...   \n",
       " \n",
       "     Goal Target Indicator Ref     Unit Unit multiplier 1984 1985  \\\n",
       " 103    9    9.5         9.5.2  Percent        Millions  NaN  NaN   \n",
       " \n",
       "            ...            2009     2010     2011     2012     2013     2014  \\\n",
       " 103        ...         100.752  101.895  104.668  106.636  108.754  109.838   \n",
       " \n",
       "     2015 2016 2017 Years with values  \n",
       " 103  NaN  NaN  NaN                15  \n",
       " \n",
       " [1 rows x 43 columns], '9.c':    Unnamed: 0    Category                              Indicator Description  \\\n",
       " 41        168  Population  Proportion of population covered by a mobile n...   \n",
       " \n",
       "    Goal Target Indicator Ref     Unit Unit multiplier 1984 1985  \\\n",
       " 41    9    9.c         9.c.1  Percent           Units  NaN  NaN   \n",
       " \n",
       "           ...          2009   2010   2011   2012   2013   2014   2015 2016  \\\n",
       " 41        ...         87.32  87.84  92.55  93.04  95.54  95.81  95.64  NaN   \n",
       " \n",
       "    2017 Years with values  \n",
       " 41  NaN                16  \n",
       " \n",
       " [1 rows x 43 columns]}"
      ]
     },
     "execution_count": 18,
     "metadata": {},
     "output_type": "execute_result"
    }
   ],
   "source": [
    "max_dfrows"
   ]
  },
  {
   "cell_type": "code",
   "execution_count": 19,
   "metadata": {},
   "outputs": [
    {
     "data": {
      "text/plain": [
       "[    Unnamed: 0    Category                    Indicator Description  Goal  \\\n",
       " 65         123  Population  Death rate due to road traffic injuries     3   \n",
       " \n",
       "    Target Indicator Ref     Unit Unit multiplier  1984  1985  \\\n",
       " 65    3.6         3.6.1  Percent           Units   NaN   NaN   \n",
       " \n",
       "           ...          2009  2010  2011  2012  2013  2014  2015  2016  2017  \\\n",
       " 65        ...           NaN   1.8   NaN   NaN  1.74   NaN   NaN   NaN   NaN   \n",
       " \n",
       "     Years with values  \n",
       " 65                  4  \n",
       " \n",
       " [1 rows x 43 columns],\n",
       "    Unnamed: 0    Category                              Indicator Description  \\\n",
       " 13        133  Population  Proportion of population using safely managed ...   \n",
       " \n",
       "    Goal Target Indicator Ref     Unit Unit multiplier 1984 1985  \\\n",
       " 13    6    6.2         6.2.1  Percent           Units  NaN  NaN   \n",
       " \n",
       "           ...          2009   2010   2011   2012   2013   2014   2015 2016  \\\n",
       " 13        ...         28.29  27.58  26.97  26.23  25.48  24.73  23.97  NaN   \n",
       " \n",
       "    2017 Years with values  \n",
       " 13  NaN                16  \n",
       " \n",
       " [1 rows x 43 columns],\n",
       "      Unnamed: 0               Category  \\\n",
       " 143          38  Environment (Percent)   \n",
       " \n",
       "                                  Indicator Description  Goal Target  \\\n",
       " 143  Renewable energy share in the total final ener...     7    7.2   \n",
       " \n",
       "     Indicator Ref     Unit Unit multiplier  1984  1985        ...          \\\n",
       " 143         7.2.1  Percent           Units   NaN   NaN        ...           \n",
       " \n",
       "       2009   2010   2011   2012   2013   2014  2015  2016  2017  \\\n",
       " 143  17.71  17.51  17.54  17.91  18.19  18.33   NaN   NaN   NaN   \n",
       " \n",
       "      Years with values  \n",
       " 143                 15  \n",
       " \n",
       " [1 rows x 43 columns],\n",
       "      Unnamed: 0       Category  \\\n",
       " 117          13  E&P (Percent)   \n",
       " \n",
       "                                  Indicator Description  Goal Target  \\\n",
       " 117  Remittance costs as a proportion of the amount...    10   10.c   \n",
       " \n",
       "     Indicator Ref     Unit Unit multiplier  1984  1985        ...          \\\n",
       " 117        10.c.1  Percent           Units   NaN   NaN        ...           \n",
       " \n",
       "      2009  2010  2011  2012  2013  2014  2015  2016  2017  Years with values  \n",
       " 117   NaN   NaN   8.9   9.0   8.6   8.2   7.5   NaN   NaN                  5  \n",
       " \n",
       " [1 rows x 43 columns],\n",
       "    Unnamed: 0    Category     Indicator Description Goal Target Indicator Ref  \\\n",
       " 57        114  Population  Maternal mortality ratio    3    3.1         3.1.1   \n",
       " \n",
       "        Unit Unit multiplier 1984 1985        ...        2009  2010 2011 2012  \\\n",
       " 57  Percent           Units  NaN  NaN        ...         NaN  24.6  NaN  NaN   \n",
       " \n",
       "    2013 2014  2015 2016 2017 Years with values  \n",
       " 57  NaN  NaN  21.6  NaN  NaN                 4  \n",
       " \n",
       " [1 rows x 43 columns],\n",
       "      Unnamed: 0       Category  \\\n",
       " 114           9  E&P (Percent)   \n",
       " \n",
       "                                  Indicator Description  Goal Target  \\\n",
       " 114  Annual growth rate of real GDP per employed pe...     8    8.2   \n",
       " \n",
       "     Indicator Ref     Unit Unit multiplier  1984  1985        ...          \\\n",
       " 114         8.2.1  Percent           Units   NaN   NaN        ...           \n",
       " \n",
       "      2009  2010  2011  2012  2013  2014  2015  2016  2017  Years with values  \n",
       " 114 -0.71  4.07  2.66   1.9  1.93   1.8  1.67   1.8   NaN                 17  \n",
       " \n",
       " [1 rows x 43 columns],\n",
       "    Unnamed: 0    Category                         Indicator Description Goal  \\\n",
       " 47        176  Population  Proportion of individuals using the Internet   17   \n",
       " \n",
       "    Target Indicator Ref     Unit Unit multiplier 1984 1985        ...         \\\n",
       " 47   17.8        17.8.1  Percent           Units  NaN  NaN        ...          \n",
       " \n",
       "      2009   2010   2011  2012   2013   2014   2015 2016 2017 Years with values  \n",
       " 47  25.66  29.11  31.69  34.8  37.18  40.49  43.75  NaN  NaN                16  \n",
       " \n",
       " [1 rows x 43 columns],\n",
       "     Unnamed: 0       Category  \\\n",
       " 115         10  E&P (Percent)   \n",
       " \n",
       "                                  Indicator Description Goal Target  \\\n",
       " 115  Manufacturing value added as a proportion of G...    9    9.2   \n",
       " \n",
       "     Indicator Ref     Unit Unit multiplier 1984 1985        ...          2009  \\\n",
       " 115         9.2.1  Percent           Units  NaN  NaN        ...         14.99   \n",
       " \n",
       "       2010   2011   2012   2013   2014   2015   2016 2017 Years with values  \n",
       " 115  15.81  15.97  15.94  15.99  16.03  16.11  16.16  NaN                17  \n",
       " \n",
       " [1 rows x 43 columns],\n",
       "    Unnamed: 0    Category                              Indicator Description  \\\n",
       " 41        168  Population  Proportion of population covered by a mobile n...   \n",
       " \n",
       "    Goal Target Indicator Ref     Unit Unit multiplier 1984 1985  \\\n",
       " 41    9    9.c         9.c.1  Percent           Units  NaN  NaN   \n",
       " \n",
       "           ...          2009   2010   2011   2012   2013   2014   2015 2016  \\\n",
       " 41        ...         87.32  87.84  92.55  93.04  95.54  95.81  95.64  NaN   \n",
       " \n",
       "    2017 Years with values  \n",
       " 41  NaN                16  \n",
       " \n",
       " [1 rows x 43 columns],\n",
       "     Unnamed: 0              Category                 Indicator Description  \\\n",
       " 191         95  Environment (Tonnes)  CO2 emission per unit of value added   \n",
       " \n",
       "     Goal Target Indicator Ref         Unit Unit multiplier 1984 1985  \\\n",
       " 191    9    9.4         9.4.1  Metric Tons           Units  NaN  NaN   \n",
       " \n",
       "            ...                2009         2010         2011         2012  \\\n",
       " 191        ...         2.87486e+10  3.04504e+10  3.13544e+10  3.15929e+10   \n",
       " \n",
       "             2013        2014 2015 2016 2017 Years with values  \n",
       " 191  3.21294e+10  3.2381e+10  NaN  NaN  NaN                15  \n",
       " \n",
       " [1 rows x 43 columns],\n",
       "     Unnamed: 0               Category  \\\n",
       " 163         62  Environment (Percent)   \n",
       " \n",
       "                                  Indicator Description Goal Target  \\\n",
       " 163  Coverage by protected areas of important sites...   15   15.4   \n",
       " \n",
       "     Indicator Ref     Unit Unit multiplier 1984 1985        ...          2009  \\\n",
       " 163        15.4.1  Percent           Units  NaN  NaN        ...         46.51   \n",
       " \n",
       "       2010   2011   2012   2013   2014   2015   2016   2017 Years with values  \n",
       " 163  46.99  47.55  48.41  48.82  48.99  49.03  49.06  49.06                18  \n",
       " \n",
       " [1 rows x 43 columns],\n",
       "    Unnamed: 0    Category                              Indicator Description  \\\n",
       " 45        174  Population  Existence of independent national human rights...   \n",
       " \n",
       "    Goal Target Indicator Ref     Unit Unit multiplier 1984 1985  \\\n",
       " 45   16   16.a        16.a.1  Percent           Units  NaN  NaN   \n",
       " \n",
       "           ...        2009  2010 2011 2012 2013 2014  2015  2016 2017  \\\n",
       " 45        ...         NaN  32.9  NaN  NaN  NaN  NaN  35.5  36.5  NaN   \n",
       " \n",
       "    Years with values  \n",
       " 45                 5  \n",
       " \n",
       " [1 rows x 43 columns],\n",
       "     Unnamed: 0               Category  \\\n",
       " 151         46  Environment (percent)   \n",
       " \n",
       "                                  Indicator Description Goal Target  \\\n",
       " 151  Proportion of fish stocks within biologically ...   14   14.4   \n",
       " \n",
       "     Indicator Ref     Unit Unit multiplier 1984   1985        ...         \\\n",
       " 151        14.4.1  Percent           Units  NaN  50.27        ...          \n",
       " \n",
       "       2009 2010   2011 2012   2013 2014 2015 2016 2017 Years with values  \n",
       " 151  57.47  NaN  61.28  NaN  58.11  NaN  NaN  NaN  NaN                14  \n",
       " \n",
       " [1 rows x 43 columns],\n",
       "    Unnamed: 0    Category                              Indicator Description  \\\n",
       " 37        163  Population  Proportion of population with access to electr...   \n",
       " \n",
       "    Goal Target Indicator Ref     Unit Unit multiplier 1984 1985  \\\n",
       " 37    7    7.1         7.1.1  Percent           Units  NaN  NaN   \n",
       " \n",
       "           ...        2009  2010 2011 2012 2013   2014 2015 2016 2017  \\\n",
       " 37        ...         NaN  70.2  NaN  NaN  NaN  73.04  NaN  NaN  NaN   \n",
       " \n",
       "    Years with values  \n",
       " 37                 4  \n",
       " \n",
       " [1 rows x 43 columns],\n",
       "    Unnamed: 0              Category           Indicator Description Goal  \\\n",
       " 48        177  Population (Percent)  Prevalence of undernourishment    2   \n",
       " \n",
       "    Target Indicator Ref     Unit Unit multiplier 1984 1985        ...         \\\n",
       " 48    2.1         2.1.1  Percent           Units  NaN  NaN        ...          \n",
       " \n",
       "     2009  2010  2011  2012  2013 2014  2015 2016 2017 Years with values  \n",
       " 48  12.5  12.1  11.8  11.4  11.2   11  10.8  NaN  NaN                25  \n",
       " \n",
       " [1 rows x 43 columns],\n",
       "      Unnamed: 0       Category  \\\n",
       " 119          21  E&P (Percent)   \n",
       " \n",
       "                                  Indicator Description  Goal Target  \\\n",
       " 119  Volume of remittances (in United States dollar...    17   17.3   \n",
       " \n",
       "     Indicator Ref     Unit Unit multiplier  1984  1985        ...          \\\n",
       " 119        17.3.2  Percent           Units   NaN   NaN        ...           \n",
       " \n",
       "      2009  2010  2011  2012  2013  2014  2015  2016  2017  Years with values  \n",
       " 119  0.66  0.65  0.65  0.67  0.69  0.71  0.76   NaN   NaN                 16  \n",
       " \n",
       " [1 rows x 43 columns],\n",
       "     Unnamed: 0              Category  \\\n",
       " 169        102  Environment (Tonnes)   \n",
       " \n",
       "                               Indicator Description Goal Target Indicator Ref  \\\n",
       " 169  Progress towards sustainable forest management   15   15.2        15.2.1   \n",
       " \n",
       "         Unit Unit multiplier 1984 1985        ...        2009  2010 2011 2012  \\\n",
       " 169  Percent           Units  NaN  NaN        ...         NaN  7.09  NaN  NaN   \n",
       " \n",
       "     2013   2014 2015 2016 2017 Years with values  \n",
       " 169  NaN  11.01  NaN  NaN  NaN                 2  \n",
       " \n",
       " [1 rows x 43 columns],\n",
       "     Unnamed: 0    Category                              Indicator Description  \\\n",
       " 70         128  Population  Mortality rate attributed to unintentional poi...   \n",
       " \n",
       "     Goal Target Indicator Ref     Unit Unit multiplier  1984  1985  \\\n",
       " 70     3    3.9         3.9.3  Percent           Units   NaN   NaN   \n",
       " \n",
       "           ...          2009  2010  2011  2012  2013  2014   2015  2016  2017  \\\n",
       " 70        ...           NaN  0.16   NaN   NaN   NaN   NaN  0.147   NaN   NaN   \n",
       " \n",
       "     Years with values  \n",
       " 70                  4  \n",
       " \n",
       " [1 rows x 43 columns],\n",
       "     Unnamed: 0               Category  \\\n",
       " 157         56  Environment (percent)   \n",
       " \n",
       "                                  Indicator Description Goal Target  \\\n",
       " 157  Proportion of important sites for terrestrial ...   15   15.1   \n",
       " \n",
       "     Indicator Ref     Unit Unit multiplier 1984 1985        ...         2009  \\\n",
       " 157        15.1.2  Percent           Units  NaN  NaN        ...         41.7   \n",
       " \n",
       "       2010   2011  2012   2013   2014   2015   2016   2017 Years with values  \n",
       " 157  41.93  42.18  42.7  43.01  43.19  43.23  43.23  43.23                18  \n",
       " \n",
       " [1 rows x 43 columns],\n",
       "     Unnamed: 0    Category   Indicator Description  Goal Target Indicator Ref  \\\n",
       " 64         121  Population  Suicide mortality rate     3    3.4         3.4.2   \n",
       " \n",
       "        Unit Unit multiplier  1984  1985        ...          2009   2010  2011  \\\n",
       " 64  Percent           Units   NaN   NaN        ...           NaN  1.123   NaN   \n",
       " \n",
       "     2012  2013  2014   2015  2016  2017  Years with values  \n",
       " 64   NaN   NaN   NaN  1.073   NaN   NaN                  4  \n",
       " \n",
       " [1 rows x 43 columns],\n",
       "      Unnamed: 0   Category                              Indicator Description  \\\n",
       " 141          36  E&P (USD)  Dollar value of all resources made available t...   \n",
       " \n",
       "      Goal Target Indicator Ref Unit Unit multiplier  1984  1985  \\\n",
       " 141    17  17.19       17.19.1  USD           Units   NaN   NaN   \n",
       " \n",
       "            ...                 2009         2010         2011         2012  \\\n",
       " 141        ...          140684730.4  351996221.8  483067124.0  208600838.5   \n",
       " \n",
       "             2013         2014  2015  2016  2017  Years with values  \n",
       " 141  443106234.3  349844367.5   NaN   NaN   NaN                  9  \n",
       " \n",
       " [1 rows x 43 columns],\n",
       "   Unnamed: 0    Category                              Indicator Description  \\\n",
       " 9        129  Population  Participation rate in organized learning (one ...   \n",
       " \n",
       "   Goal Target Indicator Ref     Unit Unit multiplier 1984 1985  \\\n",
       " 9    4    4.2         4.2.2  Percent           Units  NaN  NaN   \n",
       " \n",
       "          ...          2009   2010   2011   2012  2013   2014 2015 2016 2017  \\\n",
       " 9        ...         59.41  60.44  62.64  64.64  65.2  66.59  NaN  NaN  NaN   \n",
       " \n",
       "   Years with values  \n",
       " 9                12  \n",
       " \n",
       " [1 rows x 43 columns],\n",
       "      Unnamed: 0       Category  \\\n",
       " 140          20  E&P (Percent)   \n",
       " \n",
       "                                  Indicator Description  Goal Target  \\\n",
       " 140  Net official development assistance, total and...    17   17.2   \n",
       " \n",
       "     Indicator Ref          Unit Unit multiplier  1984  1985  \\\n",
       " 140        17.2.1  Constant USD        Billions   NaN   NaN   \n",
       " \n",
       "            ...              2009      2010     2011      2012      2013  \\\n",
       " 140        ...          0.000114  0.000121  0.00012  0.000115  0.000122   \n",
       " \n",
       "          2014      2015      2016  2017  Years with values  \n",
       " 140  0.000124  0.000132  0.000143   NaN                 17  \n",
       " \n",
       " [1 rows x 43 columns],\n",
       "    Unnamed: 0    Category                              Indicator Description  \\\n",
       " 10        130  Population  Proportion of population using safely managed ...   \n",
       " \n",
       "    Goal Target Indicator Ref     Unit Unit multiplier 1984 1985  \\\n",
       " 10    6    6.1         6.1.1  Percent           Units  NaN  NaN   \n",
       " \n",
       "           ...          2009   2010   2011   2012   2013   2014   2015 2016  \\\n",
       " 10        ...         54.02  55.55  55.91  55.77  55.22  55.03  54.81  NaN   \n",
       " \n",
       "    2017 Years with values  \n",
       " 10  NaN                16  \n",
       " \n",
       " [1 rows x 43 columns],\n",
       "      Unnamed: 0               Category  \\\n",
       " 155          50  Environment (percent)   \n",
       " \n",
       "                                  Indicator Description  Goal Target  \\\n",
       " 155  Coverage of protected areas in relation to mar...    14   14.5   \n",
       " \n",
       "     Indicator Ref     Unit Unit multiplier  1984  1985        ...          \\\n",
       " 155        14.5.1  Percent           Units   NaN   NaN        ...           \n",
       " \n",
       "      2009  2010  2011  2012  2013  2014   2015   2016  2017  Years with values  \n",
       " 155   NaN  7.44   NaN   NaN   NaN   NaN  11.92  12.74   NaN                  5  \n",
       " \n",
       " [1 rows x 43 columns],\n",
       "     Unnamed: 0              Category  \\\n",
       " 174         74  Environment (Tonnes)   \n",
       " \n",
       "                                  Indicator Description Goal Target  \\\n",
       " 174  Material footprint, material footprint per cap...    8    8.4   \n",
       " \n",
       "     Indicator Ref         Unit Unit multiplier 1984 1985        ...         \\\n",
       " 174         8.4.1  Metric Tons           Units  NaN  NaN        ...          \n",
       " \n",
       "      2009  2010 2011 2012 2013 2014 2015 2016 2017 Years with values  \n",
       " 174  9.69  10.1  NaN  NaN  NaN  NaN  NaN  NaN  NaN                11  \n",
       " \n",
       " [1 rows x 43 columns],\n",
       "    Unnamed: 0    Category                          Indicator Description Goal  \\\n",
       " 60        117  Population  Tuberculosis incidence per 100,000 population    3   \n",
       " \n",
       "    Target Indicator Ref     Unit Unit multiplier 1984 1985        ...         \\\n",
       " 60    3.3         3.3.2  Percent           Units  NaN  NaN        ...          \n",
       " \n",
       "     2009  2010  2011 2012  2013  2014  2015 2016 2017 Years with values  \n",
       " 60  15.9  15.5  15.3   15  14.7  14.4  14.2  NaN  NaN                16  \n",
       " \n",
       " [1 rows x 43 columns],\n",
       "     Unnamed: 0              Category  \\\n",
       " 177         77  Environment (Tonnes)   \n",
       " \n",
       "                                  Indicator Description Goal Target  \\\n",
       " 177  Material footprint, material footprint per cap...   12   12.2   \n",
       " \n",
       "     Indicator Ref         Unit Unit multiplier 1984 1985        ...         \\\n",
       " 177        12.2.1  Metric Tons           Units  NaN  NaN        ...          \n",
       " \n",
       "      2009  2010 2011 2012 2013 2014 2015 2016 2017 Years with values  \n",
       " 177  9.69  10.1  NaN  NaN  NaN  NaN  NaN  NaN  NaN                11  \n",
       " \n",
       " [1 rows x 43 columns],\n",
       "   Unnamed: 0    Category                              Indicator Description  \\\n",
       " 0        106  Population  Proportion of population below the internation...   \n",
       " \n",
       "   Goal Target Indicator Ref     Unit Unit multiplier 1984 1985  \\\n",
       " 0    1    1.1         1.1.1  Percent           Units  NaN  NaN   \n",
       " \n",
       "          ...        2009 2010 2011 2012  2013 2014 2015 2016 2017  \\\n",
       " 0        ...         NaN  NaN  NaN  NaN  10.7  NaN  NaN  NaN  NaN   \n",
       " \n",
       "   Years with values  \n",
       " 0                 2  \n",
       " \n",
       " [1 rows x 43 columns],\n",
       "    Unnamed: 0    Category                              Indicator Description  \\\n",
       " 25        151  Population  Proportion of local administrative units with ...   \n",
       " \n",
       "    Goal Target Indicator Ref     Unit Unit multiplier 1984 1985  \\\n",
       " 25    6    6.b         6.b.1  Percent           Units  NaN  NaN   \n",
       " \n",
       "           ...        2009 2010 2011 2012 2013   2014 2015 2016   2017  \\\n",
       " 25        ...         NaN  NaN  NaN  NaN  NaN  22.34  NaN  NaN  21.62   \n",
       " \n",
       "    Years with values  \n",
       " 25                 2  \n",
       " \n",
       " [1 rows x 43 columns],\n",
       "     Unnamed: 0    Category                              Indicator Description  \\\n",
       " 103        167  Population  Researchers (in full-time equivalent) per mill...   \n",
       " \n",
       "     Goal Target Indicator Ref     Unit Unit multiplier 1984 1985  \\\n",
       " 103    9    9.5         9.5.2  Percent        Millions  NaN  NaN   \n",
       " \n",
       "            ...            2009     2010     2011     2012     2013     2014  \\\n",
       " 103        ...         100.752  101.895  104.668  106.636  108.754  109.838   \n",
       " \n",
       "     2015 2016 2017 Years with values  \n",
       " 103  NaN  NaN  NaN                15  \n",
       " \n",
       " [1 rows x 43 columns],\n",
       "    Unnamed: 0    Category                              Indicator Description  \\\n",
       " 44        173  Population  Unsentenced detainees as a proportion of overa...   \n",
       " \n",
       "    Goal Target Indicator Ref     Unit Unit multiplier 1984 1985  \\\n",
       " 44   16   16.3        16.3.2  Percent           Units  NaN  NaN   \n",
       " \n",
       "           ...        2009 2010 2011 2012 2013 2014 2015 2016 2017  \\\n",
       " 44        ...         NaN  NaN  NaN  NaN  NaN  NaN   31  NaN  NaN   \n",
       " \n",
       "    Years with values  \n",
       " 44                 2  \n",
       " \n",
       " [1 rows x 43 columns],\n",
       "      Unnamed: 0       Category                      Indicator Description  \\\n",
       " 113           8  E&P (Percent)  Annual growth rate of real GDP per capita   \n",
       " \n",
       "      Goal Target Indicator Ref     Unit Unit multiplier  1984  1985  \\\n",
       " 113     8    8.1         8.1.1  Percent           Units   NaN   NaN   \n",
       " \n",
       "            ...          2009  2010  2011  2012  2013  2014  2015  2016  2017  \\\n",
       " 113        ...         -3.24  2.82  1.62  1.01  1.08  1.35  1.45   NaN   NaN   \n",
       " \n",
       "      Years with values  \n",
       " 113                 16  \n",
       " \n",
       " [1 rows x 43 columns]]"
      ]
     },
     "execution_count": 19,
     "metadata": {},
     "output_type": "execute_result"
    }
   ],
   "source": [
    "frames = list(max_dfrows[target] for target in targets)\n",
    "frames"
   ]
  },
  {
   "cell_type": "code",
   "execution_count": 20,
   "metadata": {
    "collapsed": true
   },
   "outputs": [],
   "source": [
    "final_df = pd.concat(frames, axis=0)"
   ]
  },
  {
   "cell_type": "code",
   "execution_count": 21,
   "metadata": {
    "scrolled": false
   },
   "outputs": [
    {
     "data": {
      "text/html": [
       "<div>\n",
       "<style>\n",
       "    .dataframe thead tr:only-child th {\n",
       "        text-align: right;\n",
       "    }\n",
       "\n",
       "    .dataframe thead th {\n",
       "        text-align: left;\n",
       "    }\n",
       "\n",
       "    .dataframe tbody tr th {\n",
       "        vertical-align: top;\n",
       "    }\n",
       "</style>\n",
       "<table border=\"1\" class=\"dataframe\">\n",
       "  <thead>\n",
       "    <tr style=\"text-align: right;\">\n",
       "      <th></th>\n",
       "      <th>Unnamed: 0</th>\n",
       "      <th>Category</th>\n",
       "      <th>Indicator Description</th>\n",
       "      <th>Goal</th>\n",
       "      <th>Target</th>\n",
       "      <th>Indicator Ref</th>\n",
       "      <th>Unit</th>\n",
       "      <th>Unit multiplier</th>\n",
       "      <th>1984</th>\n",
       "      <th>1985</th>\n",
       "      <th>...</th>\n",
       "      <th>2009</th>\n",
       "      <th>2010</th>\n",
       "      <th>2011</th>\n",
       "      <th>2012</th>\n",
       "      <th>2013</th>\n",
       "      <th>2014</th>\n",
       "      <th>2015</th>\n",
       "      <th>2016</th>\n",
       "      <th>2017</th>\n",
       "      <th>Years with values</th>\n",
       "    </tr>\n",
       "  </thead>\n",
       "  <tbody>\n",
       "    <tr>\n",
       "      <th>65</th>\n",
       "      <td>123</td>\n",
       "      <td>Population</td>\n",
       "      <td>Death rate due to road traffic injuries</td>\n",
       "      <td>3</td>\n",
       "      <td>3.6</td>\n",
       "      <td>3.6.1</td>\n",
       "      <td>Percent</td>\n",
       "      <td>Units</td>\n",
       "      <td>NaN</td>\n",
       "      <td>NaN</td>\n",
       "      <td>...</td>\n",
       "      <td>NaN</td>\n",
       "      <td>1.8</td>\n",
       "      <td>NaN</td>\n",
       "      <td>NaN</td>\n",
       "      <td>1.74</td>\n",
       "      <td>NaN</td>\n",
       "      <td>NaN</td>\n",
       "      <td>NaN</td>\n",
       "      <td>NaN</td>\n",
       "      <td>4</td>\n",
       "    </tr>\n",
       "    <tr>\n",
       "      <th>13</th>\n",
       "      <td>133</td>\n",
       "      <td>Population</td>\n",
       "      <td>Proportion of population using safely managed ...</td>\n",
       "      <td>6</td>\n",
       "      <td>6.2</td>\n",
       "      <td>6.2.1</td>\n",
       "      <td>Percent</td>\n",
       "      <td>Units</td>\n",
       "      <td>NaN</td>\n",
       "      <td>NaN</td>\n",
       "      <td>...</td>\n",
       "      <td>28.29</td>\n",
       "      <td>27.58</td>\n",
       "      <td>26.97</td>\n",
       "      <td>26.23</td>\n",
       "      <td>25.48</td>\n",
       "      <td>24.73</td>\n",
       "      <td>23.97</td>\n",
       "      <td>NaN</td>\n",
       "      <td>NaN</td>\n",
       "      <td>16</td>\n",
       "    </tr>\n",
       "    <tr>\n",
       "      <th>143</th>\n",
       "      <td>38</td>\n",
       "      <td>Environment (Percent)</td>\n",
       "      <td>Renewable energy share in the total final ener...</td>\n",
       "      <td>7</td>\n",
       "      <td>7.2</td>\n",
       "      <td>7.2.1</td>\n",
       "      <td>Percent</td>\n",
       "      <td>Units</td>\n",
       "      <td>NaN</td>\n",
       "      <td>NaN</td>\n",
       "      <td>...</td>\n",
       "      <td>17.71</td>\n",
       "      <td>17.51</td>\n",
       "      <td>17.54</td>\n",
       "      <td>17.91</td>\n",
       "      <td>18.19</td>\n",
       "      <td>18.33</td>\n",
       "      <td>NaN</td>\n",
       "      <td>NaN</td>\n",
       "      <td>NaN</td>\n",
       "      <td>15</td>\n",
       "    </tr>\n",
       "    <tr>\n",
       "      <th>117</th>\n",
       "      <td>13</td>\n",
       "      <td>E&amp;P (Percent)</td>\n",
       "      <td>Remittance costs as a proportion of the amount...</td>\n",
       "      <td>10</td>\n",
       "      <td>10.c</td>\n",
       "      <td>10.c.1</td>\n",
       "      <td>Percent</td>\n",
       "      <td>Units</td>\n",
       "      <td>NaN</td>\n",
       "      <td>NaN</td>\n",
       "      <td>...</td>\n",
       "      <td>NaN</td>\n",
       "      <td>NaN</td>\n",
       "      <td>8.9</td>\n",
       "      <td>9</td>\n",
       "      <td>8.6</td>\n",
       "      <td>8.2</td>\n",
       "      <td>7.5</td>\n",
       "      <td>NaN</td>\n",
       "      <td>NaN</td>\n",
       "      <td>5</td>\n",
       "    </tr>\n",
       "    <tr>\n",
       "      <th>57</th>\n",
       "      <td>114</td>\n",
       "      <td>Population</td>\n",
       "      <td>Maternal mortality ratio</td>\n",
       "      <td>3</td>\n",
       "      <td>3.1</td>\n",
       "      <td>3.1.1</td>\n",
       "      <td>Percent</td>\n",
       "      <td>Units</td>\n",
       "      <td>NaN</td>\n",
       "      <td>NaN</td>\n",
       "      <td>...</td>\n",
       "      <td>NaN</td>\n",
       "      <td>24.6</td>\n",
       "      <td>NaN</td>\n",
       "      <td>NaN</td>\n",
       "      <td>NaN</td>\n",
       "      <td>NaN</td>\n",
       "      <td>21.6</td>\n",
       "      <td>NaN</td>\n",
       "      <td>NaN</td>\n",
       "      <td>4</td>\n",
       "    </tr>\n",
       "  </tbody>\n",
       "</table>\n",
       "<p>5 rows × 43 columns</p>\n",
       "</div>"
      ],
      "text/plain": [
       "    Unnamed: 0               Category  \\\n",
       "65         123             Population   \n",
       "13         133             Population   \n",
       "143         38  Environment (Percent)   \n",
       "117         13          E&P (Percent)   \n",
       "57         114             Population   \n",
       "\n",
       "                                 Indicator Description Goal Target  \\\n",
       "65             Death rate due to road traffic injuries    3    3.6   \n",
       "13   Proportion of population using safely managed ...    6    6.2   \n",
       "143  Renewable energy share in the total final ener...    7    7.2   \n",
       "117  Remittance costs as a proportion of the amount...   10   10.c   \n",
       "57                            Maternal mortality ratio    3    3.1   \n",
       "\n",
       "    Indicator Ref     Unit Unit multiplier 1984 1985        ...          2009  \\\n",
       "65          3.6.1  Percent           Units  NaN  NaN        ...           NaN   \n",
       "13          6.2.1  Percent           Units  NaN  NaN        ...         28.29   \n",
       "143         7.2.1  Percent           Units  NaN  NaN        ...         17.71   \n",
       "117        10.c.1  Percent           Units  NaN  NaN        ...           NaN   \n",
       "57          3.1.1  Percent           Units  NaN  NaN        ...           NaN   \n",
       "\n",
       "      2010   2011   2012   2013   2014   2015 2016 2017 Years with values  \n",
       "65     1.8    NaN    NaN   1.74    NaN    NaN  NaN  NaN                 4  \n",
       "13   27.58  26.97  26.23  25.48  24.73  23.97  NaN  NaN                16  \n",
       "143  17.51  17.54  17.91  18.19  18.33    NaN  NaN  NaN                15  \n",
       "117    NaN    8.9      9    8.6    8.2    7.5  NaN  NaN                 5  \n",
       "57    24.6    NaN    NaN    NaN    NaN   21.6  NaN  NaN                 4  \n",
       "\n",
       "[5 rows x 43 columns]"
      ]
     },
     "execution_count": 21,
     "metadata": {},
     "output_type": "execute_result"
    }
   ],
   "source": [
    "final_df.head()"
   ]
  },
  {
   "cell_type": "markdown",
   "metadata": {},
   "source": [
    "### clean-up data frames"
   ]
  },
  {
   "cell_type": "code",
   "execution_count": 22,
   "metadata": {},
   "outputs": [],
   "source": [
    "# Drop unused columns, transpose \n",
    "final_df.drop(['Unnamed: 0', 'Category', 'Indicator Description', 'Goal', 'Indicator Ref', 'Unit',\n",
    "              'Unit multiplier', 'Years with values'], inplace=True, axis=1)\n",
    "\n",
    "final_df = final_df.set_index('Target')\n",
    "\n",
    "final_t = final_df.T\n",
    "\n",
    "targets = list(final_t.columns)"
   ]
  },
  {
   "cell_type": "code",
   "execution_count": 23,
   "metadata": {
    "scrolled": true
   },
   "outputs": [
    {
     "data": {
      "text/html": [
       "<div>\n",
       "<style>\n",
       "    .dataframe thead tr:only-child th {\n",
       "        text-align: right;\n",
       "    }\n",
       "\n",
       "    .dataframe thead th {\n",
       "        text-align: left;\n",
       "    }\n",
       "\n",
       "    .dataframe tbody tr th {\n",
       "        vertical-align: top;\n",
       "    }\n",
       "</style>\n",
       "<table border=\"1\" class=\"dataframe\">\n",
       "  <thead>\n",
       "    <tr style=\"text-align: right;\">\n",
       "      <th>Target</th>\n",
       "      <th>3.6</th>\n",
       "      <th>6.2</th>\n",
       "      <th>7.2</th>\n",
       "      <th>10.c</th>\n",
       "      <th>3.1</th>\n",
       "      <th>8.2</th>\n",
       "      <th>17.8</th>\n",
       "      <th>9.2</th>\n",
       "      <th>9.c</th>\n",
       "      <th>9.4</th>\n",
       "      <th>...</th>\n",
       "      <th>6.1</th>\n",
       "      <th>14.5</th>\n",
       "      <th>8.4</th>\n",
       "      <th>3.3</th>\n",
       "      <th>12.2</th>\n",
       "      <th>1.1</th>\n",
       "      <th>6.b</th>\n",
       "      <th>9.5</th>\n",
       "      <th>16.3</th>\n",
       "      <th>8.1</th>\n",
       "    </tr>\n",
       "  </thead>\n",
       "  <tbody>\n",
       "    <tr>\n",
       "      <th>1984</th>\n",
       "      <td>NaN</td>\n",
       "      <td>NaN</td>\n",
       "      <td>NaN</td>\n",
       "      <td>NaN</td>\n",
       "      <td>NaN</td>\n",
       "      <td>NaN</td>\n",
       "      <td>NaN</td>\n",
       "      <td>NaN</td>\n",
       "      <td>NaN</td>\n",
       "      <td>NaN</td>\n",
       "      <td>...</td>\n",
       "      <td>NaN</td>\n",
       "      <td>NaN</td>\n",
       "      <td>NaN</td>\n",
       "      <td>NaN</td>\n",
       "      <td>NaN</td>\n",
       "      <td>NaN</td>\n",
       "      <td>NaN</td>\n",
       "      <td>NaN</td>\n",
       "      <td>NaN</td>\n",
       "      <td>NaN</td>\n",
       "    </tr>\n",
       "    <tr>\n",
       "      <th>1985</th>\n",
       "      <td>NaN</td>\n",
       "      <td>NaN</td>\n",
       "      <td>NaN</td>\n",
       "      <td>NaN</td>\n",
       "      <td>NaN</td>\n",
       "      <td>NaN</td>\n",
       "      <td>NaN</td>\n",
       "      <td>NaN</td>\n",
       "      <td>NaN</td>\n",
       "      <td>NaN</td>\n",
       "      <td>...</td>\n",
       "      <td>NaN</td>\n",
       "      <td>NaN</td>\n",
       "      <td>NaN</td>\n",
       "      <td>NaN</td>\n",
       "      <td>NaN</td>\n",
       "      <td>NaN</td>\n",
       "      <td>NaN</td>\n",
       "      <td>NaN</td>\n",
       "      <td>NaN</td>\n",
       "      <td>NaN</td>\n",
       "    </tr>\n",
       "    <tr>\n",
       "      <th>1986</th>\n",
       "      <td>NaN</td>\n",
       "      <td>NaN</td>\n",
       "      <td>NaN</td>\n",
       "      <td>NaN</td>\n",
       "      <td>NaN</td>\n",
       "      <td>NaN</td>\n",
       "      <td>NaN</td>\n",
       "      <td>NaN</td>\n",
       "      <td>NaN</td>\n",
       "      <td>NaN</td>\n",
       "      <td>...</td>\n",
       "      <td>NaN</td>\n",
       "      <td>NaN</td>\n",
       "      <td>NaN</td>\n",
       "      <td>NaN</td>\n",
       "      <td>NaN</td>\n",
       "      <td>NaN</td>\n",
       "      <td>NaN</td>\n",
       "      <td>NaN</td>\n",
       "      <td>NaN</td>\n",
       "      <td>NaN</td>\n",
       "    </tr>\n",
       "    <tr>\n",
       "      <th>1987</th>\n",
       "      <td>NaN</td>\n",
       "      <td>NaN</td>\n",
       "      <td>NaN</td>\n",
       "      <td>NaN</td>\n",
       "      <td>NaN</td>\n",
       "      <td>NaN</td>\n",
       "      <td>NaN</td>\n",
       "      <td>NaN</td>\n",
       "      <td>NaN</td>\n",
       "      <td>NaN</td>\n",
       "      <td>...</td>\n",
       "      <td>NaN</td>\n",
       "      <td>NaN</td>\n",
       "      <td>NaN</td>\n",
       "      <td>NaN</td>\n",
       "      <td>NaN</td>\n",
       "      <td>NaN</td>\n",
       "      <td>NaN</td>\n",
       "      <td>NaN</td>\n",
       "      <td>NaN</td>\n",
       "      <td>NaN</td>\n",
       "    </tr>\n",
       "    <tr>\n",
       "      <th>1988</th>\n",
       "      <td>NaN</td>\n",
       "      <td>NaN</td>\n",
       "      <td>NaN</td>\n",
       "      <td>NaN</td>\n",
       "      <td>NaN</td>\n",
       "      <td>NaN</td>\n",
       "      <td>NaN</td>\n",
       "      <td>NaN</td>\n",
       "      <td>NaN</td>\n",
       "      <td>NaN</td>\n",
       "      <td>...</td>\n",
       "      <td>NaN</td>\n",
       "      <td>NaN</td>\n",
       "      <td>NaN</td>\n",
       "      <td>NaN</td>\n",
       "      <td>NaN</td>\n",
       "      <td>NaN</td>\n",
       "      <td>NaN</td>\n",
       "      <td>NaN</td>\n",
       "      <td>NaN</td>\n",
       "      <td>NaN</td>\n",
       "    </tr>\n",
       "    <tr>\n",
       "      <th>1989</th>\n",
       "      <td>NaN</td>\n",
       "      <td>NaN</td>\n",
       "      <td>NaN</td>\n",
       "      <td>NaN</td>\n",
       "      <td>NaN</td>\n",
       "      <td>NaN</td>\n",
       "      <td>NaN</td>\n",
       "      <td>NaN</td>\n",
       "      <td>NaN</td>\n",
       "      <td>NaN</td>\n",
       "      <td>...</td>\n",
       "      <td>NaN</td>\n",
       "      <td>NaN</td>\n",
       "      <td>NaN</td>\n",
       "      <td>NaN</td>\n",
       "      <td>NaN</td>\n",
       "      <td>NaN</td>\n",
       "      <td>NaN</td>\n",
       "      <td>NaN</td>\n",
       "      <td>NaN</td>\n",
       "      <td>NaN</td>\n",
       "    </tr>\n",
       "    <tr>\n",
       "      <th>1990</th>\n",
       "      <td>NaN</td>\n",
       "      <td>NaN</td>\n",
       "      <td>NaN</td>\n",
       "      <td>NaN</td>\n",
       "      <td>NaN</td>\n",
       "      <td>NaN</td>\n",
       "      <td>NaN</td>\n",
       "      <td>NaN</td>\n",
       "      <td>NaN</td>\n",
       "      <td>NaN</td>\n",
       "      <td>...</td>\n",
       "      <td>NaN</td>\n",
       "      <td>NaN</td>\n",
       "      <td>NaN</td>\n",
       "      <td>NaN</td>\n",
       "      <td>NaN</td>\n",
       "      <td>NaN</td>\n",
       "      <td>NaN</td>\n",
       "      <td>NaN</td>\n",
       "      <td>NaN</td>\n",
       "      <td>NaN</td>\n",
       "    </tr>\n",
       "    <tr>\n",
       "      <th>1991</th>\n",
       "      <td>NaN</td>\n",
       "      <td>NaN</td>\n",
       "      <td>NaN</td>\n",
       "      <td>NaN</td>\n",
       "      <td>NaN</td>\n",
       "      <td>NaN</td>\n",
       "      <td>NaN</td>\n",
       "      <td>NaN</td>\n",
       "      <td>NaN</td>\n",
       "      <td>NaN</td>\n",
       "      <td>...</td>\n",
       "      <td>NaN</td>\n",
       "      <td>NaN</td>\n",
       "      <td>NaN</td>\n",
       "      <td>NaN</td>\n",
       "      <td>NaN</td>\n",
       "      <td>NaN</td>\n",
       "      <td>NaN</td>\n",
       "      <td>NaN</td>\n",
       "      <td>NaN</td>\n",
       "      <td>NaN</td>\n",
       "    </tr>\n",
       "    <tr>\n",
       "      <th>1992</th>\n",
       "      <td>NaN</td>\n",
       "      <td>NaN</td>\n",
       "      <td>NaN</td>\n",
       "      <td>NaN</td>\n",
       "      <td>NaN</td>\n",
       "      <td>NaN</td>\n",
       "      <td>NaN</td>\n",
       "      <td>NaN</td>\n",
       "      <td>NaN</td>\n",
       "      <td>NaN</td>\n",
       "      <td>...</td>\n",
       "      <td>NaN</td>\n",
       "      <td>NaN</td>\n",
       "      <td>NaN</td>\n",
       "      <td>NaN</td>\n",
       "      <td>NaN</td>\n",
       "      <td>NaN</td>\n",
       "      <td>NaN</td>\n",
       "      <td>NaN</td>\n",
       "      <td>NaN</td>\n",
       "      <td>NaN</td>\n",
       "    </tr>\n",
       "    <tr>\n",
       "      <th>1993</th>\n",
       "      <td>NaN</td>\n",
       "      <td>NaN</td>\n",
       "      <td>NaN</td>\n",
       "      <td>NaN</td>\n",
       "      <td>NaN</td>\n",
       "      <td>NaN</td>\n",
       "      <td>NaN</td>\n",
       "      <td>NaN</td>\n",
       "      <td>NaN</td>\n",
       "      <td>NaN</td>\n",
       "      <td>...</td>\n",
       "      <td>NaN</td>\n",
       "      <td>NaN</td>\n",
       "      <td>NaN</td>\n",
       "      <td>NaN</td>\n",
       "      <td>NaN</td>\n",
       "      <td>NaN</td>\n",
       "      <td>NaN</td>\n",
       "      <td>NaN</td>\n",
       "      <td>NaN</td>\n",
       "      <td>NaN</td>\n",
       "    </tr>\n",
       "    <tr>\n",
       "      <th>1994</th>\n",
       "      <td>NaN</td>\n",
       "      <td>NaN</td>\n",
       "      <td>NaN</td>\n",
       "      <td>NaN</td>\n",
       "      <td>NaN</td>\n",
       "      <td>NaN</td>\n",
       "      <td>NaN</td>\n",
       "      <td>NaN</td>\n",
       "      <td>NaN</td>\n",
       "      <td>NaN</td>\n",
       "      <td>...</td>\n",
       "      <td>NaN</td>\n",
       "      <td>NaN</td>\n",
       "      <td>NaN</td>\n",
       "      <td>NaN</td>\n",
       "      <td>NaN</td>\n",
       "      <td>NaN</td>\n",
       "      <td>NaN</td>\n",
       "      <td>NaN</td>\n",
       "      <td>NaN</td>\n",
       "      <td>NaN</td>\n",
       "    </tr>\n",
       "    <tr>\n",
       "      <th>1995</th>\n",
       "      <td>NaN</td>\n",
       "      <td>NaN</td>\n",
       "      <td>NaN</td>\n",
       "      <td>NaN</td>\n",
       "      <td>NaN</td>\n",
       "      <td>NaN</td>\n",
       "      <td>NaN</td>\n",
       "      <td>NaN</td>\n",
       "      <td>NaN</td>\n",
       "      <td>NaN</td>\n",
       "      <td>...</td>\n",
       "      <td>NaN</td>\n",
       "      <td>NaN</td>\n",
       "      <td>NaN</td>\n",
       "      <td>NaN</td>\n",
       "      <td>NaN</td>\n",
       "      <td>NaN</td>\n",
       "      <td>NaN</td>\n",
       "      <td>NaN</td>\n",
       "      <td>NaN</td>\n",
       "      <td>NaN</td>\n",
       "    </tr>\n",
       "    <tr>\n",
       "      <th>1996</th>\n",
       "      <td>NaN</td>\n",
       "      <td>NaN</td>\n",
       "      <td>NaN</td>\n",
       "      <td>NaN</td>\n",
       "      <td>NaN</td>\n",
       "      <td>NaN</td>\n",
       "      <td>NaN</td>\n",
       "      <td>NaN</td>\n",
       "      <td>NaN</td>\n",
       "      <td>NaN</td>\n",
       "      <td>...</td>\n",
       "      <td>NaN</td>\n",
       "      <td>NaN</td>\n",
       "      <td>NaN</td>\n",
       "      <td>NaN</td>\n",
       "      <td>NaN</td>\n",
       "      <td>NaN</td>\n",
       "      <td>NaN</td>\n",
       "      <td>NaN</td>\n",
       "      <td>NaN</td>\n",
       "      <td>NaN</td>\n",
       "    </tr>\n",
       "    <tr>\n",
       "      <th>1997</th>\n",
       "      <td>NaN</td>\n",
       "      <td>NaN</td>\n",
       "      <td>NaN</td>\n",
       "      <td>NaN</td>\n",
       "      <td>NaN</td>\n",
       "      <td>NaN</td>\n",
       "      <td>NaN</td>\n",
       "      <td>NaN</td>\n",
       "      <td>NaN</td>\n",
       "      <td>NaN</td>\n",
       "      <td>...</td>\n",
       "      <td>NaN</td>\n",
       "      <td>NaN</td>\n",
       "      <td>NaN</td>\n",
       "      <td>NaN</td>\n",
       "      <td>NaN</td>\n",
       "      <td>NaN</td>\n",
       "      <td>NaN</td>\n",
       "      <td>NaN</td>\n",
       "      <td>NaN</td>\n",
       "      <td>NaN</td>\n",
       "    </tr>\n",
       "    <tr>\n",
       "      <th>1998</th>\n",
       "      <td>NaN</td>\n",
       "      <td>NaN</td>\n",
       "      <td>NaN</td>\n",
       "      <td>NaN</td>\n",
       "      <td>NaN</td>\n",
       "      <td>NaN</td>\n",
       "      <td>NaN</td>\n",
       "      <td>NaN</td>\n",
       "      <td>NaN</td>\n",
       "      <td>NaN</td>\n",
       "      <td>...</td>\n",
       "      <td>NaN</td>\n",
       "      <td>NaN</td>\n",
       "      <td>NaN</td>\n",
       "      <td>NaN</td>\n",
       "      <td>NaN</td>\n",
       "      <td>NaN</td>\n",
       "      <td>NaN</td>\n",
       "      <td>NaN</td>\n",
       "      <td>NaN</td>\n",
       "      <td>NaN</td>\n",
       "    </tr>\n",
       "    <tr>\n",
       "      <th>1999</th>\n",
       "      <td>NaN</td>\n",
       "      <td>NaN</td>\n",
       "      <td>NaN</td>\n",
       "      <td>NaN</td>\n",
       "      <td>NaN</td>\n",
       "      <td>NaN</td>\n",
       "      <td>NaN</td>\n",
       "      <td>NaN</td>\n",
       "      <td>NaN</td>\n",
       "      <td>NaN</td>\n",
       "      <td>...</td>\n",
       "      <td>NaN</td>\n",
       "      <td>NaN</td>\n",
       "      <td>NaN</td>\n",
       "      <td>NaN</td>\n",
       "      <td>NaN</td>\n",
       "      <td>28</td>\n",
       "      <td>NaN</td>\n",
       "      <td>NaN</td>\n",
       "      <td>NaN</td>\n",
       "      <td>NaN</td>\n",
       "    </tr>\n",
       "    <tr>\n",
       "      <th>2000</th>\n",
       "      <td>1.8</td>\n",
       "      <td>33.76</td>\n",
       "      <td>17.45</td>\n",
       "      <td>NaN</td>\n",
       "      <td>34.1</td>\n",
       "      <td>2.86</td>\n",
       "      <td>6.56</td>\n",
       "      <td>15.15</td>\n",
       "      <td>78.61</td>\n",
       "      <td>2.31445e+10</td>\n",
       "      <td>...</td>\n",
       "      <td>40.95</td>\n",
       "      <td>1.72</td>\n",
       "      <td>8</td>\n",
       "      <td>17.2</td>\n",
       "      <td>8</td>\n",
       "      <td>NaN</td>\n",
       "      <td>NaN</td>\n",
       "      <td>80.637</td>\n",
       "      <td>NaN</td>\n",
       "      <td>3.01</td>\n",
       "    </tr>\n",
       "    <tr>\n",
       "      <th>2001</th>\n",
       "      <td>NaN</td>\n",
       "      <td>33.27</td>\n",
       "      <td>17.28</td>\n",
       "      <td>NaN</td>\n",
       "      <td>NaN</td>\n",
       "      <td>0.89</td>\n",
       "      <td>8.1</td>\n",
       "      <td>14.87</td>\n",
       "      <td>56.19</td>\n",
       "      <td>2.3482e+10</td>\n",
       "      <td>...</td>\n",
       "      <td>41.31</td>\n",
       "      <td>NaN</td>\n",
       "      <td>8.04</td>\n",
       "      <td>17.2</td>\n",
       "      <td>8.04</td>\n",
       "      <td>NaN</td>\n",
       "      <td>NaN</td>\n",
       "      <td>82.431</td>\n",
       "      <td>NaN</td>\n",
       "      <td>0.61</td>\n",
       "    </tr>\n",
       "    <tr>\n",
       "      <th>2002</th>\n",
       "      <td>NaN</td>\n",
       "      <td>32.72</td>\n",
       "      <td>17.29</td>\n",
       "      <td>NaN</td>\n",
       "      <td>NaN</td>\n",
       "      <td>1.45</td>\n",
       "      <td>10.71</td>\n",
       "      <td>14.81</td>\n",
       "      <td>56.9</td>\n",
       "      <td>2.38841e+10</td>\n",
       "      <td>...</td>\n",
       "      <td>42.84</td>\n",
       "      <td>NaN</td>\n",
       "      <td>8.1</td>\n",
       "      <td>17.2</td>\n",
       "      <td>8.1</td>\n",
       "      <td>NaN</td>\n",
       "      <td>NaN</td>\n",
       "      <td>83.458</td>\n",
       "      <td>NaN</td>\n",
       "      <td>0.86</td>\n",
       "    </tr>\n",
       "    <tr>\n",
       "      <th>2003</th>\n",
       "      <td>NaN</td>\n",
       "      <td>32.15</td>\n",
       "      <td>17.16</td>\n",
       "      <td>NaN</td>\n",
       "      <td>NaN</td>\n",
       "      <td>1.97</td>\n",
       "      <td>12.37</td>\n",
       "      <td>15.05</td>\n",
       "      <td>58.31</td>\n",
       "      <td>2.49326e+10</td>\n",
       "      <td>...</td>\n",
       "      <td>44.23</td>\n",
       "      <td>NaN</td>\n",
       "      <td>8.42</td>\n",
       "      <td>17.2</td>\n",
       "      <td>8.42</td>\n",
       "      <td>NaN</td>\n",
       "      <td>NaN</td>\n",
       "      <td>86.36</td>\n",
       "      <td>NaN</td>\n",
       "      <td>1.55</td>\n",
       "    </tr>\n",
       "    <tr>\n",
       "      <th>2004</th>\n",
       "      <td>NaN</td>\n",
       "      <td>31.58</td>\n",
       "      <td>16.89</td>\n",
       "      <td>NaN</td>\n",
       "      <td>NaN</td>\n",
       "      <td>3.42</td>\n",
       "      <td>14.26</td>\n",
       "      <td>15.26</td>\n",
       "      <td>60.74</td>\n",
       "      <td>2.61102e+10</td>\n",
       "      <td>...</td>\n",
       "      <td>45.69</td>\n",
       "      <td>NaN</td>\n",
       "      <td>8.77</td>\n",
       "      <td>17</td>\n",
       "      <td>8.77</td>\n",
       "      <td>NaN</td>\n",
       "      <td>NaN</td>\n",
       "      <td>87.311</td>\n",
       "      <td>NaN</td>\n",
       "      <td>2.81</td>\n",
       "    </tr>\n",
       "    <tr>\n",
       "      <th>2005</th>\n",
       "      <td>1.88</td>\n",
       "      <td>30.97</td>\n",
       "      <td>16.91</td>\n",
       "      <td>NaN</td>\n",
       "      <td>28.8</td>\n",
       "      <td>2.77</td>\n",
       "      <td>15.76</td>\n",
       "      <td>15.28</td>\n",
       "      <td>63.7</td>\n",
       "      <td>2.70377e+10</td>\n",
       "      <td>...</td>\n",
       "      <td>47.97</td>\n",
       "      <td>2.89</td>\n",
       "      <td>9.1</td>\n",
       "      <td>16.9</td>\n",
       "      <td>9.1</td>\n",
       "      <td>NaN</td>\n",
       "      <td>NaN</td>\n",
       "      <td>90.737</td>\n",
       "      <td>32</td>\n",
       "      <td>2.35</td>\n",
       "    </tr>\n",
       "    <tr>\n",
       "      <th>2006</th>\n",
       "      <td>NaN</td>\n",
       "      <td>30.32</td>\n",
       "      <td>16.97</td>\n",
       "      <td>NaN</td>\n",
       "      <td>NaN</td>\n",
       "      <td>3.85</td>\n",
       "      <td>17.46</td>\n",
       "      <td>15.61</td>\n",
       "      <td>79.49</td>\n",
       "      <td>2.78903e+10</td>\n",
       "      <td>...</td>\n",
       "      <td>49.46</td>\n",
       "      <td>NaN</td>\n",
       "      <td>9.42</td>\n",
       "      <td>16.6</td>\n",
       "      <td>9.42</td>\n",
       "      <td>NaN</td>\n",
       "      <td>NaN</td>\n",
       "      <td>92.935</td>\n",
       "      <td>NaN</td>\n",
       "      <td>2.77</td>\n",
       "    </tr>\n",
       "    <tr>\n",
       "      <th>2007</th>\n",
       "      <td>NaN</td>\n",
       "      <td>29.66</td>\n",
       "      <td>16.91</td>\n",
       "      <td>NaN</td>\n",
       "      <td>NaN</td>\n",
       "      <td>3.79</td>\n",
       "      <td>20.54</td>\n",
       "      <td>15.84</td>\n",
       "      <td>82.64</td>\n",
       "      <td>2.89898e+10</td>\n",
       "      <td>...</td>\n",
       "      <td>50.98</td>\n",
       "      <td>NaN</td>\n",
       "      <td>9.8</td>\n",
       "      <td>16.4</td>\n",
       "      <td>9.8</td>\n",
       "      <td>NaN</td>\n",
       "      <td>NaN</td>\n",
       "      <td>95.845</td>\n",
       "      <td>NaN</td>\n",
       "      <td>2.61</td>\n",
       "    </tr>\n",
       "    <tr>\n",
       "      <th>2008</th>\n",
       "      <td>NaN</td>\n",
       "      <td>28.98</td>\n",
       "      <td>17.14</td>\n",
       "      <td>NaN</td>\n",
       "      <td>NaN</td>\n",
       "      <td>1.83</td>\n",
       "      <td>23.18</td>\n",
       "      <td>15.74</td>\n",
       "      <td>84.22</td>\n",
       "      <td>2.91648e+10</td>\n",
       "      <td>...</td>\n",
       "      <td>52.49</td>\n",
       "      <td>NaN</td>\n",
       "      <td>9.78</td>\n",
       "      <td>16.1</td>\n",
       "      <td>9.78</td>\n",
       "      <td>NaN</td>\n",
       "      <td>NaN</td>\n",
       "      <td>98.358</td>\n",
       "      <td>NaN</td>\n",
       "      <td>0.2</td>\n",
       "    </tr>\n",
       "    <tr>\n",
       "      <th>2009</th>\n",
       "      <td>NaN</td>\n",
       "      <td>28.29</td>\n",
       "      <td>17.71</td>\n",
       "      <td>NaN</td>\n",
       "      <td>NaN</td>\n",
       "      <td>-0.71</td>\n",
       "      <td>25.66</td>\n",
       "      <td>14.99</td>\n",
       "      <td>87.32</td>\n",
       "      <td>2.87486e+10</td>\n",
       "      <td>...</td>\n",
       "      <td>54.02</td>\n",
       "      <td>NaN</td>\n",
       "      <td>9.69</td>\n",
       "      <td>15.9</td>\n",
       "      <td>9.69</td>\n",
       "      <td>NaN</td>\n",
       "      <td>NaN</td>\n",
       "      <td>100.752</td>\n",
       "      <td>NaN</td>\n",
       "      <td>-3.24</td>\n",
       "    </tr>\n",
       "    <tr>\n",
       "      <th>2010</th>\n",
       "      <td>1.8</td>\n",
       "      <td>27.58</td>\n",
       "      <td>17.51</td>\n",
       "      <td>NaN</td>\n",
       "      <td>24.6</td>\n",
       "      <td>4.07</td>\n",
       "      <td>29.11</td>\n",
       "      <td>15.81</td>\n",
       "      <td>87.84</td>\n",
       "      <td>3.04504e+10</td>\n",
       "      <td>...</td>\n",
       "      <td>55.55</td>\n",
       "      <td>7.44</td>\n",
       "      <td>10.1</td>\n",
       "      <td>15.5</td>\n",
       "      <td>10.1</td>\n",
       "      <td>NaN</td>\n",
       "      <td>NaN</td>\n",
       "      <td>101.895</td>\n",
       "      <td>NaN</td>\n",
       "      <td>2.82</td>\n",
       "    </tr>\n",
       "    <tr>\n",
       "      <th>2011</th>\n",
       "      <td>NaN</td>\n",
       "      <td>26.97</td>\n",
       "      <td>17.54</td>\n",
       "      <td>8.9</td>\n",
       "      <td>NaN</td>\n",
       "      <td>2.66</td>\n",
       "      <td>31.69</td>\n",
       "      <td>15.97</td>\n",
       "      <td>92.55</td>\n",
       "      <td>3.13544e+10</td>\n",
       "      <td>...</td>\n",
       "      <td>55.91</td>\n",
       "      <td>NaN</td>\n",
       "      <td>NaN</td>\n",
       "      <td>15.3</td>\n",
       "      <td>NaN</td>\n",
       "      <td>NaN</td>\n",
       "      <td>NaN</td>\n",
       "      <td>104.668</td>\n",
       "      <td>NaN</td>\n",
       "      <td>1.62</td>\n",
       "    </tr>\n",
       "    <tr>\n",
       "      <th>2012</th>\n",
       "      <td>NaN</td>\n",
       "      <td>26.23</td>\n",
       "      <td>17.91</td>\n",
       "      <td>9</td>\n",
       "      <td>NaN</td>\n",
       "      <td>1.9</td>\n",
       "      <td>34.8</td>\n",
       "      <td>15.94</td>\n",
       "      <td>93.04</td>\n",
       "      <td>3.15929e+10</td>\n",
       "      <td>...</td>\n",
       "      <td>55.77</td>\n",
       "      <td>NaN</td>\n",
       "      <td>NaN</td>\n",
       "      <td>15</td>\n",
       "      <td>NaN</td>\n",
       "      <td>NaN</td>\n",
       "      <td>NaN</td>\n",
       "      <td>106.636</td>\n",
       "      <td>NaN</td>\n",
       "      <td>1.01</td>\n",
       "    </tr>\n",
       "    <tr>\n",
       "      <th>2013</th>\n",
       "      <td>1.74</td>\n",
       "      <td>25.48</td>\n",
       "      <td>18.19</td>\n",
       "      <td>8.6</td>\n",
       "      <td>NaN</td>\n",
       "      <td>1.93</td>\n",
       "      <td>37.18</td>\n",
       "      <td>15.99</td>\n",
       "      <td>95.54</td>\n",
       "      <td>3.21294e+10</td>\n",
       "      <td>...</td>\n",
       "      <td>55.22</td>\n",
       "      <td>NaN</td>\n",
       "      <td>NaN</td>\n",
       "      <td>14.7</td>\n",
       "      <td>NaN</td>\n",
       "      <td>10.7</td>\n",
       "      <td>NaN</td>\n",
       "      <td>108.754</td>\n",
       "      <td>NaN</td>\n",
       "      <td>1.08</td>\n",
       "    </tr>\n",
       "    <tr>\n",
       "      <th>2014</th>\n",
       "      <td>NaN</td>\n",
       "      <td>24.73</td>\n",
       "      <td>18.33</td>\n",
       "      <td>8.2</td>\n",
       "      <td>NaN</td>\n",
       "      <td>1.8</td>\n",
       "      <td>40.49</td>\n",
       "      <td>16.03</td>\n",
       "      <td>95.81</td>\n",
       "      <td>3.2381e+10</td>\n",
       "      <td>...</td>\n",
       "      <td>55.03</td>\n",
       "      <td>NaN</td>\n",
       "      <td>NaN</td>\n",
       "      <td>14.4</td>\n",
       "      <td>NaN</td>\n",
       "      <td>NaN</td>\n",
       "      <td>22.34</td>\n",
       "      <td>109.838</td>\n",
       "      <td>NaN</td>\n",
       "      <td>1.35</td>\n",
       "    </tr>\n",
       "    <tr>\n",
       "      <th>2015</th>\n",
       "      <td>NaN</td>\n",
       "      <td>23.97</td>\n",
       "      <td>NaN</td>\n",
       "      <td>7.5</td>\n",
       "      <td>21.6</td>\n",
       "      <td>1.67</td>\n",
       "      <td>43.75</td>\n",
       "      <td>16.11</td>\n",
       "      <td>95.64</td>\n",
       "      <td>NaN</td>\n",
       "      <td>...</td>\n",
       "      <td>54.81</td>\n",
       "      <td>11.92</td>\n",
       "      <td>NaN</td>\n",
       "      <td>14.2</td>\n",
       "      <td>NaN</td>\n",
       "      <td>NaN</td>\n",
       "      <td>NaN</td>\n",
       "      <td>NaN</td>\n",
       "      <td>31</td>\n",
       "      <td>1.45</td>\n",
       "    </tr>\n",
       "    <tr>\n",
       "      <th>2016</th>\n",
       "      <td>NaN</td>\n",
       "      <td>NaN</td>\n",
       "      <td>NaN</td>\n",
       "      <td>NaN</td>\n",
       "      <td>NaN</td>\n",
       "      <td>1.8</td>\n",
       "      <td>NaN</td>\n",
       "      <td>16.16</td>\n",
       "      <td>NaN</td>\n",
       "      <td>NaN</td>\n",
       "      <td>...</td>\n",
       "      <td>NaN</td>\n",
       "      <td>12.74</td>\n",
       "      <td>NaN</td>\n",
       "      <td>NaN</td>\n",
       "      <td>NaN</td>\n",
       "      <td>NaN</td>\n",
       "      <td>NaN</td>\n",
       "      <td>NaN</td>\n",
       "      <td>NaN</td>\n",
       "      <td>NaN</td>\n",
       "    </tr>\n",
       "    <tr>\n",
       "      <th>2017</th>\n",
       "      <td>NaN</td>\n",
       "      <td>NaN</td>\n",
       "      <td>NaN</td>\n",
       "      <td>NaN</td>\n",
       "      <td>NaN</td>\n",
       "      <td>NaN</td>\n",
       "      <td>NaN</td>\n",
       "      <td>NaN</td>\n",
       "      <td>NaN</td>\n",
       "      <td>NaN</td>\n",
       "      <td>...</td>\n",
       "      <td>NaN</td>\n",
       "      <td>NaN</td>\n",
       "      <td>NaN</td>\n",
       "      <td>NaN</td>\n",
       "      <td>NaN</td>\n",
       "      <td>NaN</td>\n",
       "      <td>21.62</td>\n",
       "      <td>NaN</td>\n",
       "      <td>NaN</td>\n",
       "      <td>NaN</td>\n",
       "    </tr>\n",
       "  </tbody>\n",
       "</table>\n",
       "<p>34 rows × 33 columns</p>\n",
       "</div>"
      ],
      "text/plain": [
       "Target   3.6    6.2    7.2 10.c   3.1   8.2   17.8    9.2    9.c          9.4  \\\n",
       "1984     NaN    NaN    NaN  NaN   NaN   NaN    NaN    NaN    NaN          NaN   \n",
       "1985     NaN    NaN    NaN  NaN   NaN   NaN    NaN    NaN    NaN          NaN   \n",
       "1986     NaN    NaN    NaN  NaN   NaN   NaN    NaN    NaN    NaN          NaN   \n",
       "1987     NaN    NaN    NaN  NaN   NaN   NaN    NaN    NaN    NaN          NaN   \n",
       "1988     NaN    NaN    NaN  NaN   NaN   NaN    NaN    NaN    NaN          NaN   \n",
       "1989     NaN    NaN    NaN  NaN   NaN   NaN    NaN    NaN    NaN          NaN   \n",
       "1990     NaN    NaN    NaN  NaN   NaN   NaN    NaN    NaN    NaN          NaN   \n",
       "1991     NaN    NaN    NaN  NaN   NaN   NaN    NaN    NaN    NaN          NaN   \n",
       "1992     NaN    NaN    NaN  NaN   NaN   NaN    NaN    NaN    NaN          NaN   \n",
       "1993     NaN    NaN    NaN  NaN   NaN   NaN    NaN    NaN    NaN          NaN   \n",
       "1994     NaN    NaN    NaN  NaN   NaN   NaN    NaN    NaN    NaN          NaN   \n",
       "1995     NaN    NaN    NaN  NaN   NaN   NaN    NaN    NaN    NaN          NaN   \n",
       "1996     NaN    NaN    NaN  NaN   NaN   NaN    NaN    NaN    NaN          NaN   \n",
       "1997     NaN    NaN    NaN  NaN   NaN   NaN    NaN    NaN    NaN          NaN   \n",
       "1998     NaN    NaN    NaN  NaN   NaN   NaN    NaN    NaN    NaN          NaN   \n",
       "1999     NaN    NaN    NaN  NaN   NaN   NaN    NaN    NaN    NaN          NaN   \n",
       "2000     1.8  33.76  17.45  NaN  34.1  2.86   6.56  15.15  78.61  2.31445e+10   \n",
       "2001     NaN  33.27  17.28  NaN   NaN  0.89    8.1  14.87  56.19   2.3482e+10   \n",
       "2002     NaN  32.72  17.29  NaN   NaN  1.45  10.71  14.81   56.9  2.38841e+10   \n",
       "2003     NaN  32.15  17.16  NaN   NaN  1.97  12.37  15.05  58.31  2.49326e+10   \n",
       "2004     NaN  31.58  16.89  NaN   NaN  3.42  14.26  15.26  60.74  2.61102e+10   \n",
       "2005    1.88  30.97  16.91  NaN  28.8  2.77  15.76  15.28   63.7  2.70377e+10   \n",
       "2006     NaN  30.32  16.97  NaN   NaN  3.85  17.46  15.61  79.49  2.78903e+10   \n",
       "2007     NaN  29.66  16.91  NaN   NaN  3.79  20.54  15.84  82.64  2.89898e+10   \n",
       "2008     NaN  28.98  17.14  NaN   NaN  1.83  23.18  15.74  84.22  2.91648e+10   \n",
       "2009     NaN  28.29  17.71  NaN   NaN -0.71  25.66  14.99  87.32  2.87486e+10   \n",
       "2010     1.8  27.58  17.51  NaN  24.6  4.07  29.11  15.81  87.84  3.04504e+10   \n",
       "2011     NaN  26.97  17.54  8.9   NaN  2.66  31.69  15.97  92.55  3.13544e+10   \n",
       "2012     NaN  26.23  17.91    9   NaN   1.9   34.8  15.94  93.04  3.15929e+10   \n",
       "2013    1.74  25.48  18.19  8.6   NaN  1.93  37.18  15.99  95.54  3.21294e+10   \n",
       "2014     NaN  24.73  18.33  8.2   NaN   1.8  40.49  16.03  95.81   3.2381e+10   \n",
       "2015     NaN  23.97    NaN  7.5  21.6  1.67  43.75  16.11  95.64          NaN   \n",
       "2016     NaN    NaN    NaN  NaN   NaN   1.8    NaN  16.16    NaN          NaN   \n",
       "2017     NaN    NaN    NaN  NaN   NaN   NaN    NaN    NaN    NaN          NaN   \n",
       "\n",
       "Target  ...     6.1   14.5   8.4   3.3  12.2   1.1    6.b      9.5 16.3   8.1  \n",
       "1984    ...     NaN    NaN   NaN   NaN   NaN   NaN    NaN      NaN  NaN   NaN  \n",
       "1985    ...     NaN    NaN   NaN   NaN   NaN   NaN    NaN      NaN  NaN   NaN  \n",
       "1986    ...     NaN    NaN   NaN   NaN   NaN   NaN    NaN      NaN  NaN   NaN  \n",
       "1987    ...     NaN    NaN   NaN   NaN   NaN   NaN    NaN      NaN  NaN   NaN  \n",
       "1988    ...     NaN    NaN   NaN   NaN   NaN   NaN    NaN      NaN  NaN   NaN  \n",
       "1989    ...     NaN    NaN   NaN   NaN   NaN   NaN    NaN      NaN  NaN   NaN  \n",
       "1990    ...     NaN    NaN   NaN   NaN   NaN   NaN    NaN      NaN  NaN   NaN  \n",
       "1991    ...     NaN    NaN   NaN   NaN   NaN   NaN    NaN      NaN  NaN   NaN  \n",
       "1992    ...     NaN    NaN   NaN   NaN   NaN   NaN    NaN      NaN  NaN   NaN  \n",
       "1993    ...     NaN    NaN   NaN   NaN   NaN   NaN    NaN      NaN  NaN   NaN  \n",
       "1994    ...     NaN    NaN   NaN   NaN   NaN   NaN    NaN      NaN  NaN   NaN  \n",
       "1995    ...     NaN    NaN   NaN   NaN   NaN   NaN    NaN      NaN  NaN   NaN  \n",
       "1996    ...     NaN    NaN   NaN   NaN   NaN   NaN    NaN      NaN  NaN   NaN  \n",
       "1997    ...     NaN    NaN   NaN   NaN   NaN   NaN    NaN      NaN  NaN   NaN  \n",
       "1998    ...     NaN    NaN   NaN   NaN   NaN   NaN    NaN      NaN  NaN   NaN  \n",
       "1999    ...     NaN    NaN   NaN   NaN   NaN    28    NaN      NaN  NaN   NaN  \n",
       "2000    ...   40.95   1.72     8  17.2     8   NaN    NaN   80.637  NaN  3.01  \n",
       "2001    ...   41.31    NaN  8.04  17.2  8.04   NaN    NaN   82.431  NaN  0.61  \n",
       "2002    ...   42.84    NaN   8.1  17.2   8.1   NaN    NaN   83.458  NaN  0.86  \n",
       "2003    ...   44.23    NaN  8.42  17.2  8.42   NaN    NaN    86.36  NaN  1.55  \n",
       "2004    ...   45.69    NaN  8.77    17  8.77   NaN    NaN   87.311  NaN  2.81  \n",
       "2005    ...   47.97   2.89   9.1  16.9   9.1   NaN    NaN   90.737   32  2.35  \n",
       "2006    ...   49.46    NaN  9.42  16.6  9.42   NaN    NaN   92.935  NaN  2.77  \n",
       "2007    ...   50.98    NaN   9.8  16.4   9.8   NaN    NaN   95.845  NaN  2.61  \n",
       "2008    ...   52.49    NaN  9.78  16.1  9.78   NaN    NaN   98.358  NaN   0.2  \n",
       "2009    ...   54.02    NaN  9.69  15.9  9.69   NaN    NaN  100.752  NaN -3.24  \n",
       "2010    ...   55.55   7.44  10.1  15.5  10.1   NaN    NaN  101.895  NaN  2.82  \n",
       "2011    ...   55.91    NaN   NaN  15.3   NaN   NaN    NaN  104.668  NaN  1.62  \n",
       "2012    ...   55.77    NaN   NaN    15   NaN   NaN    NaN  106.636  NaN  1.01  \n",
       "2013    ...   55.22    NaN   NaN  14.7   NaN  10.7    NaN  108.754  NaN  1.08  \n",
       "2014    ...   55.03    NaN   NaN  14.4   NaN   NaN  22.34  109.838  NaN  1.35  \n",
       "2015    ...   54.81  11.92   NaN  14.2   NaN   NaN    NaN      NaN   31  1.45  \n",
       "2016    ...     NaN  12.74   NaN   NaN   NaN   NaN    NaN      NaN  NaN   NaN  \n",
       "2017    ...     NaN    NaN   NaN   NaN   NaN   NaN  21.62      NaN  NaN   NaN  \n",
       "\n",
       "[34 rows x 33 columns]"
      ]
     },
     "execution_count": 23,
     "metadata": {},
     "output_type": "execute_result"
    }
   ],
   "source": [
    "final_t"
   ]
  },
  {
   "cell_type": "code",
   "execution_count": 24,
   "metadata": {
    "scrolled": true
   },
   "outputs": [
    {
     "data": {
      "text/html": [
       "<div>\n",
       "<style>\n",
       "    .dataframe thead tr:only-child th {\n",
       "        text-align: right;\n",
       "    }\n",
       "\n",
       "    .dataframe thead th {\n",
       "        text-align: left;\n",
       "    }\n",
       "\n",
       "    .dataframe tbody tr th {\n",
       "        vertical-align: top;\n",
       "    }\n",
       "</style>\n",
       "<table border=\"1\" class=\"dataframe\">\n",
       "  <thead>\n",
       "    <tr style=\"text-align: right;\">\n",
       "      <th>Target</th>\n",
       "      <th>3.6</th>\n",
       "      <th>6.2</th>\n",
       "      <th>7.2</th>\n",
       "      <th>10.c</th>\n",
       "      <th>3.1</th>\n",
       "      <th>8.2</th>\n",
       "      <th>17.8</th>\n",
       "      <th>9.2</th>\n",
       "      <th>9.c</th>\n",
       "      <th>9.4</th>\n",
       "      <th>...</th>\n",
       "      <th>6.1</th>\n",
       "      <th>14.5</th>\n",
       "      <th>8.4</th>\n",
       "      <th>3.3</th>\n",
       "      <th>12.2</th>\n",
       "      <th>1.1</th>\n",
       "      <th>6.b</th>\n",
       "      <th>9.5</th>\n",
       "      <th>16.3</th>\n",
       "      <th>8.1</th>\n",
       "    </tr>\n",
       "  </thead>\n",
       "  <tbody>\n",
       "    <tr>\n",
       "      <th>0</th>\n",
       "      <td>NaN</td>\n",
       "      <td>NaN</td>\n",
       "      <td>NaN</td>\n",
       "      <td>NaN</td>\n",
       "      <td>NaN</td>\n",
       "      <td>NaN</td>\n",
       "      <td>NaN</td>\n",
       "      <td>NaN</td>\n",
       "      <td>NaN</td>\n",
       "      <td>NaN</td>\n",
       "      <td>...</td>\n",
       "      <td>NaN</td>\n",
       "      <td>NaN</td>\n",
       "      <td>NaN</td>\n",
       "      <td>NaN</td>\n",
       "      <td>NaN</td>\n",
       "      <td>NaN</td>\n",
       "      <td>NaN</td>\n",
       "      <td>NaN</td>\n",
       "      <td>NaN</td>\n",
       "      <td>NaN</td>\n",
       "    </tr>\n",
       "    <tr>\n",
       "      <th>1</th>\n",
       "      <td>NaN</td>\n",
       "      <td>31.58</td>\n",
       "      <td>16.89</td>\n",
       "      <td>NaN</td>\n",
       "      <td>NaN</td>\n",
       "      <td>3.42</td>\n",
       "      <td>14.26</td>\n",
       "      <td>15.26</td>\n",
       "      <td>60.74</td>\n",
       "      <td>2.61102e+10</td>\n",
       "      <td>...</td>\n",
       "      <td>45.69</td>\n",
       "      <td>NaN</td>\n",
       "      <td>8.77</td>\n",
       "      <td>17</td>\n",
       "      <td>8.77</td>\n",
       "      <td>NaN</td>\n",
       "      <td>NaN</td>\n",
       "      <td>87.311</td>\n",
       "      <td>NaN</td>\n",
       "      <td>2.81</td>\n",
       "    </tr>\n",
       "    <tr>\n",
       "      <th>2</th>\n",
       "      <td>NaN</td>\n",
       "      <td>28.29</td>\n",
       "      <td>17.71</td>\n",
       "      <td>NaN</td>\n",
       "      <td>NaN</td>\n",
       "      <td>-0.71</td>\n",
       "      <td>25.66</td>\n",
       "      <td>14.99</td>\n",
       "      <td>87.32</td>\n",
       "      <td>2.87486e+10</td>\n",
       "      <td>...</td>\n",
       "      <td>54.02</td>\n",
       "      <td>NaN</td>\n",
       "      <td>9.69</td>\n",
       "      <td>15.9</td>\n",
       "      <td>9.69</td>\n",
       "      <td>NaN</td>\n",
       "      <td>NaN</td>\n",
       "      <td>100.752</td>\n",
       "      <td>NaN</td>\n",
       "      <td>-3.24</td>\n",
       "    </tr>\n",
       "    <tr>\n",
       "      <th>3</th>\n",
       "      <td>NaN</td>\n",
       "      <td>NaN</td>\n",
       "      <td>NaN</td>\n",
       "      <td>NaN</td>\n",
       "      <td>NaN</td>\n",
       "      <td>NaN</td>\n",
       "      <td>NaN</td>\n",
       "      <td>NaN</td>\n",
       "      <td>NaN</td>\n",
       "      <td>NaN</td>\n",
       "      <td>...</td>\n",
       "      <td>NaN</td>\n",
       "      <td>NaN</td>\n",
       "      <td>NaN</td>\n",
       "      <td>NaN</td>\n",
       "      <td>NaN</td>\n",
       "      <td>NaN</td>\n",
       "      <td>NaN</td>\n",
       "      <td>NaN</td>\n",
       "      <td>NaN</td>\n",
       "      <td>NaN</td>\n",
       "    </tr>\n",
       "    <tr>\n",
       "      <th>4</th>\n",
       "      <td>NaN</td>\n",
       "      <td>NaN</td>\n",
       "      <td>NaN</td>\n",
       "      <td>NaN</td>\n",
       "      <td>NaN</td>\n",
       "      <td>NaN</td>\n",
       "      <td>NaN</td>\n",
       "      <td>NaN</td>\n",
       "      <td>NaN</td>\n",
       "      <td>NaN</td>\n",
       "      <td>...</td>\n",
       "      <td>NaN</td>\n",
       "      <td>NaN</td>\n",
       "      <td>NaN</td>\n",
       "      <td>NaN</td>\n",
       "      <td>NaN</td>\n",
       "      <td>NaN</td>\n",
       "      <td>NaN</td>\n",
       "      <td>NaN</td>\n",
       "      <td>NaN</td>\n",
       "      <td>NaN</td>\n",
       "    </tr>\n",
       "    <tr>\n",
       "      <th>5</th>\n",
       "      <td>1.8</td>\n",
       "      <td>33.76</td>\n",
       "      <td>17.45</td>\n",
       "      <td>NaN</td>\n",
       "      <td>34.1</td>\n",
       "      <td>2.86</td>\n",
       "      <td>6.56</td>\n",
       "      <td>15.15</td>\n",
       "      <td>78.61</td>\n",
       "      <td>2.31445e+10</td>\n",
       "      <td>...</td>\n",
       "      <td>40.95</td>\n",
       "      <td>1.72</td>\n",
       "      <td>8</td>\n",
       "      <td>17.2</td>\n",
       "      <td>8</td>\n",
       "      <td>NaN</td>\n",
       "      <td>NaN</td>\n",
       "      <td>80.637</td>\n",
       "      <td>NaN</td>\n",
       "      <td>3.01</td>\n",
       "    </tr>\n",
       "    <tr>\n",
       "      <th>6</th>\n",
       "      <td>NaN</td>\n",
       "      <td>28.98</td>\n",
       "      <td>17.14</td>\n",
       "      <td>NaN</td>\n",
       "      <td>NaN</td>\n",
       "      <td>1.83</td>\n",
       "      <td>23.18</td>\n",
       "      <td>15.74</td>\n",
       "      <td>84.22</td>\n",
       "      <td>2.91648e+10</td>\n",
       "      <td>...</td>\n",
       "      <td>52.49</td>\n",
       "      <td>NaN</td>\n",
       "      <td>9.78</td>\n",
       "      <td>16.1</td>\n",
       "      <td>9.78</td>\n",
       "      <td>NaN</td>\n",
       "      <td>NaN</td>\n",
       "      <td>98.358</td>\n",
       "      <td>NaN</td>\n",
       "      <td>0.2</td>\n",
       "    </tr>\n",
       "    <tr>\n",
       "      <th>7</th>\n",
       "      <td>NaN</td>\n",
       "      <td>NaN</td>\n",
       "      <td>NaN</td>\n",
       "      <td>NaN</td>\n",
       "      <td>NaN</td>\n",
       "      <td>NaN</td>\n",
       "      <td>NaN</td>\n",
       "      <td>NaN</td>\n",
       "      <td>NaN</td>\n",
       "      <td>NaN</td>\n",
       "      <td>...</td>\n",
       "      <td>NaN</td>\n",
       "      <td>NaN</td>\n",
       "      <td>NaN</td>\n",
       "      <td>NaN</td>\n",
       "      <td>NaN</td>\n",
       "      <td>NaN</td>\n",
       "      <td>21.62</td>\n",
       "      <td>NaN</td>\n",
       "      <td>NaN</td>\n",
       "      <td>NaN</td>\n",
       "    </tr>\n",
       "    <tr>\n",
       "      <th>8</th>\n",
       "      <td>NaN</td>\n",
       "      <td>NaN</td>\n",
       "      <td>NaN</td>\n",
       "      <td>NaN</td>\n",
       "      <td>NaN</td>\n",
       "      <td>NaN</td>\n",
       "      <td>NaN</td>\n",
       "      <td>NaN</td>\n",
       "      <td>NaN</td>\n",
       "      <td>NaN</td>\n",
       "      <td>...</td>\n",
       "      <td>NaN</td>\n",
       "      <td>NaN</td>\n",
       "      <td>NaN</td>\n",
       "      <td>NaN</td>\n",
       "      <td>NaN</td>\n",
       "      <td>NaN</td>\n",
       "      <td>NaN</td>\n",
       "      <td>NaN</td>\n",
       "      <td>NaN</td>\n",
       "      <td>NaN</td>\n",
       "    </tr>\n",
       "    <tr>\n",
       "      <th>9</th>\n",
       "      <td>1.74</td>\n",
       "      <td>25.48</td>\n",
       "      <td>18.19</td>\n",
       "      <td>8.6</td>\n",
       "      <td>NaN</td>\n",
       "      <td>1.93</td>\n",
       "      <td>37.18</td>\n",
       "      <td>15.99</td>\n",
       "      <td>95.54</td>\n",
       "      <td>3.21294e+10</td>\n",
       "      <td>...</td>\n",
       "      <td>55.22</td>\n",
       "      <td>NaN</td>\n",
       "      <td>NaN</td>\n",
       "      <td>14.7</td>\n",
       "      <td>NaN</td>\n",
       "      <td>10.7</td>\n",
       "      <td>NaN</td>\n",
       "      <td>108.754</td>\n",
       "      <td>NaN</td>\n",
       "      <td>1.08</td>\n",
       "    </tr>\n",
       "    <tr>\n",
       "      <th>10</th>\n",
       "      <td>NaN</td>\n",
       "      <td>NaN</td>\n",
       "      <td>NaN</td>\n",
       "      <td>NaN</td>\n",
       "      <td>NaN</td>\n",
       "      <td>NaN</td>\n",
       "      <td>NaN</td>\n",
       "      <td>NaN</td>\n",
       "      <td>NaN</td>\n",
       "      <td>NaN</td>\n",
       "      <td>...</td>\n",
       "      <td>NaN</td>\n",
       "      <td>NaN</td>\n",
       "      <td>NaN</td>\n",
       "      <td>NaN</td>\n",
       "      <td>NaN</td>\n",
       "      <td>NaN</td>\n",
       "      <td>NaN</td>\n",
       "      <td>NaN</td>\n",
       "      <td>NaN</td>\n",
       "      <td>NaN</td>\n",
       "    </tr>\n",
       "    <tr>\n",
       "      <th>11</th>\n",
       "      <td>NaN</td>\n",
       "      <td>NaN</td>\n",
       "      <td>NaN</td>\n",
       "      <td>NaN</td>\n",
       "      <td>NaN</td>\n",
       "      <td>NaN</td>\n",
       "      <td>NaN</td>\n",
       "      <td>NaN</td>\n",
       "      <td>NaN</td>\n",
       "      <td>NaN</td>\n",
       "      <td>...</td>\n",
       "      <td>NaN</td>\n",
       "      <td>NaN</td>\n",
       "      <td>NaN</td>\n",
       "      <td>NaN</td>\n",
       "      <td>NaN</td>\n",
       "      <td>NaN</td>\n",
       "      <td>NaN</td>\n",
       "      <td>NaN</td>\n",
       "      <td>NaN</td>\n",
       "      <td>NaN</td>\n",
       "    </tr>\n",
       "    <tr>\n",
       "      <th>12</th>\n",
       "      <td>NaN</td>\n",
       "      <td>32.15</td>\n",
       "      <td>17.16</td>\n",
       "      <td>NaN</td>\n",
       "      <td>NaN</td>\n",
       "      <td>1.97</td>\n",
       "      <td>12.37</td>\n",
       "      <td>15.05</td>\n",
       "      <td>58.31</td>\n",
       "      <td>2.49326e+10</td>\n",
       "      <td>...</td>\n",
       "      <td>44.23</td>\n",
       "      <td>NaN</td>\n",
       "      <td>8.42</td>\n",
       "      <td>17.2</td>\n",
       "      <td>8.42</td>\n",
       "      <td>NaN</td>\n",
       "      <td>NaN</td>\n",
       "      <td>86.36</td>\n",
       "      <td>NaN</td>\n",
       "      <td>1.55</td>\n",
       "    </tr>\n",
       "    <tr>\n",
       "      <th>13</th>\n",
       "      <td>NaN</td>\n",
       "      <td>NaN</td>\n",
       "      <td>NaN</td>\n",
       "      <td>NaN</td>\n",
       "      <td>NaN</td>\n",
       "      <td>NaN</td>\n",
       "      <td>NaN</td>\n",
       "      <td>NaN</td>\n",
       "      <td>NaN</td>\n",
       "      <td>NaN</td>\n",
       "      <td>...</td>\n",
       "      <td>NaN</td>\n",
       "      <td>NaN</td>\n",
       "      <td>NaN</td>\n",
       "      <td>NaN</td>\n",
       "      <td>NaN</td>\n",
       "      <td>NaN</td>\n",
       "      <td>NaN</td>\n",
       "      <td>NaN</td>\n",
       "      <td>NaN</td>\n",
       "      <td>NaN</td>\n",
       "    </tr>\n",
       "    <tr>\n",
       "      <th>14</th>\n",
       "      <td>NaN</td>\n",
       "      <td>24.73</td>\n",
       "      <td>18.33</td>\n",
       "      <td>8.2</td>\n",
       "      <td>NaN</td>\n",
       "      <td>1.8</td>\n",
       "      <td>40.49</td>\n",
       "      <td>16.03</td>\n",
       "      <td>95.81</td>\n",
       "      <td>3.2381e+10</td>\n",
       "      <td>...</td>\n",
       "      <td>55.03</td>\n",
       "      <td>NaN</td>\n",
       "      <td>NaN</td>\n",
       "      <td>14.4</td>\n",
       "      <td>NaN</td>\n",
       "      <td>NaN</td>\n",
       "      <td>22.34</td>\n",
       "      <td>109.838</td>\n",
       "      <td>NaN</td>\n",
       "      <td>1.35</td>\n",
       "    </tr>\n",
       "    <tr>\n",
       "      <th>15</th>\n",
       "      <td>NaN</td>\n",
       "      <td>NaN</td>\n",
       "      <td>NaN</td>\n",
       "      <td>NaN</td>\n",
       "      <td>NaN</td>\n",
       "      <td>NaN</td>\n",
       "      <td>NaN</td>\n",
       "      <td>NaN</td>\n",
       "      <td>NaN</td>\n",
       "      <td>NaN</td>\n",
       "      <td>...</td>\n",
       "      <td>NaN</td>\n",
       "      <td>NaN</td>\n",
       "      <td>NaN</td>\n",
       "      <td>NaN</td>\n",
       "      <td>NaN</td>\n",
       "      <td>NaN</td>\n",
       "      <td>NaN</td>\n",
       "      <td>NaN</td>\n",
       "      <td>NaN</td>\n",
       "      <td>NaN</td>\n",
       "    </tr>\n",
       "    <tr>\n",
       "      <th>16</th>\n",
       "      <td>NaN</td>\n",
       "      <td>NaN</td>\n",
       "      <td>NaN</td>\n",
       "      <td>NaN</td>\n",
       "      <td>NaN</td>\n",
       "      <td>NaN</td>\n",
       "      <td>NaN</td>\n",
       "      <td>NaN</td>\n",
       "      <td>NaN</td>\n",
       "      <td>NaN</td>\n",
       "      <td>...</td>\n",
       "      <td>NaN</td>\n",
       "      <td>NaN</td>\n",
       "      <td>NaN</td>\n",
       "      <td>NaN</td>\n",
       "      <td>NaN</td>\n",
       "      <td>NaN</td>\n",
       "      <td>NaN</td>\n",
       "      <td>NaN</td>\n",
       "      <td>NaN</td>\n",
       "      <td>NaN</td>\n",
       "    </tr>\n",
       "    <tr>\n",
       "      <th>17</th>\n",
       "      <td>1.88</td>\n",
       "      <td>30.97</td>\n",
       "      <td>16.91</td>\n",
       "      <td>NaN</td>\n",
       "      <td>28.8</td>\n",
       "      <td>2.77</td>\n",
       "      <td>15.76</td>\n",
       "      <td>15.28</td>\n",
       "      <td>63.7</td>\n",
       "      <td>2.70377e+10</td>\n",
       "      <td>...</td>\n",
       "      <td>47.97</td>\n",
       "      <td>2.89</td>\n",
       "      <td>9.1</td>\n",
       "      <td>16.9</td>\n",
       "      <td>9.1</td>\n",
       "      <td>NaN</td>\n",
       "      <td>NaN</td>\n",
       "      <td>90.737</td>\n",
       "      <td>32</td>\n",
       "      <td>2.35</td>\n",
       "    </tr>\n",
       "    <tr>\n",
       "      <th>18</th>\n",
       "      <td>NaN</td>\n",
       "      <td>23.97</td>\n",
       "      <td>NaN</td>\n",
       "      <td>7.5</td>\n",
       "      <td>21.6</td>\n",
       "      <td>1.67</td>\n",
       "      <td>43.75</td>\n",
       "      <td>16.11</td>\n",
       "      <td>95.64</td>\n",
       "      <td>NaN</td>\n",
       "      <td>...</td>\n",
       "      <td>54.81</td>\n",
       "      <td>11.92</td>\n",
       "      <td>NaN</td>\n",
       "      <td>14.2</td>\n",
       "      <td>NaN</td>\n",
       "      <td>NaN</td>\n",
       "      <td>NaN</td>\n",
       "      <td>NaN</td>\n",
       "      <td>31</td>\n",
       "      <td>1.45</td>\n",
       "    </tr>\n",
       "    <tr>\n",
       "      <th>19</th>\n",
       "      <td>NaN</td>\n",
       "      <td>NaN</td>\n",
       "      <td>NaN</td>\n",
       "      <td>NaN</td>\n",
       "      <td>NaN</td>\n",
       "      <td>NaN</td>\n",
       "      <td>NaN</td>\n",
       "      <td>NaN</td>\n",
       "      <td>NaN</td>\n",
       "      <td>NaN</td>\n",
       "      <td>...</td>\n",
       "      <td>NaN</td>\n",
       "      <td>NaN</td>\n",
       "      <td>NaN</td>\n",
       "      <td>NaN</td>\n",
       "      <td>NaN</td>\n",
       "      <td>NaN</td>\n",
       "      <td>NaN</td>\n",
       "      <td>NaN</td>\n",
       "      <td>NaN</td>\n",
       "      <td>NaN</td>\n",
       "    </tr>\n",
       "    <tr>\n",
       "      <th>20</th>\n",
       "      <td>NaN</td>\n",
       "      <td>NaN</td>\n",
       "      <td>NaN</td>\n",
       "      <td>NaN</td>\n",
       "      <td>NaN</td>\n",
       "      <td>NaN</td>\n",
       "      <td>NaN</td>\n",
       "      <td>NaN</td>\n",
       "      <td>NaN</td>\n",
       "      <td>NaN</td>\n",
       "      <td>...</td>\n",
       "      <td>NaN</td>\n",
       "      <td>NaN</td>\n",
       "      <td>NaN</td>\n",
       "      <td>NaN</td>\n",
       "      <td>NaN</td>\n",
       "      <td>NaN</td>\n",
       "      <td>NaN</td>\n",
       "      <td>NaN</td>\n",
       "      <td>NaN</td>\n",
       "      <td>NaN</td>\n",
       "    </tr>\n",
       "    <tr>\n",
       "      <th>21</th>\n",
       "      <td>NaN</td>\n",
       "      <td>32.72</td>\n",
       "      <td>17.29</td>\n",
       "      <td>NaN</td>\n",
       "      <td>NaN</td>\n",
       "      <td>1.45</td>\n",
       "      <td>10.71</td>\n",
       "      <td>14.81</td>\n",
       "      <td>56.9</td>\n",
       "      <td>2.38841e+10</td>\n",
       "      <td>...</td>\n",
       "      <td>42.84</td>\n",
       "      <td>NaN</td>\n",
       "      <td>8.1</td>\n",
       "      <td>17.2</td>\n",
       "      <td>8.1</td>\n",
       "      <td>NaN</td>\n",
       "      <td>NaN</td>\n",
       "      <td>83.458</td>\n",
       "      <td>NaN</td>\n",
       "      <td>0.86</td>\n",
       "    </tr>\n",
       "    <tr>\n",
       "      <th>22</th>\n",
       "      <td>NaN</td>\n",
       "      <td>26.23</td>\n",
       "      <td>17.91</td>\n",
       "      <td>9</td>\n",
       "      <td>NaN</td>\n",
       "      <td>1.9</td>\n",
       "      <td>34.8</td>\n",
       "      <td>15.94</td>\n",
       "      <td>93.04</td>\n",
       "      <td>3.15929e+10</td>\n",
       "      <td>...</td>\n",
       "      <td>55.77</td>\n",
       "      <td>NaN</td>\n",
       "      <td>NaN</td>\n",
       "      <td>15</td>\n",
       "      <td>NaN</td>\n",
       "      <td>NaN</td>\n",
       "      <td>NaN</td>\n",
       "      <td>106.636</td>\n",
       "      <td>NaN</td>\n",
       "      <td>1.01</td>\n",
       "    </tr>\n",
       "    <tr>\n",
       "      <th>23</th>\n",
       "      <td>NaN</td>\n",
       "      <td>29.66</td>\n",
       "      <td>16.91</td>\n",
       "      <td>NaN</td>\n",
       "      <td>NaN</td>\n",
       "      <td>3.79</td>\n",
       "      <td>20.54</td>\n",
       "      <td>15.84</td>\n",
       "      <td>82.64</td>\n",
       "      <td>2.89898e+10</td>\n",
       "      <td>...</td>\n",
       "      <td>50.98</td>\n",
       "      <td>NaN</td>\n",
       "      <td>9.8</td>\n",
       "      <td>16.4</td>\n",
       "      <td>9.8</td>\n",
       "      <td>NaN</td>\n",
       "      <td>NaN</td>\n",
       "      <td>95.845</td>\n",
       "      <td>NaN</td>\n",
       "      <td>2.61</td>\n",
       "    </tr>\n",
       "    <tr>\n",
       "      <th>24</th>\n",
       "      <td>NaN</td>\n",
       "      <td>NaN</td>\n",
       "      <td>NaN</td>\n",
       "      <td>NaN</td>\n",
       "      <td>NaN</td>\n",
       "      <td>NaN</td>\n",
       "      <td>NaN</td>\n",
       "      <td>NaN</td>\n",
       "      <td>NaN</td>\n",
       "      <td>NaN</td>\n",
       "      <td>...</td>\n",
       "      <td>NaN</td>\n",
       "      <td>NaN</td>\n",
       "      <td>NaN</td>\n",
       "      <td>NaN</td>\n",
       "      <td>NaN</td>\n",
       "      <td>28</td>\n",
       "      <td>NaN</td>\n",
       "      <td>NaN</td>\n",
       "      <td>NaN</td>\n",
       "      <td>NaN</td>\n",
       "    </tr>\n",
       "    <tr>\n",
       "      <th>25</th>\n",
       "      <td>NaN</td>\n",
       "      <td>NaN</td>\n",
       "      <td>NaN</td>\n",
       "      <td>NaN</td>\n",
       "      <td>NaN</td>\n",
       "      <td>NaN</td>\n",
       "      <td>NaN</td>\n",
       "      <td>NaN</td>\n",
       "      <td>NaN</td>\n",
       "      <td>NaN</td>\n",
       "      <td>...</td>\n",
       "      <td>NaN</td>\n",
       "      <td>NaN</td>\n",
       "      <td>NaN</td>\n",
       "      <td>NaN</td>\n",
       "      <td>NaN</td>\n",
       "      <td>NaN</td>\n",
       "      <td>NaN</td>\n",
       "      <td>NaN</td>\n",
       "      <td>NaN</td>\n",
       "      <td>NaN</td>\n",
       "    </tr>\n",
       "    <tr>\n",
       "      <th>26</th>\n",
       "      <td>NaN</td>\n",
       "      <td>NaN</td>\n",
       "      <td>NaN</td>\n",
       "      <td>NaN</td>\n",
       "      <td>NaN</td>\n",
       "      <td>NaN</td>\n",
       "      <td>NaN</td>\n",
       "      <td>NaN</td>\n",
       "      <td>NaN</td>\n",
       "      <td>NaN</td>\n",
       "      <td>...</td>\n",
       "      <td>NaN</td>\n",
       "      <td>NaN</td>\n",
       "      <td>NaN</td>\n",
       "      <td>NaN</td>\n",
       "      <td>NaN</td>\n",
       "      <td>NaN</td>\n",
       "      <td>NaN</td>\n",
       "      <td>NaN</td>\n",
       "      <td>NaN</td>\n",
       "      <td>NaN</td>\n",
       "    </tr>\n",
       "    <tr>\n",
       "      <th>27</th>\n",
       "      <td>NaN</td>\n",
       "      <td>NaN</td>\n",
       "      <td>NaN</td>\n",
       "      <td>NaN</td>\n",
       "      <td>NaN</td>\n",
       "      <td>NaN</td>\n",
       "      <td>NaN</td>\n",
       "      <td>NaN</td>\n",
       "      <td>NaN</td>\n",
       "      <td>NaN</td>\n",
       "      <td>...</td>\n",
       "      <td>NaN</td>\n",
       "      <td>NaN</td>\n",
       "      <td>NaN</td>\n",
       "      <td>NaN</td>\n",
       "      <td>NaN</td>\n",
       "      <td>NaN</td>\n",
       "      <td>NaN</td>\n",
       "      <td>NaN</td>\n",
       "      <td>NaN</td>\n",
       "      <td>NaN</td>\n",
       "    </tr>\n",
       "    <tr>\n",
       "      <th>28</th>\n",
       "      <td>NaN</td>\n",
       "      <td>NaN</td>\n",
       "      <td>NaN</td>\n",
       "      <td>NaN</td>\n",
       "      <td>NaN</td>\n",
       "      <td>NaN</td>\n",
       "      <td>NaN</td>\n",
       "      <td>NaN</td>\n",
       "      <td>NaN</td>\n",
       "      <td>NaN</td>\n",
       "      <td>...</td>\n",
       "      <td>NaN</td>\n",
       "      <td>NaN</td>\n",
       "      <td>NaN</td>\n",
       "      <td>NaN</td>\n",
       "      <td>NaN</td>\n",
       "      <td>NaN</td>\n",
       "      <td>NaN</td>\n",
       "      <td>NaN</td>\n",
       "      <td>NaN</td>\n",
       "      <td>NaN</td>\n",
       "    </tr>\n",
       "    <tr>\n",
       "      <th>29</th>\n",
       "      <td>NaN</td>\n",
       "      <td>33.27</td>\n",
       "      <td>17.28</td>\n",
       "      <td>NaN</td>\n",
       "      <td>NaN</td>\n",
       "      <td>0.89</td>\n",
       "      <td>8.1</td>\n",
       "      <td>14.87</td>\n",
       "      <td>56.19</td>\n",
       "      <td>2.3482e+10</td>\n",
       "      <td>...</td>\n",
       "      <td>41.31</td>\n",
       "      <td>NaN</td>\n",
       "      <td>8.04</td>\n",
       "      <td>17.2</td>\n",
       "      <td>8.04</td>\n",
       "      <td>NaN</td>\n",
       "      <td>NaN</td>\n",
       "      <td>82.431</td>\n",
       "      <td>NaN</td>\n",
       "      <td>0.61</td>\n",
       "    </tr>\n",
       "    <tr>\n",
       "      <th>30</th>\n",
       "      <td>NaN</td>\n",
       "      <td>26.97</td>\n",
       "      <td>17.54</td>\n",
       "      <td>8.9</td>\n",
       "      <td>NaN</td>\n",
       "      <td>2.66</td>\n",
       "      <td>31.69</td>\n",
       "      <td>15.97</td>\n",
       "      <td>92.55</td>\n",
       "      <td>3.13544e+10</td>\n",
       "      <td>...</td>\n",
       "      <td>55.91</td>\n",
       "      <td>NaN</td>\n",
       "      <td>NaN</td>\n",
       "      <td>15.3</td>\n",
       "      <td>NaN</td>\n",
       "      <td>NaN</td>\n",
       "      <td>NaN</td>\n",
       "      <td>104.668</td>\n",
       "      <td>NaN</td>\n",
       "      <td>1.62</td>\n",
       "    </tr>\n",
       "    <tr>\n",
       "      <th>31</th>\n",
       "      <td>1.8</td>\n",
       "      <td>27.58</td>\n",
       "      <td>17.51</td>\n",
       "      <td>NaN</td>\n",
       "      <td>24.6</td>\n",
       "      <td>4.07</td>\n",
       "      <td>29.11</td>\n",
       "      <td>15.81</td>\n",
       "      <td>87.84</td>\n",
       "      <td>3.04504e+10</td>\n",
       "      <td>...</td>\n",
       "      <td>55.55</td>\n",
       "      <td>7.44</td>\n",
       "      <td>10.1</td>\n",
       "      <td>15.5</td>\n",
       "      <td>10.1</td>\n",
       "      <td>NaN</td>\n",
       "      <td>NaN</td>\n",
       "      <td>101.895</td>\n",
       "      <td>NaN</td>\n",
       "      <td>2.82</td>\n",
       "    </tr>\n",
       "    <tr>\n",
       "      <th>32</th>\n",
       "      <td>NaN</td>\n",
       "      <td>NaN</td>\n",
       "      <td>NaN</td>\n",
       "      <td>NaN</td>\n",
       "      <td>NaN</td>\n",
       "      <td>1.8</td>\n",
       "      <td>NaN</td>\n",
       "      <td>16.16</td>\n",
       "      <td>NaN</td>\n",
       "      <td>NaN</td>\n",
       "      <td>...</td>\n",
       "      <td>NaN</td>\n",
       "      <td>12.74</td>\n",
       "      <td>NaN</td>\n",
       "      <td>NaN</td>\n",
       "      <td>NaN</td>\n",
       "      <td>NaN</td>\n",
       "      <td>NaN</td>\n",
       "      <td>NaN</td>\n",
       "      <td>NaN</td>\n",
       "      <td>NaN</td>\n",
       "    </tr>\n",
       "    <tr>\n",
       "      <th>33</th>\n",
       "      <td>NaN</td>\n",
       "      <td>30.32</td>\n",
       "      <td>16.97</td>\n",
       "      <td>NaN</td>\n",
       "      <td>NaN</td>\n",
       "      <td>3.85</td>\n",
       "      <td>17.46</td>\n",
       "      <td>15.61</td>\n",
       "      <td>79.49</td>\n",
       "      <td>2.78903e+10</td>\n",
       "      <td>...</td>\n",
       "      <td>49.46</td>\n",
       "      <td>NaN</td>\n",
       "      <td>9.42</td>\n",
       "      <td>16.6</td>\n",
       "      <td>9.42</td>\n",
       "      <td>NaN</td>\n",
       "      <td>NaN</td>\n",
       "      <td>92.935</td>\n",
       "      <td>NaN</td>\n",
       "      <td>2.77</td>\n",
       "    </tr>\n",
       "  </tbody>\n",
       "</table>\n",
       "<p>34 rows × 33 columns</p>\n",
       "</div>"
      ],
      "text/plain": [
       "Target   3.6    6.2    7.2 10.c   3.1   8.2   17.8    9.2    9.c          9.4  \\\n",
       "0        NaN    NaN    NaN  NaN   NaN   NaN    NaN    NaN    NaN          NaN   \n",
       "1        NaN  31.58  16.89  NaN   NaN  3.42  14.26  15.26  60.74  2.61102e+10   \n",
       "2        NaN  28.29  17.71  NaN   NaN -0.71  25.66  14.99  87.32  2.87486e+10   \n",
       "3        NaN    NaN    NaN  NaN   NaN   NaN    NaN    NaN    NaN          NaN   \n",
       "4        NaN    NaN    NaN  NaN   NaN   NaN    NaN    NaN    NaN          NaN   \n",
       "5        1.8  33.76  17.45  NaN  34.1  2.86   6.56  15.15  78.61  2.31445e+10   \n",
       "6        NaN  28.98  17.14  NaN   NaN  1.83  23.18  15.74  84.22  2.91648e+10   \n",
       "7        NaN    NaN    NaN  NaN   NaN   NaN    NaN    NaN    NaN          NaN   \n",
       "8        NaN    NaN    NaN  NaN   NaN   NaN    NaN    NaN    NaN          NaN   \n",
       "9       1.74  25.48  18.19  8.6   NaN  1.93  37.18  15.99  95.54  3.21294e+10   \n",
       "10       NaN    NaN    NaN  NaN   NaN   NaN    NaN    NaN    NaN          NaN   \n",
       "11       NaN    NaN    NaN  NaN   NaN   NaN    NaN    NaN    NaN          NaN   \n",
       "12       NaN  32.15  17.16  NaN   NaN  1.97  12.37  15.05  58.31  2.49326e+10   \n",
       "13       NaN    NaN    NaN  NaN   NaN   NaN    NaN    NaN    NaN          NaN   \n",
       "14       NaN  24.73  18.33  8.2   NaN   1.8  40.49  16.03  95.81   3.2381e+10   \n",
       "15       NaN    NaN    NaN  NaN   NaN   NaN    NaN    NaN    NaN          NaN   \n",
       "16       NaN    NaN    NaN  NaN   NaN   NaN    NaN    NaN    NaN          NaN   \n",
       "17      1.88  30.97  16.91  NaN  28.8  2.77  15.76  15.28   63.7  2.70377e+10   \n",
       "18       NaN  23.97    NaN  7.5  21.6  1.67  43.75  16.11  95.64          NaN   \n",
       "19       NaN    NaN    NaN  NaN   NaN   NaN    NaN    NaN    NaN          NaN   \n",
       "20       NaN    NaN    NaN  NaN   NaN   NaN    NaN    NaN    NaN          NaN   \n",
       "21       NaN  32.72  17.29  NaN   NaN  1.45  10.71  14.81   56.9  2.38841e+10   \n",
       "22       NaN  26.23  17.91    9   NaN   1.9   34.8  15.94  93.04  3.15929e+10   \n",
       "23       NaN  29.66  16.91  NaN   NaN  3.79  20.54  15.84  82.64  2.89898e+10   \n",
       "24       NaN    NaN    NaN  NaN   NaN   NaN    NaN    NaN    NaN          NaN   \n",
       "25       NaN    NaN    NaN  NaN   NaN   NaN    NaN    NaN    NaN          NaN   \n",
       "26       NaN    NaN    NaN  NaN   NaN   NaN    NaN    NaN    NaN          NaN   \n",
       "27       NaN    NaN    NaN  NaN   NaN   NaN    NaN    NaN    NaN          NaN   \n",
       "28       NaN    NaN    NaN  NaN   NaN   NaN    NaN    NaN    NaN          NaN   \n",
       "29       NaN  33.27  17.28  NaN   NaN  0.89    8.1  14.87  56.19   2.3482e+10   \n",
       "30       NaN  26.97  17.54  8.9   NaN  2.66  31.69  15.97  92.55  3.13544e+10   \n",
       "31       1.8  27.58  17.51  NaN  24.6  4.07  29.11  15.81  87.84  3.04504e+10   \n",
       "32       NaN    NaN    NaN  NaN   NaN   1.8    NaN  16.16    NaN          NaN   \n",
       "33       NaN  30.32  16.97  NaN   NaN  3.85  17.46  15.61  79.49  2.78903e+10   \n",
       "\n",
       "Target  ...     6.1   14.5   8.4   3.3  12.2   1.1    6.b      9.5 16.3   8.1  \n",
       "0       ...     NaN    NaN   NaN   NaN   NaN   NaN    NaN      NaN  NaN   NaN  \n",
       "1       ...   45.69    NaN  8.77    17  8.77   NaN    NaN   87.311  NaN  2.81  \n",
       "2       ...   54.02    NaN  9.69  15.9  9.69   NaN    NaN  100.752  NaN -3.24  \n",
       "3       ...     NaN    NaN   NaN   NaN   NaN   NaN    NaN      NaN  NaN   NaN  \n",
       "4       ...     NaN    NaN   NaN   NaN   NaN   NaN    NaN      NaN  NaN   NaN  \n",
       "5       ...   40.95   1.72     8  17.2     8   NaN    NaN   80.637  NaN  3.01  \n",
       "6       ...   52.49    NaN  9.78  16.1  9.78   NaN    NaN   98.358  NaN   0.2  \n",
       "7       ...     NaN    NaN   NaN   NaN   NaN   NaN  21.62      NaN  NaN   NaN  \n",
       "8       ...     NaN    NaN   NaN   NaN   NaN   NaN    NaN      NaN  NaN   NaN  \n",
       "9       ...   55.22    NaN   NaN  14.7   NaN  10.7    NaN  108.754  NaN  1.08  \n",
       "10      ...     NaN    NaN   NaN   NaN   NaN   NaN    NaN      NaN  NaN   NaN  \n",
       "11      ...     NaN    NaN   NaN   NaN   NaN   NaN    NaN      NaN  NaN   NaN  \n",
       "12      ...   44.23    NaN  8.42  17.2  8.42   NaN    NaN    86.36  NaN  1.55  \n",
       "13      ...     NaN    NaN   NaN   NaN   NaN   NaN    NaN      NaN  NaN   NaN  \n",
       "14      ...   55.03    NaN   NaN  14.4   NaN   NaN  22.34  109.838  NaN  1.35  \n",
       "15      ...     NaN    NaN   NaN   NaN   NaN   NaN    NaN      NaN  NaN   NaN  \n",
       "16      ...     NaN    NaN   NaN   NaN   NaN   NaN    NaN      NaN  NaN   NaN  \n",
       "17      ...   47.97   2.89   9.1  16.9   9.1   NaN    NaN   90.737   32  2.35  \n",
       "18      ...   54.81  11.92   NaN  14.2   NaN   NaN    NaN      NaN   31  1.45  \n",
       "19      ...     NaN    NaN   NaN   NaN   NaN   NaN    NaN      NaN  NaN   NaN  \n",
       "20      ...     NaN    NaN   NaN   NaN   NaN   NaN    NaN      NaN  NaN   NaN  \n",
       "21      ...   42.84    NaN   8.1  17.2   8.1   NaN    NaN   83.458  NaN  0.86  \n",
       "22      ...   55.77    NaN   NaN    15   NaN   NaN    NaN  106.636  NaN  1.01  \n",
       "23      ...   50.98    NaN   9.8  16.4   9.8   NaN    NaN   95.845  NaN  2.61  \n",
       "24      ...     NaN    NaN   NaN   NaN   NaN    28    NaN      NaN  NaN   NaN  \n",
       "25      ...     NaN    NaN   NaN   NaN   NaN   NaN    NaN      NaN  NaN   NaN  \n",
       "26      ...     NaN    NaN   NaN   NaN   NaN   NaN    NaN      NaN  NaN   NaN  \n",
       "27      ...     NaN    NaN   NaN   NaN   NaN   NaN    NaN      NaN  NaN   NaN  \n",
       "28      ...     NaN    NaN   NaN   NaN   NaN   NaN    NaN      NaN  NaN   NaN  \n",
       "29      ...   41.31    NaN  8.04  17.2  8.04   NaN    NaN   82.431  NaN  0.61  \n",
       "30      ...   55.91    NaN   NaN  15.3   NaN   NaN    NaN  104.668  NaN  1.62  \n",
       "31      ...   55.55   7.44  10.1  15.5  10.1   NaN    NaN  101.895  NaN  2.82  \n",
       "32      ...     NaN  12.74   NaN   NaN   NaN   NaN    NaN      NaN  NaN   NaN  \n",
       "33      ...   49.46    NaN  9.42  16.6  9.42   NaN    NaN   92.935  NaN  2.77  \n",
       "\n",
       "[34 rows x 33 columns]"
      ]
     },
     "execution_count": 24,
     "metadata": {},
     "output_type": "execute_result"
    }
   ],
   "source": [
    "# shuffle data\n",
    "final_t_shuffled = final_t.sample(frac=1).reset_index(drop=True)\n",
    "final_t_shuffled"
   ]
  },
  {
   "cell_type": "markdown",
   "metadata": {},
   "source": [
    "### R-squared value of linear regression to detect connections"
   ]
  },
  {
   "cell_type": "code",
   "execution_count": 25,
   "metadata": {
    "collapsed": true
   },
   "outputs": [],
   "source": [
    "import sklearn\n",
    "from sklearn import linear_model\n",
    "from sklearn.preprocessing import Imputer"
   ]
  },
  {
   "cell_type": "markdown",
   "metadata": {},
   "source": [
    "mask_train = ~np.isnan(targets_X_train) & ~np.isnan(targets_Y_train)\n",
    "print(mask_train)\n",
    "targets_X_train = final_t_shuffled[targetx][:-6].reshape(-1, 1)\n",
    "print(targets_X_train)\n",
    "print(targets_X_train[mask_train])"
   ]
  },
  {
   "cell_type": "code",
   "execution_count": 26,
   "metadata": {},
   "outputs": [
    {
     "name": "stdout",
     "output_type": "stream",
     "text": [
      "<class 'pandas.core.series.Series'>\n",
      "Train var [[nan]\n",
      " [nan]\n",
      " [nan]\n",
      " [nan]\n",
      " [nan]\n",
      " [1.8]\n",
      " [nan]\n",
      " [nan]\n",
      " [nan]\n",
      " [1.7399999999999998]\n",
      " [nan]\n",
      " [nan]\n",
      " [nan]\n",
      " [nan]\n",
      " [nan]\n",
      " [nan]\n",
      " [nan]\n",
      " [1.88]\n",
      " [nan]\n",
      " [nan]\n",
      " [nan]\n",
      " [nan]\n",
      " [nan]\n",
      " [nan]\n",
      " [nan]\n",
      " [nan]\n",
      " [nan]\n",
      " [nan]] <class 'numpy.ndarray'>\n",
      "Validation var [[nan]\n",
      " [nan]\n",
      " [nan]\n",
      " [1.8]\n",
      " [nan]\n",
      " [nan]] <class 'numpy.ndarray'>\n",
      "Train target [[nan]\n",
      " [nan]\n",
      " [nan]\n",
      " [nan]\n",
      " [nan]\n",
      " [1.8]\n",
      " [nan]\n",
      " [nan]\n",
      " [nan]\n",
      " [1.7399999999999998]\n",
      " [nan]\n",
      " [nan]\n",
      " [nan]\n",
      " [nan]\n",
      " [nan]\n",
      " [nan]\n",
      " [nan]\n",
      " [1.88]\n",
      " [nan]\n",
      " [nan]\n",
      " [nan]\n",
      " [nan]\n",
      " [nan]\n",
      " [nan]\n",
      " [nan]\n",
      " [nan]\n",
      " [nan]\n",
      " [nan]] <class 'numpy.ndarray'>\n",
      "Validation target [[nan]\n",
      " [nan]\n",
      " [nan]\n",
      " [1.8]\n",
      " [nan]\n",
      " [nan]] <class 'numpy.ndarray'>\n"
     ]
    },
    {
     "name": "stderr",
     "output_type": "stream",
     "text": [
      "/home/felix/anaconda3/lib/python3.6/site-packages/ipykernel_launcher.py:10: FutureWarning: reshape is deprecated and will raise in a subsequent release. Please use .values.reshape(...) instead\n",
      "  # Remove the CWD from sys.path while we load stuff.\n",
      "/home/felix/anaconda3/lib/python3.6/site-packages/ipykernel_launcher.py:12: FutureWarning: reshape is deprecated and will raise in a subsequent release. Please use .values.reshape(...) instead\n",
      "  if sys.path[0] == '':\n",
      "/home/felix/anaconda3/lib/python3.6/site-packages/ipykernel_launcher.py:16: FutureWarning: reshape is deprecated and will raise in a subsequent release. Please use .values.reshape(...) instead\n",
      "  app.launch_new_instance()\n",
      "/home/felix/anaconda3/lib/python3.6/site-packages/ipykernel_launcher.py:18: FutureWarning: reshape is deprecated and will raise in a subsequent release. Please use .values.reshape(...) instead\n"
     ]
    },
    {
     "ename": "TypeError",
     "evalue": "ufunc 'isnan' not supported for the input types, and the inputs could not be safely coerced to any supported types according to the casting rule ''safe''",
     "output_type": "error",
     "traceback": [
      "\u001b[0;31m---------------------------------------------------------------------------\u001b[0m",
      "\u001b[0;31mTypeError\u001b[0m                                 Traceback (most recent call last)",
      "\u001b[0;32m<ipython-input-26-d70d397e08e1>\u001b[0m in \u001b[0;36m<module>\u001b[0;34m()\u001b[0m\n\u001b[1;32m     21\u001b[0m             \u001b[0;31m# use mask to account for nan values\u001b[0m\u001b[0;34m\u001b[0m\u001b[0;34m\u001b[0m\u001b[0m\n\u001b[1;32m     22\u001b[0m \u001b[0;34m\u001b[0m\u001b[0m\n\u001b[0;32m---> 23\u001b[0;31m             \u001b[0mmask_train\u001b[0m \u001b[0;34m=\u001b[0m \u001b[0;34m~\u001b[0m\u001b[0mnp\u001b[0m\u001b[0;34m.\u001b[0m\u001b[0misnan\u001b[0m\u001b[0;34m(\u001b[0m\u001b[0mtargets_X_train\u001b[0m\u001b[0;34m)\u001b[0m \u001b[0;34m&\u001b[0m \u001b[0;34m~\u001b[0m\u001b[0mnp\u001b[0m\u001b[0;34m.\u001b[0m\u001b[0misnan\u001b[0m\u001b[0;34m(\u001b[0m\u001b[0mtargets_Y_train\u001b[0m\u001b[0;34m)\u001b[0m\u001b[0;34m\u001b[0m\u001b[0m\n\u001b[0m\u001b[1;32m     24\u001b[0m \u001b[0;34m\u001b[0m\u001b[0m\n\u001b[1;32m     25\u001b[0m             \u001b[0mtargets_X_train\u001b[0m \u001b[0;34m=\u001b[0m \u001b[0mtargets_X_train\u001b[0m\u001b[0;34m[\u001b[0m\u001b[0mmask_train\u001b[0m\u001b[0;34m]\u001b[0m\u001b[0;34m\u001b[0m\u001b[0m\n",
      "\u001b[0;31mTypeError\u001b[0m: ufunc 'isnan' not supported for the input types, and the inputs could not be safely coerced to any supported types according to the casting rule ''safe''"
     ]
    }
   ],
   "source": [
    "# old version for environment\n",
    "keep =[]\n",
    "for targetx in targets:     #loop over all rows\n",
    "        \n",
    "        for targety in targets:    #loop over all rows except the one we're in now\n",
    "            \n",
    "            # Split the data into training/testing sets\n",
    "            targets_X_train = final_t_shuffled[targetx][:-6]\n",
    "            print(type(targets_X_train))\n",
    "            targets_X_train = targets_X_train.reshape(-1, 1)\n",
    "            print(\"Train var\", targets_X_train, type(targets_X_train))\n",
    "            targets_X_valid = final_t_shuffled[targetx][-6:].reshape(-1, 1) \n",
    "            print(\"Validation var\", targets_X_valid, type(targets_X_valid))\n",
    "        \n",
    "            # Split the data into training/testing sets\n",
    "            targets_Y_train = final_t_shuffled[targety][:-6].reshape(-1, 1)\n",
    "            print(\"Train target\", targets_Y_train, type(targets_Y_train))\n",
    "            targets_Y_valid = final_t_shuffled[targety][-6:].reshape(-1, 1)\n",
    "            print(\"Validation target\", targets_Y_valid, type(targets_Y_valid))\n",
    "\n",
    "            # use mask to account for nan values\n",
    "\n",
    "            mask_train = ~np.isnan(targets_X_train) & ~np.isnan(targets_Y_train)\n",
    "\n",
    "            targets_X_train = targets_X_train[mask_train]\n",
    "            targets_Y_train = targets_Y_train[mask_train]\n",
    "\n",
    "\n",
    "            mask_valid = ~np.isnan(targets_X_valid) & ~np.isnan(targets_Y_valid)\n",
    "\n",
    "            targets_X_valid = targets_X_valid[mask_valid].reshape(-1, 1)\n",
    "            targets_Y_valid = targets_Y_valid[mask_valid].reshape(-1, 1)\n",
    "                                              \n",
    "\n",
    "            # do not consider NaN pairs\n",
    "\n",
    "            if (len(targets_X_train) > 1 and len(targets_X_valid) > 1):\n",
    "\n",
    "                targets_X_train = targets_X_train.reshape(-1, 1)\n",
    "                targets_Y_train = targets_Y_train.reshape(-1, 1)\n",
    "\n",
    "                linreg = linear_model.LinearRegression()\n",
    "                linreg.fit(targets_X_train, targets_Y_train)\n",
    "\n",
    "                # Make predictions using the testing set\n",
    "                targets_y_pred = linreg.predict(targets_X_valid)\n",
    "\n",
    "                #linreg.fit([final_t[targetx]], [final_t[targety]])\n",
    "\n",
    "                plt.scatter(targets_X_train, targets_Y_train,  color='black')\n",
    "                plt.plot(targets_X_valid, targets_y_pred, color='blue', linewidth=3)\n",
    "\n",
    "                plt.xticks(())\n",
    "                plt.yticks(())\n",
    "                plt.xlabel(targetx)\n",
    "                plt.ylabel(targety)\n",
    "                plt.show()\n",
    "\n",
    "#print(keep)\n",
    "        "
   ]
  },
  {
   "cell_type": "code",
   "execution_count": 75,
   "metadata": {},
   "outputs": [],
   "source": [
    "def compute_error(trues, predicted):\n",
    "    mae = np.mean(np.abs(predicted - trues))\n",
    "    rae = np.sum(np.abs(predicted - trues)) / np.sum(np.abs(trues - np.mean(trues)))\n",
    "    rmse = np.sqrt(np.mean((predicted - trues)**2))\n",
    "    r2 = max(0, 1 - np.sum((trues-predicted)**2) / np.sum((trues - np.mean(trues))**2))\n",
    "    return mae, rae, rmse, r2"
   ]
  },
  {
   "cell_type": "code",
   "execution_count": null,
   "metadata": {},
   "outputs": [
    {
     "name": "stderr",
     "output_type": "stream",
     "text": [
      "/home/felix/anaconda3/lib/python3.6/site-packages/ipykernel_launcher.py:23: FutureWarning: reshape is deprecated and will raise in a subsequent release. Please use .values.reshape(...) instead\n",
      "/home/felix/anaconda3/lib/python3.6/site-packages/ipykernel_launcher.py:24: FutureWarning: reshape is deprecated and will raise in a subsequent release. Please use .values.reshape(...) instead\n"
     ]
    },
    {
     "data": {
      "image/png": "[encoded data removed]",
      "text/plain": [
       "<matplotlib.figure.Figure at 0x7f59ca0dccf8>"
      ]
     },
     "metadata": {},
     "output_type": "display_data"
    },
    {
     "name": "stdout",
     "output_type": "stream",
     "text": [
      "MAE: 10.00500\n",
      "RMSE: 10.71124\n",
      "R2: 0.000\n"
     ]
    },
    {
     "data": {
      "image/png": "[encoded data removed]",
      "text/plain": [
       "<matplotlib.figure.Figure at 0x7f59bfb022b0>"
      ]
     },
     "metadata": {},
     "output_type": "display_data"
    },
    {
     "name": "stdout",
     "output_type": "stream",
     "text": [
      "MAE: 0.25333\n",
      "RMSE: 0.31868\n",
      "R2: 0.000\n"
     ]
    },
    {
     "data": {
      "image/png": "[encoded data removed]",
      "text/plain": [
       "<matplotlib.figure.Figure at 0x7f59bfc6d6d8>"
      ]
     },
     "metadata": {},
     "output_type": "display_data"
    },
    {
     "name": "stdout",
     "output_type": "stream",
     "text": [
      "MAE: 1.27000\n",
      "RMSE: 1.27142\n",
      "R2: 0.000\n"
     ]
    },
    {
     "data": {
      "image/png": "[encoded data removed]",
      "text/plain": [
       "<matplotlib.figure.Figure at 0x7f59bf9fe978>"
      ]
     },
     "metadata": {},
     "output_type": "display_data"
    },
    {
     "name": "stdout",
     "output_type": "stream",
     "text": [
      "MAE: 36.28833\n",
      "RMSE: 38.80187\n",
      "R2: 0.000\n"
     ]
    },
    {
     "data": {
      "image/png": "[encoded data removed]",
      "text/plain": [
       "<matplotlib.figure.Figure at 0x7f59bf9fe198>"
      ]
     },
     "metadata": {},
     "output_type": "display_data"
    },
    {
     "name": "stdout",
     "output_type": "stream",
     "text": [
      "MAE: 0.95500\n",
      "RMSE: 0.99952\n",
      "R2: 0.000\n"
     ]
    },
    {
     "data": {
      "image/png": "[encoded data removed]",
      "text/plain": [
       "<matplotlib.figure.Figure at 0x7f59bf71c3c8>"
      ]
     },
     "metadata": {},
     "output_type": "display_data"
    },
    {
     "name": "stdout",
     "output_type": "stream",
     "text": [
      "MAE: 8.44667\n",
      "RMSE: 8.48291\n",
      "R2: 0.506\n"
     ]
    },
    {
     "data": {
      "image/png": "[encoded data removed]",
      "text/plain": [
       "<matplotlib.figure.Figure at 0x7f59bfc727f0>"
      ]
     },
     "metadata": {},
     "output_type": "display_data"
    },
    {
     "name": "stdout",
     "output_type": "stream",
     "text": [
      "MAE: 0.07739\n",
      "RMSE: 0.08251\n",
      "R2: 0.000\n"
     ]
    },
    {
     "data": {
      "image/png": "[encoded data removed]",
      "text/plain": [
       "<matplotlib.figure.Figure at 0x7f59ca129438>"
      ]
     },
     "metadata": {},
     "output_type": "display_data"
    },
    {
     "name": "stdout",
     "output_type": "stream",
     "text": [
      "MAE: 0.53756\n",
      "RMSE: 0.58435\n",
      "R2: 0.966\n"
     ]
    },
    {
     "data": {
      "image/png": "[encoded data removed]",
      "text/plain": [
       "<matplotlib.figure.Figure at 0x7f59bfb78668>"
      ]
     },
     "metadata": {},
     "output_type": "display_data"
    },
    {
     "name": "stdout",
     "output_type": "stream",
     "text": [
      "MAE: 4.11740\n",
      "RMSE: 4.51389\n",
      "R2: 0.000\n"
     ]
    },
    {
     "data": {
      "image/png": "[encoded data removed]",
      "text/plain": [
       "<matplotlib.figure.Figure at 0x7f59bfb784e0>"
      ]
     },
     "metadata": {},
     "output_type": "display_data"
    },
    {
     "name": "stdout",
     "output_type": "stream",
     "text": [
      "MAE: 1.00072\n",
      "RMSE: 1.02636\n",
      "R2: 0.751\n"
     ]
    },
    {
     "data": {
      "image/png": "[encoded data removed]",
      "text/plain": [
       "<matplotlib.figure.Figure at 0x7f59bfa83240>"
      ]
     },
     "metadata": {},
     "output_type": "display_data"
    },
    {
     "name": "stdout",
     "output_type": "stream",
     "text": [
      "MAE: 0.44744\n",
      "RMSE: 0.56734\n",
      "R2: 0.868\n"
     ]
    },
    {
     "data": {
      "image/png": "[encoded data removed]",
      "text/plain": [
       "<matplotlib.figure.Figure at 0x7f59bfae7d30>"
      ]
     },
     "metadata": {},
     "output_type": "display_data"
    },
    {
     "name": "stdout",
     "output_type": "stream",
     "text": [
      "MAE: 0.02352\n",
      "RMSE: 0.03018\n",
      "R2: 0.901\n"
     ]
    },
    {
     "data": {
      "image/png": "[encoded data removed]",
      "text/plain": [
       "<matplotlib.figure.Figure at 0x7f59bf6222e8>"
      ]
     },
     "metadata": {},
     "output_type": "display_data"
    },
    {
     "name": "stdout",
     "output_type": "stream",
     "text": [
      "MAE: 0.65768\n",
      "RMSE: 0.82242\n",
      "R2: 0.947\n"
     ]
    },
    {
     "data": {
      "image/png": "[encoded data removed]",
      "text/plain": [
       "<matplotlib.figure.Figure at 0x7f59bfb5a780>"
      ]
     },
     "metadata": {},
     "output_type": "display_data"
    },
    {
     "name": "stdout",
     "output_type": "stream",
     "text": [
      "MAE: 98688366.66084\n",
      "RMSE: 110893018.44064\n",
      "R2: 0.000\n"
     ]
    },
    {
     "data": {
      "image/png": "[encoded data removed]",
      "text/plain": [
       "<matplotlib.figure.Figure at 0x7f59bf804710>"
      ]
     },
     "metadata": {},
     "output_type": "display_data"
    },
    {
     "name": "stdout",
     "output_type": "stream",
     "text": [
      "MAE: 1.13974\n",
      "RMSE: 1.36224\n",
      "R2: 0.831\n"
     ]
    },
    {
     "data": {
      "image/png": "[encoded data removed]",
      "text/plain": [
       "<matplotlib.figure.Figure at 0x7f59bf8366d8>"
      ]
     },
     "metadata": {},
     "output_type": "display_data"
    },
    {
     "name": "stdout",
     "output_type": "stream",
     "text": [
      "MAE: 0.00001\n",
      "RMSE: 0.00001\n",
      "R2: 0.815\n"
     ]
    },
    {
     "data": {
      "image/png": "[encoded data removed]",
      "text/plain": [
       "<matplotlib.figure.Figure at 0x7f59bf8d4438>"
      ]
     },
     "metadata": {},
     "output_type": "display_data"
    },
    {
     "name": "stdout",
     "output_type": "stream",
     "text": [
      "MAE: 0.68318\n",
      "RMSE: 0.97405\n",
      "R2: 0.967\n"
     ]
    },
    {
     "data": {
      "image/png": "[encoded data removed]",
      "text/plain": [
       "<matplotlib.figure.Figure at 0x7f59bf610198>"
      ]
     },
     "metadata": {},
     "output_type": "display_data"
    },
    {
     "name": "stdout",
     "output_type": "stream",
     "text": [
      "MAE: 0.05534\n",
      "RMSE: 0.06047\n",
      "R2: 0.994\n"
     ]
    },
    {
     "data": {
      "image/png": "[encoded data removed]",
      "text/plain": [
       "<matplotlib.figure.Figure at 0x7f59bf6100f0>"
      ]
     },
     "metadata": {},
     "output_type": "display_data"
    },
    {
     "name": "stdout",
     "output_type": "stream",
     "text": [
      "MAE: 0.27494\n",
      "RMSE: 0.33088\n",
      "R2: 0.887\n"
     ]
    },
    {
     "data": {
      "image/png": "[encoded data removed]",
      "text/plain": [
       "<matplotlib.figure.Figure at 0x7f59bf845710>"
      ]
     },
     "metadata": {},
     "output_type": "display_data"
    },
    {
     "name": "stdout",
     "output_type": "stream",
     "text": [
      "MAE: 0.05534\n",
      "RMSE: 0.06047\n",
      "R2: 0.994\n"
     ]
    },
    {
     "data": {
      "image/png": "[encoded data removed]",
      "text/plain": [
       "<matplotlib.figure.Figure at 0x7f59bf716208>"
      ]
     },
     "metadata": {},
     "output_type": "display_data"
    },
    {
     "name": "stdout",
     "output_type": "stream",
     "text": [
      "MAE: 1.46238\n",
      "RMSE: 1.67861\n",
      "R2: 0.968\n"
     ]
    },
    {
     "data": {
      "image/png": "[encoded data removed]",
      "text/plain": [
       "<matplotlib.figure.Figure at 0x7f59cab147b8>"
      ]
     },
     "metadata": {},
     "output_type": "display_data"
    },
    {
     "name": "stdout",
     "output_type": "stream",
     "text": [
      "MAE: 1.80775\n",
      "RMSE: 1.93463\n",
      "R2: 0.000\n"
     ]
    },
    {
     "data": {
      "image/png": "[encoded data removed]",
      "text/plain": [
       "<matplotlib.figure.Figure at 0x7f5a08889f60>"
      ]
     },
     "metadata": {},
     "output_type": "display_data"
    },
    {
     "name": "stdout",
     "output_type": "stream",
     "text": [
      "MAE: 0.26055\n",
      "RMSE: 0.30603\n",
      "R2: 0.508\n"
     ]
    },
    {
     "data": {
      "image/png": "[encoded data removed]",
      "text/plain": [
       "<matplotlib.figure.Figure at 0x7f59bfa0a518>"
      ]
     },
     "metadata": {},
     "output_type": "display_data"
    },
    {
     "name": "stdout",
     "output_type": "stream",
     "text": [
      "MAE: 0.26311\n",
      "RMSE: 0.33243\n",
      "R2: 0.764\n"
     ]
    },
    {
     "data": {
      "image/png": "[encoded data removed]",
      "text/plain": [
       "<matplotlib.figure.Figure at 0x7f59ca0bb5f8>"
      ]
     },
     "metadata": {},
     "output_type": "display_data"
    },
    {
     "name": "stdout",
     "output_type": "stream",
     "text": [
      "MAE: 4.16864\n",
      "RMSE: 4.59326\n",
      "R2: 0.000\n"
     ]
    },
    {
     "data": {
      "image/png": "[encoded data removed]",
      "text/plain": [
       "<matplotlib.figure.Figure at 0x7f59bfcdb0b8>"
      ]
     },
     "metadata": {},
     "output_type": "display_data"
    },
    {
     "name": "stdout",
     "output_type": "stream",
     "text": [
      "MAE: 1.48419\n",
      "RMSE: 1.59799\n",
      "R2: 0.000\n"
     ]
    },
    {
     "data": {
      "image/png": "[encoded data removed]",
      "text/plain": [
       "<matplotlib.figure.Figure at 0x7f59bfc72a58>"
      ]
     },
     "metadata": {},
     "output_type": "display_data"
    },
    {
     "name": "stdout",
     "output_type": "stream",
     "text": [
      "MAE: 0.83445\n",
      "RMSE: 0.96901\n",
      "R2: 0.993\n"
     ]
    },
    {
     "data": {
      "image/png": "[encoded data removed]",
      "text/plain": [
       "<matplotlib.figure.Figure at 0x7f59bfac1240>"
      ]
     },
     "metadata": {},
     "output_type": "display_data"
    },
    {
     "name": "stdout",
     "output_type": "stream",
     "text": [
      "MAE: 0.23460\n",
      "RMSE: 0.25866\n",
      "R2: 0.674\n"
     ]
    },
    {
     "data": {
      "image/png": "[encoded data removed]",
      "text/plain": [
       "<matplotlib.figure.Figure at 0x7f59bf8ca048>"
      ]
     },
     "metadata": {},
     "output_type": "display_data"
    },
    {
     "name": "stdout",
     "output_type": "stream",
     "text": [
      "MAE: 4.92042\n",
      "RMSE: 6.06782\n",
      "R2: 0.837\n"
     ]
    },
    {
     "data": {
      "image/png": "[encoded data removed]",
      "text/plain": [
       "<matplotlib.figure.Figure at 0x7f59bfabcf28>"
      ]
     },
     "metadata": {},
     "output_type": "display_data"
    },
    {
     "name": "stdout",
     "output_type": "stream",
     "text": [
      "MAE: 0.53005\n",
      "RMSE: 0.59807\n",
      "R2: 0.954\n"
     ]
    },
    {
     "data": {
      "image/png": "[encoded data removed]",
      "text/plain": [
       "<matplotlib.figure.Figure at 0x7f59bf9dd400>"
      ]
     },
     "metadata": {},
     "output_type": "display_data"
    },
    {
     "name": "stdout",
     "output_type": "stream",
     "text": [
      "MAE: 0.97857\n",
      "RMSE: 1.13681\n",
      "R2: 0.000\n"
     ]
    },
    {
     "data": {
      "image/png": "[encoded data removed]",
      "text/plain": [
       "<matplotlib.figure.Figure at 0x7f59ca114320>"
      ]
     },
     "metadata": {},
     "output_type": "display_data"
    },
    {
     "name": "stdout",
     "output_type": "stream",
     "text": [
      "MAE: 0.97128\n",
      "RMSE: 1.12470\n",
      "R2: 0.000\n"
     ]
    },
    {
     "data": {
      "image/png": "[encoded data removed]",
      "text/plain": [
       "<matplotlib.figure.Figure at 0x7f59ca114240>"
      ]
     },
     "metadata": {},
     "output_type": "display_data"
    },
    {
     "name": "stdout",
     "output_type": "stream",
     "text": [
      "MAE: 6.61095\n",
      "RMSE: 6.96716\n",
      "R2: 0.569\n"
     ]
    },
    {
     "data": {
      "image/png": "[encoded data removed]",
      "text/plain": [
       "<matplotlib.figure.Figure at 0x7f59bfc74b00>"
      ]
     },
     "metadata": {},
     "output_type": "display_data"
    },
    {
     "name": "stdout",
     "output_type": "stream",
     "text": [
      "MAE: 0.39152\n",
      "RMSE: 0.42209\n",
      "R2: 0.126\n"
     ]
    },
    {
     "data": {
      "image/png": "[encoded data removed]",
      "text/plain": [
       "<matplotlib.figure.Figure at 0x7f59bfc74128>"
      ]
     },
     "metadata": {},
     "output_type": "display_data"
    },
    {
     "name": "stdout",
     "output_type": "stream",
     "text": [
      "MAE: 10.75405\n",
      "RMSE: 12.48221\n",
      "R2: 0.343\n"
     ]
    },
    {
     "data": {
      "image/png": "[encoded data removed]",
      "text/plain": [
       "<matplotlib.figure.Figure at 0x7f59bf74bba8>"
      ]
     },
     "metadata": {},
     "output_type": "display_data"
    },
    {
     "name": "stdout",
     "output_type": "stream",
     "text": [
      "MAE: 0.30719\n",
      "RMSE: 0.36411\n",
      "R2: 0.303\n"
     ]
    },
    {
     "data": {
      "image/png": "[encoded data removed]",
      "text/plain": [
       "<matplotlib.figure.Figure at 0x7f59bfa90fd0>"
      ]
     },
     "metadata": {},
     "output_type": "display_data"
    },
    {
     "name": "stdout",
     "output_type": "stream",
     "text": [
      "MAE: 0.29667\n",
      "RMSE: 0.38086\n",
      "R2: 0.189\n"
     ]
    },
    {
     "data": {
      "image/png": "[encoded data removed]",
      "text/plain": [
       "<matplotlib.figure.Figure at 0x7f59bfbf2358>"
      ]
     },
     "metadata": {},
     "output_type": "display_data"
    },
    {
     "name": "stdout",
     "output_type": "stream",
     "text": [
      "MAE: 2.15667\n",
      "RMSE: 2.33263\n",
      "R2: 0.792\n"
     ]
    },
    {
     "data": {
      "image/png": "[encoded data removed]",
      "text/plain": [
       "<matplotlib.figure.Figure at 0x7f59bfbf1048>"
      ]
     },
     "metadata": {},
     "output_type": "display_data"
    },
    {
     "name": "stdout",
     "output_type": "stream",
     "text": [
      "MAE: 0.01000\n",
      "RMSE: 0.01000\n",
      "R2: 0.982\n"
     ]
    },
    {
     "data": {
      "image/png": "[encoded data removed]",
      "text/plain": [
       "<matplotlib.figure.Figure at 0x7f59bf605e80>"
      ]
     },
     "metadata": {},
     "output_type": "display_data"
    },
    {
     "name": "stdout",
     "output_type": "stream",
     "text": [
      "MAE: 1.88667\n",
      "RMSE: 2.09411\n",
      "R2: 0.000\n"
     ]
    },
    {
     "data": {
      "image/png": "[encoded data removed]",
      "text/plain": [
       "<matplotlib.figure.Figure at 0x7f59bf7c5710>"
      ]
     },
     "metadata": {},
     "output_type": "display_data"
    },
    {
     "name": "stdout",
     "output_type": "stream",
     "text": [
      "MAE: 0.69219\n",
      "RMSE: 0.73247\n",
      "R2: 0.000\n"
     ]
    },
    {
     "data": {
      "image/png": "[encoded data removed]",
      "text/plain": [
       "<matplotlib.figure.Figure at 0x7f59bf78d748>"
      ]
     },
     "metadata": {},
     "output_type": "display_data"
    },
    {
     "name": "stdout",
     "output_type": "stream",
     "text": [
      "MAE: 1.17453\n",
      "RMSE: 1.19090\n",
      "R2: 0.015\n"
     ]
    },
    {
     "data": {
      "image/png": "[encoded data removed]",
      "text/plain": [
       "<matplotlib.figure.Figure at 0x7f59bf960fd0>"
      ]
     },
     "metadata": {},
     "output_type": "display_data"
    },
    {
     "name": "stdout",
     "output_type": "stream",
     "text": [
      "MAE: 10.77566\n",
      "RMSE: 11.76255\n",
      "R2: 0.000\n"
     ]
    },
    {
     "data": {
      "image/png": "[encoded data removed]",
      "text/plain": [
       "<matplotlib.figure.Figure at 0x7f59bf9606a0>"
      ]
     },
     "metadata": {},
     "output_type": "display_data"
    },
    {
     "name": "stdout",
     "output_type": "stream",
     "text": [
      "MAE: 0.54019\n",
      "RMSE: 0.55192\n",
      "R2: 0.000\n"
     ]
    },
    {
     "data": {
      "image/png": "[encoded data removed]",
      "text/plain": [
       "<matplotlib.figure.Figure at 0x7f5a08889f60>"
      ]
     },
     "metadata": {},
     "output_type": "display_data"
    },
    {
     "name": "stdout",
     "output_type": "stream",
     "text": [
      "MAE: 44.07528\n",
      "RMSE: 44.81698\n",
      "R2: 0.000\n"
     ]
    },
    {
     "data": {
      "image/png": "[encoded data removed]",
      "text/plain": [
       "<matplotlib.figure.Figure at 0x7f59bf8bb588>"
      ]
     },
     "metadata": {},
     "output_type": "display_data"
    },
    {
     "name": "stdout",
     "output_type": "stream",
     "text": [
      "MAE: 12.96715\n",
      "RMSE: 14.54703\n",
      "R2: 0.000\n"
     ]
    },
    {
     "data": {
      "image/png": "[encoded data removed]",
      "text/plain": [
       "<matplotlib.figure.Figure at 0x7f59ca14d9b0>"
      ]
     },
     "metadata": {},
     "output_type": "display_data"
    },
    {
     "name": "stdout",
     "output_type": "stream",
     "text": [
      "MAE: 0.48060\n",
      "RMSE: 0.52719\n",
      "R2: 0.000\n"
     ]
    },
    {
     "data": {
      "image/png": "[encoded data removed]",
      "text/plain": [
       "<matplotlib.figure.Figure at 0x7f59bfb96390>"
      ]
     },
     "metadata": {},
     "output_type": "display_data"
    },
    {
     "name": "stdout",
     "output_type": "stream",
     "text": [
      "MAE: 17.66186\n",
      "RMSE: 18.30851\n",
      "R2: 0.000\n"
     ]
    },
    {
     "data": {
      "image/png": "[encoded data removed]",
      "text/plain": [
       "<matplotlib.figure.Figure at 0x7f59bf9fe7f0>"
      ]
     },
     "metadata": {},
     "output_type": "display_data"
    },
    {
     "name": "stdout",
     "output_type": "stream",
     "text": [
      "MAE: 1.44078\n",
      "RMSE: 1.60056\n",
      "R2: 0.000\n"
     ]
    },
    {
     "data": {
      "image/png": "[encoded data removed]",
      "text/plain": [
       "<matplotlib.figure.Figure at 0x7f59bfd2a588>"
      ]
     },
     "metadata": {},
     "output_type": "display_data"
    },
    {
     "name": "stdout",
     "output_type": "stream",
     "text": [
      "MAE: 0.22656\n",
      "RMSE: 0.25498\n",
      "R2: 0.683\n"
     ]
    },
    {
     "data": {
      "image/png": "[encoded data removed]",
      "text/plain": [
       "<matplotlib.figure.Figure at 0x7f59bfd2a4a8>"
      ]
     },
     "metadata": {},
     "output_type": "display_data"
    },
    {
     "name": "stdout",
     "output_type": "stream",
     "text": [
      "MAE: 5.23951\n",
      "RMSE: 6.33433\n",
      "R2: 0.822\n"
     ]
    },
    {
     "data": {
      "image/png": "[encoded data removed]",
      "text/plain": [
       "<matplotlib.figure.Figure at 0x7f59bfc06518>"
      ]
     },
     "metadata": {},
     "output_type": "display_data"
    },
    {
     "name": "stdout",
     "output_type": "stream",
     "text": [
      "MAE: 2.39350\n",
      "RMSE: 2.74641\n",
      "R2: 0.933\n"
     ]
    },
    {
     "data": {
      "image/png": "[encoded data removed]",
      "text/plain": [
       "<matplotlib.figure.Figure at 0x7f59bf711438>"
      ]
     },
     "metadata": {},
     "output_type": "display_data"
    },
    {
     "name": "stdout",
     "output_type": "stream",
     "text": [
      "MAE: 5.23310\n",
      "RMSE: 6.39355\n",
      "R2: 0.819\n"
     ]
    },
    {
     "data": {
      "image/png": "[encoded data removed]",
      "text/plain": [
       "<matplotlib.figure.Figure at 0x7f59bf711630>"
      ]
     },
     "metadata": {},
     "output_type": "display_data"
    },
    {
     "name": "stdout",
     "output_type": "stream",
     "text": [
      "MAE: 0.19253\n",
      "RMSE: 0.20369\n",
      "R2: 0.796\n"
     ]
    },
    {
     "data": {
      "image/png": "[encoded data removed]",
      "text/plain": [
       "<matplotlib.figure.Figure at 0x7f59bf7a0da0>"
      ]
     },
     "metadata": {},
     "output_type": "display_data"
    },
    {
     "name": "stdout",
     "output_type": "stream",
     "text": [
      "MAE: 6.96656\n",
      "RMSE: 9.44412\n",
      "R2: 0.624\n"
     ]
    },
    {
     "data": {
      "image/png": "[encoded data removed]",
      "text/plain": [
       "<matplotlib.figure.Figure at 0x7f59bf7eacc0>"
      ]
     },
     "metadata": {},
     "output_type": "display_data"
    },
    {
     "name": "stdout",
     "output_type": "stream",
     "text": [
      "MAE: 0.07688\n",
      "RMSE: 0.08176\n",
      "R2: 0.000\n"
     ]
    },
    {
     "data": {
      "image/png": "[encoded data removed]",
      "text/plain": [
       "<matplotlib.figure.Figure at 0x7f59bfab6b70>"
      ]
     },
     "metadata": {},
     "output_type": "display_data"
    },
    {
     "name": "stdout",
     "output_type": "stream",
     "text": [
      "MAE: 0.53460\n",
      "RMSE: 0.81906\n",
      "R2: 0.929\n"
     ]
    },
    {
     "data": {
      "image/png": "[encoded data removed]",
      "text/plain": [
       "<matplotlib.figure.Figure at 0x7f59bfab69b0>"
      ]
     },
     "metadata": {},
     "output_type": "display_data"
    },
    {
     "name": "stdout",
     "output_type": "stream",
     "text": [
      "MAE: 0.28220\n",
      "RMSE: 0.34624\n",
      "R2: 0.370\n"
     ]
    },
    {
     "data": {
      "image/png": "[encoded data removed]",
      "text/plain": [
       "<matplotlib.figure.Figure at 0x7f59bf7d00f0>"
      ]
     },
     "metadata": {},
     "output_type": "display_data"
    },
    {
     "name": "stdout",
     "output_type": "stream",
     "text": [
      "MAE: 1.28627\n",
      "RMSE: 1.62405\n",
      "R2: 0.000\n"
     ]
    },
    {
     "data": {
      "image/png": "[encoded data removed]",
      "text/plain": [
       "<matplotlib.figure.Figure at 0x7f59bf8e8518>"
      ]
     },
     "metadata": {},
     "output_type": "display_data"
    },
    {
     "name": "stdout",
     "output_type": "stream",
     "text": [
      "MAE: 0.83196\n",
      "RMSE: 0.85361\n",
      "R2: 0.676\n"
     ]
    },
    {
     "data": {
      "image/png": "[encoded data removed]",
      "text/plain": [
       "<matplotlib.figure.Figure at 0x7f59bf8e8ac8>"
      ]
     },
     "metadata": {},
     "output_type": "display_data"
    },
    {
     "name": "stdout",
     "output_type": "stream",
     "text": [
      "MAE: 1.41150\n",
      "RMSE: 1.55641\n",
      "R2: 0.000\n"
     ]
    },
    {
     "data": {
      "image/png": "[encoded data removed]",
      "text/plain": [
       "<matplotlib.figure.Figure at 0x7f59bf8db898>"
      ]
     },
     "metadata": {},
     "output_type": "display_data"
    },
    {
     "name": "stdout",
     "output_type": "stream",
     "text": [
      "MAE: 2.71907\n",
      "RMSE: 3.88565\n",
      "R2: 0.892\n"
     ]
    },
    {
     "data": {
      "image/png": "[encoded data removed]",
      "text/plain": [
       "<matplotlib.figure.Figure at 0x7f59bfabfeb8>"
      ]
     },
     "metadata": {},
     "output_type": "display_data"
    },
    {
     "name": "stdout",
     "output_type": "stream",
     "text": [
      "MAE: 0.28715\n",
      "RMSE: 0.30805\n",
      "R2: 0.548\n"
     ]
    },
    {
     "data": {
      "image/png": "[encoded data removed]",
      "text/plain": [
       "<matplotlib.figure.Figure at 0x7f59bfabfc88>"
      ]
     },
     "metadata": {},
     "output_type": "display_data"
    },
    {
     "name": "stdout",
     "output_type": "stream",
     "text": [
      "MAE: 5.31177\n",
      "RMSE: 6.51998\n",
      "R2: 0.812\n"
     ]
    },
    {
     "data": {
      "image/png": "[encoded data removed]",
      "text/plain": [
       "<matplotlib.figure.Figure at 0x7f59bfd90f28>"
      ]
     },
     "metadata": {},
     "output_type": "display_data"
    },
    {
     "name": "stdout",
     "output_type": "stream",
     "text": [
      "MAE: 8.34447\n",
      "RMSE: 8.45079\n",
      "R2: 0.000\n"
     ]
    },
    {
     "data": {
      "image/png": "[encoded data removed]",
      "text/plain": [
       "<matplotlib.figure.Figure at 0x7f59ca11ac18>"
      ]
     },
     "metadata": {},
     "output_type": "display_data"
    },
    {
     "name": "stdout",
     "output_type": "stream",
     "text": [
      "MAE: 2.99183\n",
      "RMSE: 3.07189\n",
      "R2: 0.396\n"
     ]
    },
    {
     "data": {
      "image/png": "[encoded data removed]",
      "text/plain": [
       "<matplotlib.figure.Figure at 0x7f59bfc6db70>"
      ]
     },
     "metadata": {},
     "output_type": "display_data"
    },
    {
     "name": "stdout",
     "output_type": "stream",
     "text": [
      "MAE: 0.98263\n",
      "RMSE: 0.98604\n",
      "R2: 0.770\n"
     ]
    },
    {
     "data": {
      "image/png": "[encoded data removed]",
      "text/plain": [
       "<matplotlib.figure.Figure at 0x7f5a03ebbd30>"
      ]
     },
     "metadata": {},
     "output_type": "display_data"
    },
    {
     "name": "stdout",
     "output_type": "stream",
     "text": [
      "MAE: 0.47370\n",
      "RMSE: 0.51963\n",
      "R2: 0.897\n"
     ]
    },
    {
     "data": {
      "image/png": "[encoded data removed]",
      "text/plain": [
       "<matplotlib.figure.Figure at 0x7f59bfb72908>"
      ]
     },
     "metadata": {},
     "output_type": "display_data"
    },
    {
     "name": "stdout",
     "output_type": "stream",
     "text": [
      "MAE: 0.01918\n",
      "RMSE: 0.02155\n",
      "R2: 0.958\n"
     ]
    },
    {
     "data": {
      "image/png": "[encoded data removed]",
      "text/plain": [
       "<matplotlib.figure.Figure at 0x7f59bfd38d68>"
      ]
     },
     "metadata": {},
     "output_type": "display_data"
    },
    {
     "name": "stdout",
     "output_type": "stream",
     "text": [
      "MAE: 0.01364\n",
      "RMSE: 0.01380\n",
      "R2: 0.000\n"
     ]
    },
    {
     "data": {
      "image/png": "[encoded data removed]",
      "text/plain": [
       "<matplotlib.figure.Figure at 0x7f59bfd384a8>"
      ]
     },
     "metadata": {},
     "output_type": "display_data"
    },
    {
     "name": "stdout",
     "output_type": "stream",
     "text": [
      "MAE: 0.64782\n",
      "RMSE: 0.73522\n",
      "R2: 0.959\n"
     ]
    },
    {
     "data": {
      "image/png": "[encoded data removed]",
      "text/plain": [
       "<matplotlib.figure.Figure at 0x7f59bf82a978>"
      ]
     },
     "metadata": {},
     "output_type": "display_data"
    },
    {
     "name": "stdout",
     "output_type": "stream",
     "text": [
      "MAE: 0.01218\n",
      "RMSE: 0.01572\n",
      "R2: 0.605\n"
     ]
    },
    {
     "data": {
      "image/png": "[encoded data removed]",
      "text/plain": [
       "<matplotlib.figure.Figure at 0x7f59ca0cd748>"
      ]
     },
     "metadata": {},
     "output_type": "display_data"
    },
    {
     "name": "stdout",
     "output_type": "stream",
     "text": [
      "MAE: 137456203.68771\n",
      "RMSE: 142487234.96960\n",
      "R2: 0.000\n"
     ]
    },
    {
     "data": {
      "image/png": "[encoded data removed]",
      "text/plain": [
       "<matplotlib.figure.Figure at 0x7f59bf9f2518>"
      ]
     },
     "metadata": {},
     "output_type": "display_data"
    },
    {
     "name": "stdout",
     "output_type": "stream",
     "text": [
      "MAE: 1.35497\n",
      "RMSE: 1.64465\n",
      "R2: 0.753\n"
     ]
    },
    {
     "data": {
      "image/png": "[encoded data removed]",
      "text/plain": [
       "<matplotlib.figure.Figure at 0x7f59bf9f2550>"
      ]
     },
     "metadata": {},
     "output_type": "display_data"
    },
    {
     "name": "stdout",
     "output_type": "stream",
     "text": [
      "MAE: 0.00001\n",
      "RMSE: 0.00001\n",
      "R2: 0.759\n"
     ]
    },
    {
     "data": {
      "image/png": "[encoded data removed]",
      "text/plain": [
       "<matplotlib.figure.Figure at 0x7f59bf8bf518>"
      ]
     },
     "metadata": {},
     "output_type": "display_data"
    },
    {
     "name": "stdout",
     "output_type": "stream",
     "text": [
      "MAE: 1.06878\n",
      "RMSE: 1.25749\n",
      "R2: 0.942\n"
     ]
    },
    {
     "data": {
      "image/png": "[encoded data removed]",
      "text/plain": [
       "<matplotlib.figure.Figure at 0x7f59bfac0400>"
      ]
     },
     "metadata": {},
     "output_type": "display_data"
    },
    {
     "name": "stdout",
     "output_type": "stream",
     "text": [
      "MAE: 6.26889\n",
      "RMSE: 6.59792\n",
      "R2: 0.000\n"
     ]
    },
    {
     "data": {
      "image/png": "[encoded data removed]",
      "text/plain": [
       "<matplotlib.figure.Figure at 0x7f59bf759cc0>"
      ]
     },
     "metadata": {},
     "output_type": "display_data"
    },
    {
     "name": "stdout",
     "output_type": "stream",
     "text": [
      "MAE: 0.87617\n",
      "RMSE: 0.93370\n",
      "R2: 0.849\n"
     ]
    },
    {
     "data": {
      "image/png": "[encoded data removed]",
      "text/plain": [
       "<matplotlib.figure.Figure at 0x7f59bf63b048>"
      ]
     },
     "metadata": {},
     "output_type": "display_data"
    },
    {
     "name": "stdout",
     "output_type": "stream",
     "text": [
      "MAE: 0.24334\n",
      "RMSE: 0.27356\n",
      "R2: 0.775\n"
     ]
    },
    {
     "data": {
      "image/png": "[encoded data removed]",
      "text/plain": [
       "<matplotlib.figure.Figure at 0x7f59bf9a1fd0>"
      ]
     },
     "metadata": {},
     "output_type": "display_data"
    },
    {
     "name": "stdout",
     "output_type": "stream",
     "text": [
      "MAE: 0.00000\n",
      "RMSE: 0.00000\n",
      "R2: 1.000\n"
     ]
    },
    {
     "data": {
      "image/png": "[encoded data removed]",
      "text/plain": [
       "<matplotlib.figure.Figure at 0x7f59bf850240>"
      ]
     },
     "metadata": {},
     "output_type": "display_data"
    }
   ],
   "source": [
    "keep =[]\n",
    "processedPairs = list()\n",
    "tonsTargets = ['12.2', '9.4', '8.4']   # work on this\n",
    "\n",
    "for targetx in targets:     #loop over all rows\n",
    "        \n",
    "        for targety in targets:    #loop over all rows except the one we're in now\n",
    "            # avoid double processing of reverse pairs\n",
    "            if not set([targetx, targety]) in processedPairs:\n",
    "                processedPairs.extend([set([targetx, targety])])\n",
    "                \n",
    "                if not targety==targetx:\n",
    "                    \n",
    "                    \n",
    "                    # TODO: modify, account for both tonnes, USD etc, find a different solution maybe considering percent\n",
    "                    if ((targety in tonsTargets and not targetx in tonsTargets) or targety=='9.4'):\n",
    "                        y = targetx\n",
    "                        x = targety\n",
    "                        targetx = x\n",
    "                        targety = y\n",
    "\n",
    "\n",
    "                    X = final_t_shuffled[targetx].reshape(-1,1)\n",
    "                    Y = final_t_shuffled[targety].reshape(-1,1)\n",
    "\n",
    "                    # apply mask to lists to filter out pairs containing any NaNs\n",
    "                    mask = ~pd.isnull(X) & ~pd.isnull(Y)\n",
    "\n",
    "                    X = X[mask]\n",
    "                    Y = Y[mask]\n",
    "\n",
    "\n",
    "                    # Split the data into training/testing sets\n",
    "                    split = math.floor(2/3 * len(X))\n",
    "                    X_train = X[:-split]\n",
    "                    Y_train = Y[:-split]\n",
    "\n",
    "                    X_valid = X[-split:]\n",
    "                    Y_valid = Y[-split:]\n",
    "\n",
    "\n",
    "                    if (len(X_train) > 1):\n",
    "\n",
    "                        X_train = X_train.reshape(-1, 1)\n",
    "                        Y_train = Y_train.reshape(-1, 1)\n",
    "                        \n",
    "                        X_valid = X_valid.reshape(-1, 1)\n",
    "                        Y_valid = Y_valid.reshape(-1, 1)\n",
    "\n",
    "                        linreg = linear_model.LinearRegression()\n",
    "                        linreg.fit(X_train, Y_train)\n",
    "                        \n",
    "                        # Make predictions using the testing set\n",
    "                        y_pred = linreg.predict(X_valid)\n",
    "\n",
    "                        plt.scatter(X_train, Y_train,  color='black')\n",
    "                        plt.plot(X_valid, y_pred, color='blue', linewidth=3)\n",
    "\n",
    "                        plt.xticks(())\n",
    "                        plt.yticks(())\n",
    "                        plt.xlabel(targetx)\n",
    "                        plt.ylabel(targety)\n",
    "                        plt.show()\n",
    "                        \n",
    "                        mae, rae, rmse, r2 = compute_error(Y_valid, y_pred)\n",
    "                        print(\"MAE: %.5f\\nRMSE: %.5f\\nR2: %.3f\" % (mae, rmse, r2))\n",
    "\n",
    "#print(keep)"
   ]
  },
  {
   "cell_type": "code",
   "execution_count": 67,
   "metadata": {},
   "outputs": [
    {
     "data": {
      "text/plain": [
       "array([ 44.8])"
      ]
     },
     "execution_count": 67,
     "metadata": {},
     "output_type": "execute_result"
    }
   ],
   "source": [
    "y_pred[0]"
   ]
  },
  {
   "cell_type": "markdown",
   "metadata": {},
   "source": [
    "what needs to be done before"
   ]
  },
  {
   "cell_type": "code",
   "execution_count": null,
   "metadata": {
    "collapsed": true
   },
   "outputs": [],
   "source": [
    "# convert data to a matrix\n",
    "y = df.as_matrix()\n",
    "y = y[:(6*24*1)]\n",
    "N, D = y.shape\n",
    "print(\"N=%d, D=%d\" % (N,D))"
   ]
  },
  {
   "cell_type": "code",
   "execution_count": null,
   "metadata": {
    "collapsed": true
   },
   "outputs": [],
   "source": [
    "missing_perc = 0.8 # missing percentage\n",
    "\n",
    "perm1 = np.random.permutation(N)\n",
    "ix_mis1 = perm1[:int(missing_perc * N)] # missing indexes\n",
    "ix_obs1 = perm1[int(missing_perc * N):] # observed indexes\n",
    "y_mis1 = y[ix_mis1,7]\n",
    "y_obs1 = y[ix_obs1,7]\n",
    "\n",
    "perm2 = np.random.permutation(N)\n",
    "ix_mis2 = perm2[:int(missing_perc * N)] # missing indexes\n",
    "ix_obs2 = perm2[int(missing_perc * N):] # observed indexes\n",
    "y_mis2 = y[ix_mis2,8]\n",
    "y_obs2 = y[ix_obs2,8]\n",
    "\n",
    "N_obs = len(ix_obs1)\n",
    "N_mis = len(ix_mis1)\n",
    "print(\"N_obs:\", N_obs)\n",
    "print(\"N_mis:\", N_mis)"
   ]
  },
  {
   "cell_type": "markdown",
   "metadata": {
    "collapsed": true
   },
   "source": [
    "## Define STAN model"
   ]
  },
  {
   "cell_type": "code",
   "execution_count": null,
   "metadata": {
    "collapsed": true
   },
   "outputs": [],
   "source": [
    "SDG_STAN=\"\"\"\n",
    "data {\n",
    "    int<lower = 0> N_obs;    // we might need such a variable for each observed variable because they could be different\n",
    "    int<lower = 0> N_mis;    // how many do we want to infer\n",
    "    int<lower = 1, upper = N_obs + N_mis> ix_obs1[N_obs];    // index for observed variable 1\n",
    "    int<lower = 1, upper = N_obs + N_mis> ix_mis1[N_mis];\n",
    "    int<lower = 1, upper = N_obs + N_mis> ix_obs2[N_obs];    // index for observed variable 2 -> more?\n",
    "    int<lower = 1, upper = N_obs + N_mis> ix_mis2[N_mis];\n",
    "    real y_obs1[N_obs];         // observed time-series data for variable 1\n",
    "    real y_obs2[N_obs];         // observed time-series data for variable 2\n",
    "}\n",
    "parameters {\n",
    "    vector[1] beta[2];            // state transition coefficients\n",
    "    corr_matrix[2] Omega;    // 2 because of two observed variables -> in our case \n",
    "    vector<lower=0>[2] tau;\n",
    "    real<lower=0> sigma;       // observation noise\n",
    "    matrix[T,2] z;             // vector of latent states\n",
    "    real y_mis1[N_mis];        // missing time-series data (to infer)\n",
    "    real y_mis2[N_mis];        // missing time-series data (to infer)\n",
    "}\n",
    "model {\n",
    "    for(i in 1:2)                   // 2 again because of two observed variables\n",
    "        beta[i] ~ normal(0,1);            // prior on the auto-regressive coefficients\n",
    "    tau ~ cauchy(0,1);\n",
    "    Omega ~ lkj_corr(10.0);         // STAN manual Section 63.1  \n",
    "    sigma ~ cauchy(0,1);            // prior on the variance\n",
    "    \n",
    "    z[1,:] ~ normal(0,1);           // prior on first state\n",
    "    for(t in 2:T) {\n",
    "        vector[2] mu;\n",
    "        mu[1] = beta[1]' * z[(t-1):(t-1),1];\n",
    "        mu[2] = beta[2]' * z[(t-1):(t-1),2];\n",
    "        z[t,:] ~ multi_normal(mu, quad_form_diag(Omega, tau)); // latent dynamics\n",
    "    }\n",
    "    \n",
    "    y1 ~ normal(z[:,1], sigma);    // likelihood\n",
    "    y2 ~ normal(z[:,2], sigma);    // likelihood\n",
    "}\n",
    "\"\"\""
   ]
  },
  {
   "cell_type": "code",
   "execution_count": null,
   "metadata": {
    "collapsed": true
   },
   "outputs": [],
   "source": [
    "# prepare data for STAN model\n",
    "data = {'N_obs': N_obs, 'N_mis': N_mis, \n",
    "        'ix_obs1': ix_obs1+1, 'ix_mis1': ix_mis1+1, 'y_obs1': y_obs1, \n",
    "        'ix_obs2': ix_obs2+1, 'ix_mis2': ix_mis2+1, 'y_obs2': y_obs2}"
   ]
  },
  {
   "cell_type": "code",
   "execution_count": null,
   "metadata": {
    "collapsed": true
   },
   "outputs": [],
   "source": [
    "%%time\n",
    "# create STAN model object (compile STAN model)\n",
    "sm = pystan.StanModel(model_code=SDG_STAN)"
   ]
  },
  {
   "cell_type": "code",
   "execution_count": null,
   "metadata": {
    "collapsed": true
   },
   "outputs": [],
   "source": [
    "# run inference using MCMC sampling\n",
    "fit = sm.sampling(data=data, iter=500, chains=4, algorithm=\"NUTS\", seed=42, verbose=True)\n",
    "print(fit)"
   ]
  },
  {
   "cell_type": "code",
   "execution_count": null,
   "metadata": {
    "collapsed": true
   },
   "outputs": [],
   "source": [
    "samples = fit.extract(permuted=True)  # return a dictionary of arrays"
   ]
  },
  {
   "cell_type": "code",
   "execution_count": null,
   "metadata": {
    "collapsed": true
   },
   "outputs": [],
   "source": [
    "fit.plot([\"tau\",\"sigma\",\"lp__\"])\n",
    "plt.show()"
   ]
  },
  {
   "cell_type": "markdown",
   "metadata": {},
   "source": [
    "#### Compute mean and standard devitions for the imputed values of the time-series and visualize them (in comparison with the corresponding true values):"
   ]
  },
  {
   "cell_type": "code",
   "execution_count": null,
   "metadata": {
    "collapsed": true
   },
   "outputs": [],
   "source": [
    "# get mean and standard devitions for predictions\n",
    "y_hat = samples[\"y_mis1\"].mean(axis=0)\n",
    "y_std = samples[\"y_mis1\"].std(axis=0)"
   ]
  },
  {
   "cell_type": "code",
   "execution_count": null,
   "metadata": {
    "collapsed": true
   },
   "outputs": [],
   "source": [
    "plt.plot(ix_obs1, y_obs1, \"bo\")\n",
    "plt.plot(ix_mis1, y_mis1, \"bx\")\n",
    "plt.plot(ix_mis1, y_hat, \"rx\")\n",
    "#plt.plot(ix_mis, y_hat + y_std, \"r--\")\n",
    "#plt.plot(ix_mis, y_hat - y_std, \"r--\")\n",
    "plt.legend([\"true\",\"forecast\",\"forecast + stddev\",\"forecast - stddev\"])"
   ]
  },
  {
   "cell_type": "markdown",
   "metadata": {},
   "source": [
    "Compute error statistics of the model's imputations:"
   ]
  },
  {
   "cell_type": "code",
   "execution_count": null,
   "metadata": {
    "collapsed": true
   },
   "outputs": [],
   "source": [
    "# insert def compute_error if deleted above\n",
    "corr, mae, rae, rmse, r2 = compute_error(y_mis1, y_hat)\n",
    "print(\"CorrCoef: %.3f\\nMAE: %.5f\\nRMSE: %.5f\\nR2: %.3f\" % (corr, mae, rmse, r2))"
   ]
  },
  {
   "cell_type": "code",
   "execution_count": null,
   "metadata": {
    "collapsed": true
   },
   "outputs": [],
   "source": []
  }
 ],
 "metadata": {
  "kernelspec": {
   "display_name": "Python 3",
   "language": "python",
   "name": "python3"
  },
  "language_info": {
   "codemirror_mode": {
    "name": "ipython",
    "version": 3
   },
   "file_extension": ".py",
   "mimetype": "text/x-python",
   "name": "python",
   "nbconvert_exporter": "python",
   "pygments_lexer": "ipython3",
   "version": "3.6.3"
  }
 },
 "nbformat": 4,
 "nbformat_minor": 2
}
