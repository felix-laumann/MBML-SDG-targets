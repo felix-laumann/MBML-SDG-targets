{
 "cells": [
  {
   "cell_type": "markdown",
   "metadata": {},
   "source": [
    "# Finding interrelations of the UN SDG Targets and impute missing observations"
   ]
  },
  {
   "cell_type": "markdown",
   "metadata": {},
   "source": [
    "### This project is divided into two major phases: \n",
    "1. It is intended to find cliques within the [UN SDG](https://sustainabledevelopment.un.org/?menu=1300) Targets.\n",
    "2. Within one of the found cliques, missing observations of the time-series are inferred\n",
    "\n",
    "Each Target has at least one quantitatively measurable Indicator associated whose measurements from 1984 to 2017 serve as our data points. The data set we are working with is for the entire world, i.e. the values presented are means over all countries. Regarding the first phase, for a more sophisticated analysis, but out of scope of this course, correlations in each country should be analysed separately."
   ]
  },
  {
   "cell_type": "markdown",
   "metadata": {},
   "source": [
    "<img src=\"Screenshot from 2018-04-19 10-08-40.png\">"
   ]
  },
  {
   "cell_type": "markdown",
   "metadata": {},
   "source": [
    "## 1. Find cliques"
   ]
  },
  {
   "cell_type": "markdown",
   "metadata": {},
   "source": [
    "Import necessary packages and load our preprocessed data set\n",
    "\n",
    "*if you want to see what happened in the preprocessing, see **prepare_df_for_analysis.ipynb** *"
   ]
  },
  {
   "cell_type": "code",
   "execution_count": 1,
   "metadata": {},
   "outputs": [],
   "source": [
    "import numpy as np\n",
    "import pandas as pd\n",
    "from matplotlib import pyplot as plt\n",
    "import pystan\n",
    "import math\n",
    "import os\n",
    "import sklearn\n",
    "import itertools\n",
    "import sklearn\n",
    "from sklearn import linear_model"
   ]
  },
  {
   "cell_type": "code",
   "execution_count": 32,
   "metadata": {},
   "outputs": [],
   "source": [
    "# hyperparameters\n",
    "startyear=1990\n",
    "coefThreshold  = 0.5"
   ]
  },
  {
   "cell_type": "code",
   "execution_count": 3,
   "metadata": {},
   "outputs": [
    {
     "data": {
      "text/html": [
       "<div>\n",
       "<style scoped>\n",
       "    .dataframe tbody tr th:only-of-type {\n",
       "        vertical-align: middle;\n",
       "    }\n",
       "\n",
       "    .dataframe tbody tr th {\n",
       "        vertical-align: top;\n",
       "    }\n",
       "\n",
       "    .dataframe thead th {\n",
       "        text-align: right;\n",
       "    }\n",
       "</style>\n",
       "<table border=\"1\" class=\"dataframe\">\n",
       "  <thead>\n",
       "    <tr style=\"text-align: right;\">\n",
       "      <th></th>\n",
       "      <th>Unnamed: 0</th>\n",
       "      <th>Category</th>\n",
       "      <th>Indicator Description</th>\n",
       "      <th>Goal</th>\n",
       "      <th>Target</th>\n",
       "      <th>Indicator Ref</th>\n",
       "      <th>Unit</th>\n",
       "      <th>Unit multiplier</th>\n",
       "      <th>1984</th>\n",
       "      <th>1985</th>\n",
       "      <th>...</th>\n",
       "      <th>2008</th>\n",
       "      <th>2009</th>\n",
       "      <th>2010</th>\n",
       "      <th>2011</th>\n",
       "      <th>2012</th>\n",
       "      <th>2013</th>\n",
       "      <th>2014</th>\n",
       "      <th>2015</th>\n",
       "      <th>2016</th>\n",
       "      <th>2017</th>\n",
       "    </tr>\n",
       "  </thead>\n",
       "  <tbody>\n",
       "    <tr>\n",
       "      <th>0</th>\n",
       "      <td>106</td>\n",
       "      <td>Population</td>\n",
       "      <td>Proportion of population below the internation...</td>\n",
       "      <td>1</td>\n",
       "      <td>1.1</td>\n",
       "      <td>1.1.1</td>\n",
       "      <td>Percent</td>\n",
       "      <td>Units</td>\n",
       "      <td>NaN</td>\n",
       "      <td>NaN</td>\n",
       "      <td>...</td>\n",
       "      <td>NaN</td>\n",
       "      <td>NaN</td>\n",
       "      <td>NaN</td>\n",
       "      <td>NaN</td>\n",
       "      <td>NaN</td>\n",
       "      <td>10.7</td>\n",
       "      <td>NaN</td>\n",
       "      <td>NaN</td>\n",
       "      <td>NaN</td>\n",
       "      <td>NaN</td>\n",
       "    </tr>\n",
       "    <tr>\n",
       "      <th>1</th>\n",
       "      <td>107</td>\n",
       "      <td>Population</td>\n",
       "      <td>Proportion of population covered by social pro...</td>\n",
       "      <td>1</td>\n",
       "      <td>1.3</td>\n",
       "      <td>1.3.1</td>\n",
       "      <td>Percent</td>\n",
       "      <td>Units</td>\n",
       "      <td>NaN</td>\n",
       "      <td>NaN</td>\n",
       "      <td>...</td>\n",
       "      <td>NaN</td>\n",
       "      <td>NaN</td>\n",
       "      <td>NaN</td>\n",
       "      <td>NaN</td>\n",
       "      <td>NaN</td>\n",
       "      <td>NaN</td>\n",
       "      <td>NaN</td>\n",
       "      <td>NaN</td>\n",
       "      <td>45.17</td>\n",
       "      <td>NaN</td>\n",
       "    </tr>\n",
       "    <tr>\n",
       "      <th>2</th>\n",
       "      <td>108</td>\n",
       "      <td>Population</td>\n",
       "      <td>Proportion of population covered by social pro...</td>\n",
       "      <td>1</td>\n",
       "      <td>1.3</td>\n",
       "      <td>1.3.1</td>\n",
       "      <td>Percent</td>\n",
       "      <td>Units</td>\n",
       "      <td>NaN</td>\n",
       "      <td>NaN</td>\n",
       "      <td>...</td>\n",
       "      <td>NaN</td>\n",
       "      <td>NaN</td>\n",
       "      <td>NaN</td>\n",
       "      <td>NaN</td>\n",
       "      <td>NaN</td>\n",
       "      <td>NaN</td>\n",
       "      <td>NaN</td>\n",
       "      <td>NaN</td>\n",
       "      <td>34.86</td>\n",
       "      <td>NaN</td>\n",
       "    </tr>\n",
       "    <tr>\n",
       "      <th>3</th>\n",
       "      <td>109</td>\n",
       "      <td>Population</td>\n",
       "      <td>Proportion of population covered by social pro...</td>\n",
       "      <td>1</td>\n",
       "      <td>1.3</td>\n",
       "      <td>1.3.1</td>\n",
       "      <td>Percent</td>\n",
       "      <td>Units</td>\n",
       "      <td>NaN</td>\n",
       "      <td>NaN</td>\n",
       "      <td>...</td>\n",
       "      <td>NaN</td>\n",
       "      <td>NaN</td>\n",
       "      <td>NaN</td>\n",
       "      <td>NaN</td>\n",
       "      <td>NaN</td>\n",
       "      <td>NaN</td>\n",
       "      <td>NaN</td>\n",
       "      <td>NaN</td>\n",
       "      <td>27.79</td>\n",
       "      <td>NaN</td>\n",
       "    </tr>\n",
       "    <tr>\n",
       "      <th>4</th>\n",
       "      <td>110</td>\n",
       "      <td>Population</td>\n",
       "      <td>Proportion of population covered by social pro...</td>\n",
       "      <td>1</td>\n",
       "      <td>1.3</td>\n",
       "      <td>1.3.1</td>\n",
       "      <td>Percent</td>\n",
       "      <td>Units</td>\n",
       "      <td>NaN</td>\n",
       "      <td>NaN</td>\n",
       "      <td>...</td>\n",
       "      <td>NaN</td>\n",
       "      <td>NaN</td>\n",
       "      <td>NaN</td>\n",
       "      <td>NaN</td>\n",
       "      <td>NaN</td>\n",
       "      <td>NaN</td>\n",
       "      <td>NaN</td>\n",
       "      <td>NaN</td>\n",
       "      <td>41.08</td>\n",
       "      <td>NaN</td>\n",
       "    </tr>\n",
       "  </tbody>\n",
       "</table>\n",
       "<p>5 rows × 42 columns</p>\n",
       "</div>"
      ],
      "text/plain": [
       "   Unnamed: 0    Category                              Indicator Description  \\\n",
       "0         106  Population  Proportion of population below the internation...   \n",
       "1         107  Population  Proportion of population covered by social pro...   \n",
       "2         108  Population  Proportion of population covered by social pro...   \n",
       "3         109  Population  Proportion of population covered by social pro...   \n",
       "4         110  Population  Proportion of population covered by social pro...   \n",
       "\n",
       "   Goal Target Indicator Ref     Unit Unit multiplier  1984  1985  ...   2008  \\\n",
       "0     1    1.1         1.1.1  Percent           Units   NaN   NaN  ...    NaN   \n",
       "1     1    1.3         1.3.1  Percent           Units   NaN   NaN  ...    NaN   \n",
       "2     1    1.3         1.3.1  Percent           Units   NaN   NaN  ...    NaN   \n",
       "3     1    1.3         1.3.1  Percent           Units   NaN   NaN  ...    NaN   \n",
       "4     1    1.3         1.3.1  Percent           Units   NaN   NaN  ...    NaN   \n",
       "\n",
       "   2009  2010  2011  2012  2013  2014  2015   2016  2017  \n",
       "0   NaN   NaN   NaN   NaN  10.7   NaN   NaN    NaN   NaN  \n",
       "1   NaN   NaN   NaN   NaN   NaN   NaN   NaN  45.17   NaN  \n",
       "2   NaN   NaN   NaN   NaN   NaN   NaN   NaN  34.86   NaN  \n",
       "3   NaN   NaN   NaN   NaN   NaN   NaN   NaN  27.79   NaN  \n",
       "4   NaN   NaN   NaN   NaN   NaN   NaN   NaN  41.08   NaN  \n",
       "\n",
       "[5 rows x 42 columns]"
      ]
     },
     "execution_count": 3,
     "metadata": {},
     "output_type": "execute_result"
    }
   ],
   "source": [
    "# load csv\n",
    "df = pd.read_csv(\"TargetsForAnalysis.csv\")\n",
    "df.head()"
   ]
  },
  {
   "cell_type": "markdown",
   "metadata": {},
   "source": [
    "As we can see in the dataframe above, we have several rows (measurements) for the same target. To make the best possible analysis, we would like to use the measurements with most values for each target.\n",
    "\n",
    "That's why we first count the number of values for each row and then filter the targets for the rows with most values."
   ]
  },
  {
   "cell_type": "code",
   "execution_count": 4,
   "metadata": {},
   "outputs": [],
   "source": [
    "intyears = list(range(1984, 2018))\n",
    "#print(intyears)\n",
    "\n",
    "years = []\n",
    "for year in intyears:\n",
    "    years.append(str(year))\n",
    "    \n",
    "#print(years)"
   ]
  },
  {
   "cell_type": "code",
   "execution_count": 5,
   "metadata": {},
   "outputs": [],
   "source": [
    "def getnumberofyearswithdata(r):\n",
    "    n = 0\n",
    "    for year in years:\n",
    "        if ~np.isnan(r[year]):\n",
    "            n+=1\n",
    "    return n"
   ]
  },
  {
   "cell_type": "code",
   "execution_count": 6,
   "metadata": {},
   "outputs": [],
   "source": [
    "# new column with number of data points per Indicator\n",
    "df['Years with values'] = df.apply(getnumberofyearswithdata, axis=1)"
   ]
  },
  {
   "cell_type": "markdown",
   "metadata": {},
   "source": [
    "We need at least two data points to conclude any kind of correlation"
   ]
  },
  {
   "cell_type": "code",
   "execution_count": 7,
   "metadata": {
    "scrolled": false
   },
   "outputs": [
    {
     "name": "stdout",
     "output_type": "stream",
     "text": [
      "(120, 43)\n"
     ]
    },
    {
     "data": {
      "text/html": [
       "<div>\n",
       "<style scoped>\n",
       "    .dataframe tbody tr th:only-of-type {\n",
       "        vertical-align: middle;\n",
       "    }\n",
       "\n",
       "    .dataframe tbody tr th {\n",
       "        vertical-align: top;\n",
       "    }\n",
       "\n",
       "    .dataframe thead th {\n",
       "        text-align: right;\n",
       "    }\n",
       "</style>\n",
       "<table border=\"1\" class=\"dataframe\">\n",
       "  <thead>\n",
       "    <tr style=\"text-align: right;\">\n",
       "      <th></th>\n",
       "      <th>Unnamed: 0</th>\n",
       "      <th>Category</th>\n",
       "      <th>Indicator Description</th>\n",
       "      <th>Goal</th>\n",
       "      <th>Target</th>\n",
       "      <th>Indicator Ref</th>\n",
       "      <th>Unit</th>\n",
       "      <th>Unit multiplier</th>\n",
       "      <th>1984</th>\n",
       "      <th>1985</th>\n",
       "      <th>...</th>\n",
       "      <th>2009</th>\n",
       "      <th>2010</th>\n",
       "      <th>2011</th>\n",
       "      <th>2012</th>\n",
       "      <th>2013</th>\n",
       "      <th>2014</th>\n",
       "      <th>2015</th>\n",
       "      <th>2016</th>\n",
       "      <th>2017</th>\n",
       "      <th>Years with values</th>\n",
       "    </tr>\n",
       "  </thead>\n",
       "  <tbody>\n",
       "    <tr>\n",
       "      <th>0</th>\n",
       "      <td>106</td>\n",
       "      <td>Population</td>\n",
       "      <td>Proportion of population below the internation...</td>\n",
       "      <td>1</td>\n",
       "      <td>1.1</td>\n",
       "      <td>1.1.1</td>\n",
       "      <td>Percent</td>\n",
       "      <td>Units</td>\n",
       "      <td>NaN</td>\n",
       "      <td>NaN</td>\n",
       "      <td>...</td>\n",
       "      <td>NaN</td>\n",
       "      <td>NaN</td>\n",
       "      <td>NaN</td>\n",
       "      <td>NaN</td>\n",
       "      <td>10.70</td>\n",
       "      <td>NaN</td>\n",
       "      <td>NaN</td>\n",
       "      <td>NaN</td>\n",
       "      <td>NaN</td>\n",
       "      <td>2</td>\n",
       "    </tr>\n",
       "    <tr>\n",
       "      <th>8</th>\n",
       "      <td>115</td>\n",
       "      <td>Population</td>\n",
       "      <td>Proportion of births attended by skilled healt...</td>\n",
       "      <td>3</td>\n",
       "      <td>3.1</td>\n",
       "      <td>3.1.2</td>\n",
       "      <td>Percent</td>\n",
       "      <td>Units</td>\n",
       "      <td>NaN</td>\n",
       "      <td>NaN</td>\n",
       "      <td>...</td>\n",
       "      <td>NaN</td>\n",
       "      <td>69.88</td>\n",
       "      <td>NaN</td>\n",
       "      <td>NaN</td>\n",
       "      <td>NaN</td>\n",
       "      <td>NaN</td>\n",
       "      <td>NaN</td>\n",
       "      <td>78.49</td>\n",
       "      <td>NaN</td>\n",
       "      <td>3</td>\n",
       "    </tr>\n",
       "    <tr>\n",
       "      <th>9</th>\n",
       "      <td>129</td>\n",
       "      <td>Population</td>\n",
       "      <td>Participation rate in organized learning (one ...</td>\n",
       "      <td>4</td>\n",
       "      <td>4.2</td>\n",
       "      <td>4.2.2</td>\n",
       "      <td>Percent</td>\n",
       "      <td>Units</td>\n",
       "      <td>NaN</td>\n",
       "      <td>NaN</td>\n",
       "      <td>...</td>\n",
       "      <td>59.41</td>\n",
       "      <td>60.44</td>\n",
       "      <td>62.64</td>\n",
       "      <td>64.64</td>\n",
       "      <td>65.20</td>\n",
       "      <td>66.59</td>\n",
       "      <td>NaN</td>\n",
       "      <td>NaN</td>\n",
       "      <td>NaN</td>\n",
       "      <td>12</td>\n",
       "    </tr>\n",
       "    <tr>\n",
       "      <th>10</th>\n",
       "      <td>130</td>\n",
       "      <td>Population</td>\n",
       "      <td>Proportion of population using safely managed ...</td>\n",
       "      <td>6</td>\n",
       "      <td>6.1</td>\n",
       "      <td>6.1.1</td>\n",
       "      <td>Percent</td>\n",
       "      <td>Units</td>\n",
       "      <td>NaN</td>\n",
       "      <td>NaN</td>\n",
       "      <td>...</td>\n",
       "      <td>54.02</td>\n",
       "      <td>55.55</td>\n",
       "      <td>55.91</td>\n",
       "      <td>55.77</td>\n",
       "      <td>55.22</td>\n",
       "      <td>55.03</td>\n",
       "      <td>54.81</td>\n",
       "      <td>NaN</td>\n",
       "      <td>NaN</td>\n",
       "      <td>16</td>\n",
       "    </tr>\n",
       "    <tr>\n",
       "      <th>11</th>\n",
       "      <td>131</td>\n",
       "      <td>Population</td>\n",
       "      <td>Proportion of population using safely managed ...</td>\n",
       "      <td>6</td>\n",
       "      <td>6.1</td>\n",
       "      <td>6.1.1</td>\n",
       "      <td>Percent</td>\n",
       "      <td>Units</td>\n",
       "      <td>NaN</td>\n",
       "      <td>NaN</td>\n",
       "      <td>...</td>\n",
       "      <td>69.90</td>\n",
       "      <td>70.82</td>\n",
       "      <td>71.14</td>\n",
       "      <td>71.22</td>\n",
       "      <td>71.09</td>\n",
       "      <td>71.14</td>\n",
       "      <td>71.16</td>\n",
       "      <td>NaN</td>\n",
       "      <td>NaN</td>\n",
       "      <td>16</td>\n",
       "    </tr>\n",
       "  </tbody>\n",
       "</table>\n",
       "<p>5 rows × 43 columns</p>\n",
       "</div>"
      ],
      "text/plain": [
       "    Unnamed: 0    Category                              Indicator Description  \\\n",
       "0          106  Population  Proportion of population below the internation...   \n",
       "8          115  Population  Proportion of births attended by skilled healt...   \n",
       "9          129  Population  Participation rate in organized learning (one ...   \n",
       "10         130  Population  Proportion of population using safely managed ...   \n",
       "11         131  Population  Proportion of population using safely managed ...   \n",
       "\n",
       "    Goal Target Indicator Ref     Unit Unit multiplier  1984  1985  \\\n",
       "0      1    1.1         1.1.1  Percent           Units   NaN   NaN   \n",
       "8      3    3.1         3.1.2  Percent           Units   NaN   NaN   \n",
       "9      4    4.2         4.2.2  Percent           Units   NaN   NaN   \n",
       "10     6    6.1         6.1.1  Percent           Units   NaN   NaN   \n",
       "11     6    6.1         6.1.1  Percent           Units   NaN   NaN   \n",
       "\n",
       "          ...           2009   2010   2011   2012   2013   2014   2015   2016  \\\n",
       "0         ...            NaN    NaN    NaN    NaN  10.70    NaN    NaN    NaN   \n",
       "8         ...            NaN  69.88    NaN    NaN    NaN    NaN    NaN  78.49   \n",
       "9         ...          59.41  60.44  62.64  64.64  65.20  66.59    NaN    NaN   \n",
       "10        ...          54.02  55.55  55.91  55.77  55.22  55.03  54.81    NaN   \n",
       "11        ...          69.90  70.82  71.14  71.22  71.09  71.14  71.16    NaN   \n",
       "\n",
       "    2017  Years with values  \n",
       "0    NaN                  2  \n",
       "8    NaN                  3  \n",
       "9    NaN                 12  \n",
       "10   NaN                 16  \n",
       "11   NaN                 16  \n",
       "\n",
       "[5 rows x 43 columns]"
      ]
     },
     "execution_count": 7,
     "metadata": {},
     "output_type": "execute_result"
    }
   ],
   "source": [
    "df_new = df.loc[df['Years with values'] > 1]\n",
    "\n",
    "# see how many rows we deleted\n",
    "print(df_new.shape)\n",
    "df_new.head()"
   ]
  },
  {
   "cell_type": "markdown",
   "metadata": {},
   "source": [
    "See how many Targets are associated with the Indicators we found"
   ]
  },
  {
   "cell_type": "code",
   "execution_count": 8,
   "metadata": {},
   "outputs": [
    {
     "name": "stderr",
     "output_type": "stream",
     "text": [
      "/home/felix/anaconda3/lib/python3.6/site-packages/ipykernel_launcher.py:1: SettingWithCopyWarning: \n",
      "A value is trying to be set on a copy of a slice from a DataFrame.\n",
      "Try using .loc[row_indexer,col_indexer] = value instead\n",
      "\n",
      "See the caveats in the documentation: http://pandas.pydata.org/pandas-docs/stable/indexing.html#indexing-view-versus-copy\n",
      "  \"\"\"Entry point for launching an IPython kernel.\n"
     ]
    }
   ],
   "source": [
    "df_new['Target'] = df_new.apply(lambda x: str(x['Target']), axis=1)"
   ]
  },
  {
   "cell_type": "markdown",
   "metadata": {},
   "source": [
    "See which Targets are left in our data frame."
   ]
  },
  {
   "cell_type": "code",
   "execution_count": 9,
   "metadata": {},
   "outputs": [],
   "source": [
    "targets = list(set(df_new['Target']))"
   ]
  },
  {
   "cell_type": "markdown",
   "metadata": {},
   "source": [
    "We know that one Target can have potentially more than one Indicator, and that Indicators can be separetely measured for, e.g., genders, age groups, etc.\n",
    "But since we want to find interrelations between the Targets, only the row per Target with maximum amount of data is considered."
   ]
  },
  {
   "cell_type": "code",
   "execution_count": 10,
   "metadata": {},
   "outputs": [],
   "source": [
    "# create empty dictionary\n",
    "target_dfs = {}"
   ]
  },
  {
   "cell_type": "code",
   "execution_count": 11,
   "metadata": {},
   "outputs": [],
   "source": [
    "for t in targets:\n",
    "    target_dfs[t] = df_new[df_new['Target']==t]"
   ]
  },
  {
   "cell_type": "code",
   "execution_count": 12,
   "metadata": {},
   "outputs": [
    {
     "data": {
      "text/html": [
       "<div>\n",
       "<style scoped>\n",
       "    .dataframe tbody tr th:only-of-type {\n",
       "        vertical-align: middle;\n",
       "    }\n",
       "\n",
       "    .dataframe tbody tr th {\n",
       "        vertical-align: top;\n",
       "    }\n",
       "\n",
       "    .dataframe thead th {\n",
       "        text-align: right;\n",
       "    }\n",
       "</style>\n",
       "<table border=\"1\" class=\"dataframe\">\n",
       "  <thead>\n",
       "    <tr style=\"text-align: right;\">\n",
       "      <th></th>\n",
       "      <th>Unnamed: 0</th>\n",
       "      <th>Category</th>\n",
       "      <th>Indicator Description</th>\n",
       "      <th>Goal</th>\n",
       "      <th>Target</th>\n",
       "      <th>Indicator Ref</th>\n",
       "      <th>Unit</th>\n",
       "      <th>Unit multiplier</th>\n",
       "      <th>1984</th>\n",
       "      <th>1985</th>\n",
       "      <th>...</th>\n",
       "      <th>2009</th>\n",
       "      <th>2010</th>\n",
       "      <th>2011</th>\n",
       "      <th>2012</th>\n",
       "      <th>2013</th>\n",
       "      <th>2014</th>\n",
       "      <th>2015</th>\n",
       "      <th>2016</th>\n",
       "      <th>2017</th>\n",
       "      <th>Years with values</th>\n",
       "    </tr>\n",
       "  </thead>\n",
       "  <tbody>\n",
       "    <tr>\n",
       "      <th>177</th>\n",
       "      <td>77</td>\n",
       "      <td>Environment (Tonnes)</td>\n",
       "      <td>Material footprint, material footprint per cap...</td>\n",
       "      <td>12</td>\n",
       "      <td>12.2</td>\n",
       "      <td>12.2.1</td>\n",
       "      <td>Metric Tons</td>\n",
       "      <td>Units</td>\n",
       "      <td>NaN</td>\n",
       "      <td>NaN</td>\n",
       "      <td>...</td>\n",
       "      <td>9.690000e+00</td>\n",
       "      <td>1.010000e+01</td>\n",
       "      <td>NaN</td>\n",
       "      <td>NaN</td>\n",
       "      <td>NaN</td>\n",
       "      <td>NaN</td>\n",
       "      <td>NaN</td>\n",
       "      <td>NaN</td>\n",
       "      <td>NaN</td>\n",
       "      <td>11</td>\n",
       "    </tr>\n",
       "    <tr>\n",
       "      <th>178</th>\n",
       "      <td>78</td>\n",
       "      <td>Environment (Tonnes)</td>\n",
       "      <td>Material footprint, material footprint per cap...</td>\n",
       "      <td>12</td>\n",
       "      <td>12.2</td>\n",
       "      <td>12.2.1</td>\n",
       "      <td>Metric Tons</td>\n",
       "      <td>Units</td>\n",
       "      <td>NaN</td>\n",
       "      <td>NaN</td>\n",
       "      <td>...</td>\n",
       "      <td>1.330000e-03</td>\n",
       "      <td>1.330000e-03</td>\n",
       "      <td>NaN</td>\n",
       "      <td>NaN</td>\n",
       "      <td>NaN</td>\n",
       "      <td>NaN</td>\n",
       "      <td>NaN</td>\n",
       "      <td>NaN</td>\n",
       "      <td>NaN</td>\n",
       "      <td>11</td>\n",
       "    </tr>\n",
       "    <tr>\n",
       "      <th>179</th>\n",
       "      <td>79</td>\n",
       "      <td>Environment (Tonnes)</td>\n",
       "      <td>Material footprint, material footprint per cap...</td>\n",
       "      <td>12</td>\n",
       "      <td>12.2</td>\n",
       "      <td>12.2.1</td>\n",
       "      <td>Metric Tons</td>\n",
       "      <td>Units</td>\n",
       "      <td>NaN</td>\n",
       "      <td>NaN</td>\n",
       "      <td>...</td>\n",
       "      <td>6.573055e+16</td>\n",
       "      <td>6.932903e+16</td>\n",
       "      <td>NaN</td>\n",
       "      <td>NaN</td>\n",
       "      <td>NaN</td>\n",
       "      <td>NaN</td>\n",
       "      <td>NaN</td>\n",
       "      <td>NaN</td>\n",
       "      <td>NaN</td>\n",
       "      <td>11</td>\n",
       "    </tr>\n",
       "    <tr>\n",
       "      <th>183</th>\n",
       "      <td>83</td>\n",
       "      <td>Environment (Tonnes)</td>\n",
       "      <td>Domestic material consumption, domestic materi...</td>\n",
       "      <td>12</td>\n",
       "      <td>12.2</td>\n",
       "      <td>12.2.2</td>\n",
       "      <td>Metric Tons</td>\n",
       "      <td>Units</td>\n",
       "      <td>NaN</td>\n",
       "      <td>NaN</td>\n",
       "      <td>...</td>\n",
       "      <td>9.750000e+00</td>\n",
       "      <td>1.006000e+01</td>\n",
       "      <td>NaN</td>\n",
       "      <td>NaN</td>\n",
       "      <td>NaN</td>\n",
       "      <td>NaN</td>\n",
       "      <td>NaN</td>\n",
       "      <td>NaN</td>\n",
       "      <td>NaN</td>\n",
       "      <td>11</td>\n",
       "    </tr>\n",
       "    <tr>\n",
       "      <th>184</th>\n",
       "      <td>84</td>\n",
       "      <td>Environment (Tonnes)</td>\n",
       "      <td>Domestic material consumption, domestic materi...</td>\n",
       "      <td>12</td>\n",
       "      <td>12.2</td>\n",
       "      <td>12.2.2</td>\n",
       "      <td>Metric Tons</td>\n",
       "      <td>Units</td>\n",
       "      <td>NaN</td>\n",
       "      <td>NaN</td>\n",
       "      <td>...</td>\n",
       "      <td>1.330000e-03</td>\n",
       "      <td>1.330000e-03</td>\n",
       "      <td>NaN</td>\n",
       "      <td>NaN</td>\n",
       "      <td>NaN</td>\n",
       "      <td>NaN</td>\n",
       "      <td>NaN</td>\n",
       "      <td>NaN</td>\n",
       "      <td>NaN</td>\n",
       "      <td>11</td>\n",
       "    </tr>\n",
       "    <tr>\n",
       "      <th>185</th>\n",
       "      <td>85</td>\n",
       "      <td>Environment (Tonnes)</td>\n",
       "      <td>Domestic material consumption, domestic materi...</td>\n",
       "      <td>12</td>\n",
       "      <td>12.2</td>\n",
       "      <td>12.2.2</td>\n",
       "      <td>Metric Tons</td>\n",
       "      <td>Units</td>\n",
       "      <td>NaN</td>\n",
       "      <td>NaN</td>\n",
       "      <td>...</td>\n",
       "      <td>6.807354e+16</td>\n",
       "      <td>7.099971e+16</td>\n",
       "      <td>NaN</td>\n",
       "      <td>NaN</td>\n",
       "      <td>NaN</td>\n",
       "      <td>NaN</td>\n",
       "      <td>NaN</td>\n",
       "      <td>NaN</td>\n",
       "      <td>NaN</td>\n",
       "      <td>11</td>\n",
       "    </tr>\n",
       "  </tbody>\n",
       "</table>\n",
       "<p>6 rows × 43 columns</p>\n",
       "</div>"
      ],
      "text/plain": [
       "     Unnamed: 0              Category  \\\n",
       "177          77  Environment (Tonnes)   \n",
       "178          78  Environment (Tonnes)   \n",
       "179          79  Environment (Tonnes)   \n",
       "183          83  Environment (Tonnes)   \n",
       "184          84  Environment (Tonnes)   \n",
       "185          85  Environment (Tonnes)   \n",
       "\n",
       "                                 Indicator Description  Goal Target  \\\n",
       "177  Material footprint, material footprint per cap...    12   12.2   \n",
       "178  Material footprint, material footprint per cap...    12   12.2   \n",
       "179  Material footprint, material footprint per cap...    12   12.2   \n",
       "183  Domestic material consumption, domestic materi...    12   12.2   \n",
       "184  Domestic material consumption, domestic materi...    12   12.2   \n",
       "185  Domestic material consumption, domestic materi...    12   12.2   \n",
       "\n",
       "    Indicator Ref         Unit Unit multiplier  1984  1985        ...          \\\n",
       "177        12.2.1  Metric Tons           Units   NaN   NaN        ...           \n",
       "178        12.2.1  Metric Tons           Units   NaN   NaN        ...           \n",
       "179        12.2.1  Metric Tons           Units   NaN   NaN        ...           \n",
       "183        12.2.2  Metric Tons           Units   NaN   NaN        ...           \n",
       "184        12.2.2  Metric Tons           Units   NaN   NaN        ...           \n",
       "185        12.2.2  Metric Tons           Units   NaN   NaN        ...           \n",
       "\n",
       "             2009          2010  2011  2012  2013  2014  2015  2016  2017  \\\n",
       "177  9.690000e+00  1.010000e+01   NaN   NaN   NaN   NaN   NaN   NaN   NaN   \n",
       "178  1.330000e-03  1.330000e-03   NaN   NaN   NaN   NaN   NaN   NaN   NaN   \n",
       "179  6.573055e+16  6.932903e+16   NaN   NaN   NaN   NaN   NaN   NaN   NaN   \n",
       "183  9.750000e+00  1.006000e+01   NaN   NaN   NaN   NaN   NaN   NaN   NaN   \n",
       "184  1.330000e-03  1.330000e-03   NaN   NaN   NaN   NaN   NaN   NaN   NaN   \n",
       "185  6.807354e+16  7.099971e+16   NaN   NaN   NaN   NaN   NaN   NaN   NaN   \n",
       "\n",
       "     Years with values  \n",
       "177                 11  \n",
       "178                 11  \n",
       "179                 11  \n",
       "183                 11  \n",
       "184                 11  \n",
       "185                 11  \n",
       "\n",
       "[6 rows x 43 columns]"
      ]
     },
     "execution_count": 12,
     "metadata": {},
     "output_type": "execute_result"
    }
   ],
   "source": [
    "# example of Target with more than one Indicator\n",
    "target_dfs['12.2']"
   ]
  },
  {
   "cell_type": "code",
   "execution_count": 13,
   "metadata": {},
   "outputs": [],
   "source": [
    "# find row with maximum amount of data points for each target\n",
    "max_dfrows = {}\n",
    "\n",
    "for target in targets:\n",
    "    if target_dfs[target].shape[0] > 1:\n",
    "        max_dfrows[target] = target_dfs[target].loc[target_dfs[target]['Years with values'].idxmax()].to_frame().T\n",
    "    else:\n",
    "        max_dfrows[target]=target_dfs[target]"
   ]
  },
  {
   "cell_type": "code",
   "execution_count": 14,
   "metadata": {},
   "outputs": [],
   "source": [
    "frames = list(max_dfrows[target] for target in targets)"
   ]
  },
  {
   "cell_type": "code",
   "execution_count": 15,
   "metadata": {},
   "outputs": [],
   "source": [
    "merged_df = pd.concat(frames, axis=0)"
   ]
  },
  {
   "cell_type": "code",
   "execution_count": 16,
   "metadata": {},
   "outputs": [],
   "source": [
    "units = list(set(merged_df['Unit']))"
   ]
  },
  {
   "cell_type": "markdown",
   "metadata": {},
   "source": [
    "We know that most of our Indicators are given in the unit 'percent', but we want to see here what are other units"
   ]
  },
  {
   "cell_type": "code",
   "execution_count": 17,
   "metadata": {},
   "outputs": [
    {
     "data": {
      "text/plain": [
       "['Metric Tons', 'USD', 'Constant USD']"
      ]
     },
     "execution_count": 17,
     "metadata": {},
     "output_type": "execute_result"
    }
   ],
   "source": [
    "units.remove('Percent')\n",
    "units"
   ]
  },
  {
   "cell_type": "markdown",
   "metadata": {},
   "source": [
    "Which and how many Indicators are expressed in other units than 'percent'?"
   ]
  },
  {
   "cell_type": "code",
   "execution_count": 18,
   "metadata": {},
   "outputs": [
    {
     "data": {
      "text/html": [
       "<div>\n",
       "<style scoped>\n",
       "    .dataframe tbody tr th:only-of-type {\n",
       "        vertical-align: middle;\n",
       "    }\n",
       "\n",
       "    .dataframe tbody tr th {\n",
       "        vertical-align: top;\n",
       "    }\n",
       "\n",
       "    .dataframe thead th {\n",
       "        text-align: right;\n",
       "    }\n",
       "</style>\n",
       "<table border=\"1\" class=\"dataframe\">\n",
       "  <thead>\n",
       "    <tr style=\"text-align: right;\">\n",
       "      <th></th>\n",
       "      <th>Unnamed: 0</th>\n",
       "      <th>Category</th>\n",
       "      <th>Indicator Description</th>\n",
       "      <th>Goal</th>\n",
       "      <th>Target</th>\n",
       "      <th>Indicator Ref</th>\n",
       "      <th>Unit</th>\n",
       "      <th>Unit multiplier</th>\n",
       "      <th>1984</th>\n",
       "      <th>1985</th>\n",
       "      <th>...</th>\n",
       "      <th>2009</th>\n",
       "      <th>2010</th>\n",
       "      <th>2011</th>\n",
       "      <th>2012</th>\n",
       "      <th>2013</th>\n",
       "      <th>2014</th>\n",
       "      <th>2015</th>\n",
       "      <th>2016</th>\n",
       "      <th>2017</th>\n",
       "      <th>Years with values</th>\n",
       "    </tr>\n",
       "  </thead>\n",
       "  <tbody>\n",
       "    <tr>\n",
       "      <th>174</th>\n",
       "      <td>74</td>\n",
       "      <td>Environment (Tonnes)</td>\n",
       "      <td>Material footprint, material footprint per cap...</td>\n",
       "      <td>8</td>\n",
       "      <td>8.4</td>\n",
       "      <td>8.4.1</td>\n",
       "      <td>Metric Tons</td>\n",
       "      <td>Units</td>\n",
       "      <td>NaN</td>\n",
       "      <td>NaN</td>\n",
       "      <td>...</td>\n",
       "      <td>9.69</td>\n",
       "      <td>10.1</td>\n",
       "      <td>NaN</td>\n",
       "      <td>NaN</td>\n",
       "      <td>NaN</td>\n",
       "      <td>NaN</td>\n",
       "      <td>NaN</td>\n",
       "      <td>NaN</td>\n",
       "      <td>NaN</td>\n",
       "      <td>11</td>\n",
       "    </tr>\n",
       "    <tr>\n",
       "      <th>141</th>\n",
       "      <td>36</td>\n",
       "      <td>E&amp;P (USD)</td>\n",
       "      <td>Dollar value of all resources made available t...</td>\n",
       "      <td>17</td>\n",
       "      <td>17.19</td>\n",
       "      <td>17.19.1</td>\n",
       "      <td>USD</td>\n",
       "      <td>Units</td>\n",
       "      <td>NaN</td>\n",
       "      <td>NaN</td>\n",
       "      <td>...</td>\n",
       "      <td>1.40685e+08</td>\n",
       "      <td>3.51996e+08</td>\n",
       "      <td>4.83067e+08</td>\n",
       "      <td>2.08601e+08</td>\n",
       "      <td>4.43106e+08</td>\n",
       "      <td>3.49844e+08</td>\n",
       "      <td>NaN</td>\n",
       "      <td>NaN</td>\n",
       "      <td>NaN</td>\n",
       "      <td>9</td>\n",
       "    </tr>\n",
       "    <tr>\n",
       "      <th>140</th>\n",
       "      <td>20</td>\n",
       "      <td>E&amp;P (Percent)</td>\n",
       "      <td>Net official development assistance, total and...</td>\n",
       "      <td>17</td>\n",
       "      <td>17.2</td>\n",
       "      <td>17.2.1</td>\n",
       "      <td>Constant USD</td>\n",
       "      <td>Billions</td>\n",
       "      <td>NaN</td>\n",
       "      <td>NaN</td>\n",
       "      <td>...</td>\n",
       "      <td>0.000114281</td>\n",
       "      <td>0.00012063</td>\n",
       "      <td>0.000119673</td>\n",
       "      <td>0.000115308</td>\n",
       "      <td>0.000121838</td>\n",
       "      <td>0.000123946</td>\n",
       "      <td>0.000131555</td>\n",
       "      <td>0.000143329</td>\n",
       "      <td>NaN</td>\n",
       "      <td>17</td>\n",
       "    </tr>\n",
       "    <tr>\n",
       "      <th>191</th>\n",
       "      <td>95</td>\n",
       "      <td>Environment (Tonnes)</td>\n",
       "      <td>CO2 emission per unit of value added</td>\n",
       "      <td>9</td>\n",
       "      <td>9.4</td>\n",
       "      <td>9.4.1</td>\n",
       "      <td>Metric Tons</td>\n",
       "      <td>Units</td>\n",
       "      <td>NaN</td>\n",
       "      <td>NaN</td>\n",
       "      <td>...</td>\n",
       "      <td>2.87486e+10</td>\n",
       "      <td>3.04504e+10</td>\n",
       "      <td>3.13544e+10</td>\n",
       "      <td>3.15929e+10</td>\n",
       "      <td>3.21294e+10</td>\n",
       "      <td>3.2381e+10</td>\n",
       "      <td>NaN</td>\n",
       "      <td>NaN</td>\n",
       "      <td>NaN</td>\n",
       "      <td>15</td>\n",
       "    </tr>\n",
       "    <tr>\n",
       "      <th>177</th>\n",
       "      <td>77</td>\n",
       "      <td>Environment (Tonnes)</td>\n",
       "      <td>Material footprint, material footprint per cap...</td>\n",
       "      <td>12</td>\n",
       "      <td>12.2</td>\n",
       "      <td>12.2.1</td>\n",
       "      <td>Metric Tons</td>\n",
       "      <td>Units</td>\n",
       "      <td>NaN</td>\n",
       "      <td>NaN</td>\n",
       "      <td>...</td>\n",
       "      <td>9.69</td>\n",
       "      <td>10.1</td>\n",
       "      <td>NaN</td>\n",
       "      <td>NaN</td>\n",
       "      <td>NaN</td>\n",
       "      <td>NaN</td>\n",
       "      <td>NaN</td>\n",
       "      <td>NaN</td>\n",
       "      <td>NaN</td>\n",
       "      <td>11</td>\n",
       "    </tr>\n",
       "  </tbody>\n",
       "</table>\n",
       "<p>5 rows × 43 columns</p>\n",
       "</div>"
      ],
      "text/plain": [
       "    Unnamed: 0              Category  \\\n",
       "174         74  Environment (Tonnes)   \n",
       "141         36             E&P (USD)   \n",
       "140         20         E&P (Percent)   \n",
       "191         95  Environment (Tonnes)   \n",
       "177         77  Environment (Tonnes)   \n",
       "\n",
       "                                 Indicator Description Goal Target  \\\n",
       "174  Material footprint, material footprint per cap...    8    8.4   \n",
       "141  Dollar value of all resources made available t...   17  17.19   \n",
       "140  Net official development assistance, total and...   17   17.2   \n",
       "191               CO2 emission per unit of value added    9    9.4   \n",
       "177  Material footprint, material footprint per cap...   12   12.2   \n",
       "\n",
       "    Indicator Ref          Unit Unit multiplier 1984 1985        ...         \\\n",
       "174         8.4.1   Metric Tons           Units  NaN  NaN        ...          \n",
       "141       17.19.1           USD           Units  NaN  NaN        ...          \n",
       "140        17.2.1  Constant USD        Billions  NaN  NaN        ...          \n",
       "191         9.4.1   Metric Tons           Units  NaN  NaN        ...          \n",
       "177        12.2.1   Metric Tons           Units  NaN  NaN        ...          \n",
       "\n",
       "            2009         2010         2011         2012         2013  \\\n",
       "174         9.69         10.1          NaN          NaN          NaN   \n",
       "141  1.40685e+08  3.51996e+08  4.83067e+08  2.08601e+08  4.43106e+08   \n",
       "140  0.000114281   0.00012063  0.000119673  0.000115308  0.000121838   \n",
       "191  2.87486e+10  3.04504e+10  3.13544e+10  3.15929e+10  3.21294e+10   \n",
       "177         9.69         10.1          NaN          NaN          NaN   \n",
       "\n",
       "            2014         2015         2016 2017 Years with values  \n",
       "174          NaN          NaN          NaN  NaN                11  \n",
       "141  3.49844e+08          NaN          NaN  NaN                 9  \n",
       "140  0.000123946  0.000131555  0.000143329  NaN                17  \n",
       "191   3.2381e+10          NaN          NaN  NaN                15  \n",
       "177          NaN          NaN          NaN  NaN                11  \n",
       "\n",
       "[5 rows x 43 columns]"
      ]
     },
     "execution_count": 18,
     "metadata": {},
     "output_type": "execute_result"
    }
   ],
   "source": [
    "not_percent = merged_df[merged_df['Unit'].isin(units)]\n",
    "not_percent"
   ]
  },
  {
   "cell_type": "markdown",
   "metadata": {},
   "source": [
    "### Clean up data frame"
   ]
  },
  {
   "cell_type": "markdown",
   "metadata": {},
   "source": [
    "To prepare the dataframe for the actual analysis, we remove unused columns and transpose the dataframe, having years of measurements as rows and targets as columns."
   ]
  },
  {
   "cell_type": "code",
   "execution_count": 19,
   "metadata": {},
   "outputs": [],
   "source": [
    "# Drop unused columns\n",
    "final_df = merged_df.copy()\n",
    "\n",
    "final_df.drop(['Unnamed: 0', 'Category', 'Indicator Description', 'Goal', 'Indicator Ref', 'Unit',\n",
    "              'Unit multiplier', 'Years with values'], inplace=True, axis=1)\n",
    "\n",
    "final_df = final_df.set_index('Target')\n",
    "\n",
    "# transpose\n",
    "final_t_original = final_df.T\n",
    "\n",
    "targets = list(final_t_original.columns)"
   ]
  },
  {
   "cell_type": "markdown",
   "metadata": {},
   "source": [
    "Normalize the data set to reduce any covariate shift"
   ]
  },
  {
   "cell_type": "code",
   "execution_count": 20,
   "metadata": {},
   "outputs": [],
   "source": [
    "def normalize_df(df):\n",
    "    return (df -df.mean())/df.std()"
   ]
  },
  {
   "cell_type": "code",
   "execution_count": 21,
   "metadata": {
    "scrolled": true
   },
   "outputs": [],
   "source": [
    "final_t = normalize_df(final_t_original)"
   ]
  },
  {
   "cell_type": "code",
   "execution_count": 22,
   "metadata": {
    "scrolled": true
   },
   "outputs": [],
   "source": [
    "# shuffle data\n",
    "final_t_shuffled = sklearn.utils.shuffle(final_t, random_state=200)"
   ]
  },
  {
   "cell_type": "code",
   "execution_count": 23,
   "metadata": {},
   "outputs": [],
   "source": [
    "std_df = final_t_original.std()\n",
    "mean_df = final_t_original.mean()"
   ]
  },
  {
   "cell_type": "code",
   "execution_count": 24,
   "metadata": {},
   "outputs": [
    {
     "data": {
      "text/plain": [
       "2.424699294070642"
      ]
     },
     "execution_count": 24,
     "metadata": {},
     "output_type": "execute_result"
    }
   ],
   "source": [
    "std_df['2.1']"
   ]
  },
  {
   "cell_type": "markdown",
   "metadata": {},
   "source": [
    "### Structure Learning"
   ]
  },
  {
   "cell_type": "markdown",
   "metadata": {},
   "source": [
    "We learn the structure of the network by deploying linear regression and calculate error measurements. In detail, we say that a correlation between two Targets exists, if the (standardized) correlation coefficient is higher than 0.9."
   ]
  },
  {
   "cell_type": "code",
   "execution_count": 39,
   "metadata": {},
   "outputs": [],
   "source": [
    "import sklearn\n",
    "from sklearn.metrics import r2_score\n",
    "from scipy.stats import pearsonr"
   ]
  },
  {
   "cell_type": "code",
   "execution_count": 40,
   "metadata": {},
   "outputs": [],
   "source": [
    "def calcCorr(df, target1, target2):\n",
    "    # list of values\n",
    "    t1_list = df[target1].tolist()\n",
    "    t2_list = df[target2].tolist()\n",
    "                    \n",
    "    #correlation between two targets\n",
    "    mask = ~pd.isnull(t1_list) & ~pd.isnull(t2_list)\n",
    "    t1_list = list(itertools.compress(t1_list, mask))#t1_list[mask]\n",
    "    t2_list = list(itertools.compress(t2_list, mask))\n",
    "\n",
    "                    \n",
    "    #correlation between two targets\n",
    "    pearson_r = pearsonr(t1_list, t2_list)[0]\n",
    "    corrCoef = r2_score(t1_list, t2_list)\n",
    "    \n",
    "    return pearson_r, corrCoef\n",
    "\n",
    "def compute_error(trues, predicted):\n",
    "    mae = np.mean(np.abs(predicted - trues))\n",
    "    rmse = np.sqrt(np.mean((predicted - trues)**2))\n",
    "    \n",
    "    if len(trues)>2:\n",
    "        rae = np.sum(np.abs(predicted - trues)) / np.sum(np.abs(trues - np.mean(trues)))\n",
    "        r2 = max(0, 1 - np.sum((trues-predicted)**2) / np.sum((trues - np.mean(trues))**2))\n",
    "    else:\n",
    "        rae = np.nan\n",
    "        r2 = np.nan\n",
    "    return mae, rae, rmse, r2"
   ]
  },
  {
   "cell_type": "code",
   "execution_count": 73,
   "metadata": {
    "scrolled": true
   },
   "outputs": [
    {
     "name": "stderr",
     "output_type": "stream",
     "text": [
      "/home/felix/anaconda3/lib/python3.6/site-packages/ipykernel_launcher.py:31: FutureWarning: reshape is deprecated and will raise in a subsequent release. Please use .values.reshape(...) instead\n",
      "/home/felix/anaconda3/lib/python3.6/site-packages/ipykernel_launcher.py:32: FutureWarning: reshape is deprecated and will raise in a subsequent release. Please use .values.reshape(...) instead\n"
     ]
    },
    {
     "data": {
      "image/png": "[encoded data removed]",
      "text/plain": [
       "<Figure size 432x288 with 1 Axes>"
      ]
     },
     "metadata": {},
     "output_type": "display_data"
    },
    {
     "name": "stdout",
     "output_type": "stream",
     "text": [
      "MAE: 0.37398\n",
      "RMSE: 0.52717\n",
      "R2: 0.704\n",
      "17.3 9.c\n",
      "Coefficient 0.6775768580004266\n",
      "--------------------------\n",
      "\n",
      "\n",
      "17.3 1.1\n",
      "Coefficient 0.0\n",
      "--------------------------\n",
      "\n",
      "\n",
      "17.3 8.1\n",
      "Coefficient -1.5028847311599307\n",
      "--------------------------\n",
      "\n",
      "\n"
     ]
    },
    {
     "name": "stderr",
     "output_type": "stream",
     "text": [
      "/home/felix/anaconda3/lib/python3.6/site-packages/scipy/stats/stats.py:3003: RuntimeWarning: invalid value encountered in double_scalars\n",
      "  r = r_num / r_den\n"
     ]
    },
    {
     "data": {
      "image/png": "[encoded data removed]",
      "text/plain": [
       "<Figure size 432x288 with 1 Axes>"
      ]
     },
     "metadata": {},
     "output_type": "display_data"
    },
    {
     "name": "stdout",
     "output_type": "stream",
     "text": [
      "MAE: 0.36480\n",
      "RMSE: 0.40741\n",
      "R2: 0.823\n",
      "17.3 3.3\n",
      "Coefficient -2.8143347377381893\n",
      "--------------------------\n",
      "\n",
      "\n",
      "17.3 3.6\n",
      "Coefficient -1.296350104222597\n",
      "--------------------------\n",
      "\n",
      "\n"
     ]
    },
    {
     "data": {
      "image/png": "[encoded data removed]",
      "text/plain": [
       "<Figure size 432x288 with 1 Axes>"
      ]
     },
     "metadata": {},
     "output_type": "display_data"
    },
    {
     "name": "stdout",
     "output_type": "stream",
     "text": [
      "MAE: 0.14956\n",
      "RMSE: 0.18861\n",
      "R2: 0.963\n",
      "17.3 15.1\n",
      "Coefficient 0.9484962895459196\n",
      "--------------------------\n",
      "\n",
      "\n"
     ]
    },
    {
     "data": {
      "image/png": "[encoded data removed]",
      "text/plain": [
       "<Figure size 432x288 with 1 Axes>"
      ]
     },
     "metadata": {},
     "output_type": "display_data"
    },
    {
     "name": "stdout",
     "output_type": "stream",
     "text": [
      "MAE: 0.16512\n",
      "RMSE: 0.18415\n",
      "R2: 0.963\n",
      "17.3 15.4\n",
      "Coefficient 0.9438191720174137\n",
      "--------------------------\n",
      "\n",
      "\n",
      "17.3 6.b\n",
      "Coefficient 0.0\n",
      "--------------------------\n",
      "\n",
      "\n"
     ]
    },
    {
     "data": {
      "image/png": "[encoded data removed]",
      "text/plain": [
       "<Figure size 432x288 with 1 Axes>"
      ]
     },
     "metadata": {},
     "output_type": "display_data"
    },
    {
     "name": "stdout",
     "output_type": "stream",
     "text": [
      "MAE: 0.03773\n",
      "RMSE: 0.04524\n",
      "R2: 0.997\n",
      "17.3 3.1\n",
      "Coefficient -1.8552661357312257\n",
      "--------------------------\n",
      "\n",
      "\n",
      "17.3 16.3\n",
      "Coefficient -2.340841297618124\n",
      "--------------------------\n",
      "\n",
      "\n"
     ]
    },
    {
     "data": {
      "image/png": "[encoded data removed]",
      "text/plain": [
       "<Figure size 432x288 with 1 Axes>"
      ]
     },
     "metadata": {},
     "output_type": "display_data"
    },
    {
     "name": "stdout",
     "output_type": "stream",
     "text": [
      "MAE: 0.18319\n",
      "RMSE: 0.18509\n",
      "R2: 0.957\n",
      "17.3 16.a\n",
      "Coefficient 0.8734962422735247\n",
      "--------------------------\n",
      "\n",
      "\n"
     ]
    },
    {
     "data": {
      "image/png": "[encoded data removed]",
      "text/plain": [
       "<Figure size 432x288 with 1 Axes>"
      ]
     },
     "metadata": {},
     "output_type": "display_data"
    },
    {
     "name": "stdout",
     "output_type": "stream",
     "text": [
      "MAE: 0.19292\n",
      "RMSE: 0.22492\n",
      "R2: 0.944\n",
      "17.3 8.4\n",
      "Coefficient 0.6660389073749532\n",
      "--------------------------\n",
      "\n",
      "\n"
     ]
    },
    {
     "data": {
      "image/png": "[encoded data removed]",
      "text/plain": [
       "<Figure size 432x288 with 1 Axes>"
      ]
     },
     "metadata": {},
     "output_type": "display_data"
    },
    {
     "name": "stdout",
     "output_type": "stream",
     "text": [
      "MAE: 0.17661\n",
      "RMSE: 0.20953\n",
      "R2: 0.945\n",
      "17.3 10.c\n",
      "Coefficient -20.941983499288117\n",
      "--------------------------\n",
      "\n",
      "\n"
     ]
    },
    {
     "data": {
      "image/png": "[encoded data removed]",
      "text/plain": [
       "<Figure size 432x288 with 1 Axes>"
      ]
     },
     "metadata": {},
     "output_type": "display_data"
    },
    {
     "name": "stdout",
     "output_type": "stream",
     "text": [
      "MAE: 0.70540\n",
      "RMSE: 0.82393\n",
      "R2: 0.273\n",
      "17.3 7.2\n",
      "Coefficient -0.022854526261139263\n",
      "--------------------------\n",
      "\n",
      "\n",
      "17.3 17.19\n",
      "Coefficient -10.01954704868308\n",
      "--------------------------\n",
      "\n",
      "\n"
     ]
    },
    {
     "data": {
      "image/png": "[encoded data removed]",
      "text/plain": [
       "<Figure size 432x288 with 1 Axes>"
      ]
     },
     "metadata": {},
     "output_type": "display_data"
    },
    {
     "name": "stdout",
     "output_type": "stream",
     "text": [
      "MAE: 0.21113\n",
      "RMSE: 0.28990\n",
      "R2: 0.896\n",
      "17.3 17.2\n",
      "Coefficient 0.8837188986249602\n",
      "--------------------------\n",
      "\n",
      "\n",
      "17.3 8.2\n",
      "Coefficient -1.214759178328312\n",
      "--------------------------\n",
      "\n",
      "\n"
     ]
    },
    {
     "data": {
      "image/png": "[encoded data removed]",
      "text/plain": [
       "<Figure size 432x288 with 1 Axes>"
      ]
     },
     "metadata": {},
     "output_type": "display_data"
    },
    {
     "name": "stdout",
     "output_type": "stream",
     "text": [
      "MAE: 0.17392\n",
      "RMSE: 0.19128\n",
      "R2: 0.951\n",
      "17.3 7.1\n",
      "Coefficient 0.884380580109358\n",
      "--------------------------\n",
      "\n",
      "\n"
     ]
    },
    {
     "data": {
      "image/png": "[encoded data removed]",
      "text/plain": [
       "<Figure size 432x288 with 1 Axes>"
      ]
     },
     "metadata": {},
     "output_type": "display_data"
    },
    {
     "name": "stdout",
     "output_type": "stream",
     "text": [
      "MAE: 0.27870\n",
      "RMSE: 0.31967\n",
      "R2: 0.891\n",
      "17.3 17.8\n",
      "Coefficient 0.8878572783781387\n",
      "--------------------------\n",
      "\n",
      "\n"
     ]
    },
    {
     "data": {
      "image/png": "[encoded data removed]",
      "text/plain": [
       "<Figure size 432x288 with 1 Axes>"
      ]
     },
     "metadata": {},
     "output_type": "display_data"
    },
    {
     "name": "stdout",
     "output_type": "stream",
     "text": [
      "MAE: 0.22587\n",
      "RMSE: 0.24919\n",
      "R2: 0.933\n",
      "17.3 9.5\n",
      "Coefficient 0.9136612679969869\n",
      "--------------------------\n",
      "\n",
      "\n"
     ]
    },
    {
     "data": {
      "image/png": "[encoded data removed]",
      "text/plain": [
       "<Figure size 432x288 with 1 Axes>"
      ]
     },
     "metadata": {},
     "output_type": "display_data"
    },
    {
     "name": "stdout",
     "output_type": "stream",
     "text": [
      "MAE: 0.04627\n",
      "RMSE: 0.05138\n",
      "R2: 0.996\n",
      "17.3 3.4\n",
      "Coefficient -1.854720434447382\n",
      "--------------------------\n",
      "\n",
      "\n"
     ]
    },
    {
     "data": {
      "image/png": "[encoded data removed]",
      "text/plain": [
       "<Figure size 432x288 with 1 Axes>"
      ]
     },
     "metadata": {},
     "output_type": "display_data"
    },
    {
     "name": "stdout",
     "output_type": "stream",
     "text": [
      "MAE: 0.20127\n",
      "RMSE: 0.26570\n",
      "R2: 0.925\n",
      "17.3 6.1\n",
      "Coefficient 0.9232224104425928\n",
      "--------------------------\n",
      "\n",
      "\n"
     ]
    },
    {
     "data": {
      "image/png": "[encoded data removed]",
      "text/plain": [
       "<Figure size 432x288 with 1 Axes>"
      ]
     },
     "metadata": {},
     "output_type": "display_data"
    },
    {
     "name": "stdout",
     "output_type": "stream",
     "text": [
      "MAE: 0.19769\n",
      "RMSE: 0.24166\n",
      "R2: 0.937\n",
      "17.3 9.4\n",
      "Coefficient 0.9179768401860315\n",
      "--------------------------\n",
      "\n",
      "\n",
      "17.3 15.2\n",
      "Coefficient -11.40790850806018\n",
      "--------------------------\n",
      "\n",
      "\n"
     ]
    },
    {
     "data": {
      "image/png": "[encoded data removed]",
      "text/plain": [
       "<Figure size 432x288 with 1 Axes>"
      ]
     },
     "metadata": {},
     "output_type": "display_data"
    },
    {
     "name": "stdout",
     "output_type": "stream",
     "text": [
      "MAE: 0.43584\n",
      "RMSE: 0.50755\n",
      "R2: 0.719\n",
      "17.3 4.2\n",
      "Coefficient 0.020871261829203624\n",
      "--------------------------\n",
      "\n",
      "\n"
     ]
    },
    {
     "data": {
      "image/png": "[encoded data removed]",
      "text/plain": [
       "<Figure size 432x288 with 1 Axes>"
      ]
     },
     "metadata": {},
     "output_type": "display_data"
    },
    {
     "name": "stdout",
     "output_type": "stream",
     "text": [
      "MAE: 0.23697\n",
      "RMSE: 0.27408\n",
      "R2: 0.920\n",
      "17.3 6.2\n",
      "Coefficient -2.9181973653228277\n",
      "--------------------------\n",
      "\n",
      "\n"
     ]
    },
    {
     "data": {
      "image/png": "[encoded data removed]",
      "text/plain": [
       "<Figure size 432x288 with 1 Axes>"
      ]
     },
     "metadata": {},
     "output_type": "display_data"
    },
    {
     "name": "stdout",
     "output_type": "stream",
     "text": [
      "MAE: 0.24808\n",
      "RMSE: 0.27505\n",
      "R2: 0.828\n",
      "17.3 2.1\n",
      "Coefficient -2.0746100981961706\n",
      "--------------------------\n",
      "\n",
      "\n"
     ]
    },
    {
     "data": {
      "image/png": "[encoded data removed]",
      "text/plain": [
       "<Figure size 432x288 with 1 Axes>"
      ]
     },
     "metadata": {},
     "output_type": "display_data"
    },
    {
     "name": "stdout",
     "output_type": "stream",
     "text": [
      "MAE: 0.36275\n",
      "RMSE: 0.52981\n",
      "R2: 0.686\n",
      "17.3 9.2\n",
      "Coefficient 0.6571148225933412\n",
      "--------------------------\n",
      "\n",
      "\n"
     ]
    },
    {
     "data": {
      "image/png": "[encoded data removed]",
      "text/plain": [
       "<Figure size 432x288 with 1 Axes>"
      ]
     },
     "metadata": {},
     "output_type": "display_data"
    },
    {
     "name": "stdout",
     "output_type": "stream",
     "text": [
      "MAE: 0.19292\n",
      "RMSE: 0.22492\n",
      "R2: 0.944\n",
      "17.3 12.2\n",
      "Coefficient 0.6660389073749532\n",
      "--------------------------\n",
      "\n",
      "\n"
     ]
    },
    {
     "data": {
      "image/png": "[encoded data removed]",
      "text/plain": [
       "<Figure size 432x288 with 1 Axes>"
      ]
     },
     "metadata": {},
     "output_type": "display_data"
    },
    {
     "name": "stdout",
     "output_type": "stream",
     "text": [
      "MAE: 0.24279\n",
      "RMSE: 0.26900\n",
      "R2: 0.887\n",
      "17.3 14.5\n",
      "Coefficient 0.7685663805490732\n",
      "--------------------------\n",
      "\n",
      "\n"
     ]
    },
    {
     "data": {
      "image/png": "[encoded data removed]",
      "text/plain": [
       "<Figure size 432x288 with 1 Axes>"
      ]
     },
     "metadata": {},
     "output_type": "display_data"
    },
    {
     "name": "stdout",
     "output_type": "stream",
     "text": [
      "MAE: 0.32764\n",
      "RMSE: 0.44599\n",
      "R2: 0.669\n",
      "17.3 14.4\n",
      "Coefficient 0.0823807818159763\n",
      "--------------------------\n",
      "\n",
      "\n"
     ]
    },
    {
     "data": {
      "image/png": "[encoded data removed]",
      "text/plain": [
       "<Figure size 432x288 with 1 Axes>"
      ]
     },
     "metadata": {},
     "output_type": "display_data"
    },
    {
     "name": "stdout",
     "output_type": "stream",
     "text": [
      "MAE: 0.08706\n",
      "RMSE: 0.09338\n",
      "R2: 0.988\n",
      "17.3 3.9\n",
      "Coefficient -1.8491087907796095\n",
      "--------------------------\n",
      "\n",
      "\n",
      "9.c 1.1\n",
      "Coefficient 0.0\n",
      "--------------------------\n",
      "\n",
      "\n",
      "9.c 8.1\n",
      "Coefficient -1.285012854055374\n",
      "--------------------------\n",
      "\n",
      "\n"
     ]
    },
    {
     "data": {
      "image/png": "[encoded data removed]",
      "text/plain": [
       "<Figure size 432x288 with 1 Axes>"
      ]
     },
     "metadata": {},
     "output_type": "display_data"
    },
    {
     "name": "stdout",
     "output_type": "stream",
     "text": [
      "MAE: 0.35504\n",
      "RMSE: 0.43922\n",
      "R2: 0.794\n",
      "9.c 3.3\n",
      "Coefficient -2.7823907403111234\n",
      "--------------------------\n",
      "\n",
      "\n"
     ]
    },
    {
     "data": {
      "image/png": "[encoded data removed]",
      "text/plain": [
       "<Figure size 432x288 with 1 Axes>"
      ]
     },
     "metadata": {},
     "output_type": "display_data"
    },
    {
     "name": "stdout",
     "output_type": "stream",
     "text": [
      "MAE: 0.21307\n",
      "RMSE: 0.24317\n",
      "R2: 0.921\n",
      "9.c 3.6\n",
      "Coefficient -3.355346829296657\n",
      "--------------------------\n",
      "\n",
      "\n"
     ]
    },
    {
     "data": {
      "image/png": "[encoded data removed]",
      "text/plain": [
       "<Figure size 432x288 with 1 Axes>"
      ]
     },
     "metadata": {},
     "output_type": "display_data"
    },
    {
     "name": "stdout",
     "output_type": "stream",
     "text": [
      "MAE: 0.29302\n",
      "RMSE: 0.53846\n",
      "R2: 0.695\n",
      "9.c 15.1\n",
      "Coefficient 0.6513311195944474\n",
      "--------------------------\n",
      "\n",
      "\n"
     ]
    },
    {
     "data": {
      "image/png": "[encoded data removed]",
      "text/plain": [
       "<Figure size 432x288 with 1 Axes>"
      ]
     },
     "metadata": {},
     "output_type": "display_data"
    },
    {
     "name": "stdout",
     "output_type": "stream",
     "text": [
      "MAE: 0.25411\n",
      "RMSE: 0.45910\n",
      "R2: 0.767\n",
      "9.c 15.4\n",
      "Coefficient 0.7369812744908837\n",
      "--------------------------\n",
      "\n",
      "\n",
      "9.c 6.b\n",
      "Coefficient 0.0\n",
      "--------------------------\n",
      "\n",
      "\n"
     ]
    },
    {
     "data": {
      "image/png": "[encoded data removed]",
      "text/plain": [
       "<Figure size 432x288 with 1 Axes>"
      ]
     },
     "metadata": {},
     "output_type": "display_data"
    },
    {
     "name": "stdout",
     "output_type": "stream",
     "text": [
      "MAE: 0.56246\n",
      "RMSE: 0.66183\n",
      "R2: 0.416\n",
      "9.c 3.1\n",
      "Coefficient -2.653557447820098\n",
      "--------------------------\n",
      "\n",
      "\n",
      "9.c 16.3\n",
      "Coefficient -1.7798281755030403\n",
      "--------------------------\n",
      "\n",
      "\n",
      "9.c 16.a\n",
      "Coefficient -0.3595926568708181\n",
      "--------------------------\n",
      "\n",
      "\n"
     ]
    },
    {
     "data": {
      "image/png": "[encoded data removed]",
      "text/plain": [
       "<Figure size 432x288 with 1 Axes>"
      ]
     },
     "metadata": {},
     "output_type": "display_data"
    },
    {
     "name": "stdout",
     "output_type": "stream",
     "text": [
      "MAE: 0.40425\n",
      "RMSE: 0.59127\n",
      "R2: 0.615\n",
      "9.c 8.4\n",
      "Coefficient 0.1708427815520167\n",
      "--------------------------\n",
      "\n",
      "\n"
     ]
    },
    {
     "data": {
      "image/png": "[encoded data removed]",
      "text/plain": [
       "<Figure size 432x288 with 1 Axes>"
      ]
     },
     "metadata": {},
     "output_type": "display_data"
    },
    {
     "name": "stdout",
     "output_type": "stream",
     "text": [
      "MAE: 0.47570\n",
      "RMSE: 0.58288\n",
      "R2: 0.575\n",
      "9.c 10.c\n",
      "Coefficient -220.62408611356125\n",
      "--------------------------\n",
      "\n",
      "\n"
     ]
    },
    {
     "data": {
      "image/png": "[encoded data removed]",
      "text/plain": [
       "<Figure size 432x288 with 1 Axes>"
      ]
     },
     "metadata": {},
     "output_type": "display_data"
    },
    {
     "name": "stdout",
     "output_type": "stream",
     "text": [
      "MAE: 0.60912\n",
      "RMSE: 0.71061\n",
      "R2: 0.459\n",
      "9.c 7.2\n",
      "Coefficient 0.3431385868216388\n",
      "--------------------------\n",
      "\n",
      "\n"
     ]
    },
    {
     "data": {
      "image/png": "[encoded data removed]",
      "text/plain": [
       "<Figure size 432x288 with 1 Axes>"
      ]
     },
     "metadata": {},
     "output_type": "display_data"
    },
    {
     "name": "stdout",
     "output_type": "stream",
     "text": [
      "MAE: 0.61787\n",
      "RMSE: 0.74480\n",
      "R2: 0.376\n",
      "9.c 17.19\n",
      "Coefficient -6.357160104252599\n",
      "--------------------------\n",
      "\n",
      "\n"
     ]
    },
    {
     "data": {
      "image/png": "[encoded data removed]",
      "text/plain": [
       "<Figure size 432x288 with 1 Axes>"
      ]
     },
     "metadata": {},
     "output_type": "display_data"
    },
    {
     "name": "stdout",
     "output_type": "stream",
     "text": [
      "MAE: 0.32643\n",
      "RMSE: 0.54146\n",
      "R2: 0.637\n",
      "9.c 17.2\n",
      "Coefficient 0.6084072887616996\n",
      "--------------------------\n",
      "\n",
      "\n",
      "9.c 8.2\n",
      "Coefficient -1.0676783944405086\n",
      "--------------------------\n",
      "\n",
      "\n"
     ]
    },
    {
     "data": {
      "image/png": "[encoded data removed]",
      "text/plain": [
       "<Figure size 432x288 with 1 Axes>"
      ]
     },
     "metadata": {},
     "output_type": "display_data"
    },
    {
     "name": "stdout",
     "output_type": "stream",
     "text": [
      "MAE: 0.49088\n",
      "RMSE: 0.58106\n",
      "R2: 0.550\n",
      "9.c 7.1\n",
      "Coefficient 0.39220170449579683\n",
      "--------------------------\n",
      "\n",
      "\n"
     ]
    },
    {
     "data": {
      "image/png": "[encoded data removed]",
      "text/plain": [
       "<Figure size 432x288 with 1 Axes>"
      ]
     },
     "metadata": {},
     "output_type": "display_data"
    },
    {
     "name": "stdout",
     "output_type": "stream",
     "text": [
      "MAE: 0.35976\n",
      "RMSE: 0.48147\n",
      "R2: 0.753\n",
      "9.c 17.8\n",
      "Coefficient 0.735206291170455\n",
      "--------------------------\n",
      "\n",
      "\n"
     ]
    },
    {
     "data": {
      "image/png": "[encoded data removed]",
      "text/plain": [
       "<Figure size 432x288 with 1 Axes>"
      ]
     },
     "metadata": {},
     "output_type": "display_data"
    },
    {
     "name": "stdout",
     "output_type": "stream",
     "text": [
      "MAE: 0.28036\n",
      "RMSE: 0.45148\n",
      "R2: 0.782\n",
      "9.c 9.5\n",
      "Coefficient 0.7602101870646519\n",
      "--------------------------\n",
      "\n",
      "\n"
     ]
    },
    {
     "data": {
      "image/png": "[encoded data removed]",
      "text/plain": [
       "<Figure size 432x288 with 1 Axes>"
      ]
     },
     "metadata": {},
     "output_type": "display_data"
    },
    {
     "name": "stdout",
     "output_type": "stream",
     "text": [
      "MAE: 0.54802\n",
      "RMSE: 0.66312\n",
      "R2: 0.414\n",
      "9.c 3.4\n",
      "Coefficient -2.649672794697873\n",
      "--------------------------\n",
      "\n",
      "\n"
     ]
    },
    {
     "data": {
      "image/png": "[encoded data removed]",
      "text/plain": [
       "<Figure size 432x288 with 1 Axes>"
      ]
     },
     "metadata": {},
     "output_type": "display_data"
    },
    {
     "name": "stdout",
     "output_type": "stream",
     "text": [
      "MAE: 0.28425\n",
      "RMSE: 0.46728\n",
      "R2: 0.767\n",
      "9.c 6.1\n",
      "Coefficient 0.7516714307892127\n",
      "--------------------------\n",
      "\n",
      "\n"
     ]
    },
    {
     "data": {
      "image/png": "[encoded data removed]",
      "text/plain": [
       "<Figure size 432x288 with 1 Axes>"
      ]
     },
     "metadata": {},
     "output_type": "display_data"
    },
    {
     "name": "stdout",
     "output_type": "stream",
     "text": [
      "MAE: 0.30123\n",
      "RMSE: 0.47172\n",
      "R2: 0.762\n",
      "9.c 9.4\n",
      "Coefficient 0.7372091132211682\n",
      "--------------------------\n",
      "\n",
      "\n",
      "9.c 15.2\n",
      "Coefficient -11.704752807642583\n",
      "--------------------------\n",
      "\n",
      "\n"
     ]
    },
    {
     "data": {
      "image/png": "[encoded data removed]",
      "text/plain": [
       "<Figure size 432x288 with 1 Axes>"
      ]
     },
     "metadata": {},
     "output_type": "display_data"
    },
    {
     "name": "stdout",
     "output_type": "stream",
     "text": [
      "MAE: 0.43993\n",
      "RMSE: 0.48925\n",
      "R2: 0.739\n",
      "9.c 4.2\n",
      "Coefficient 0.6399837974531908\n",
      "--------------------------\n",
      "\n",
      "\n"
     ]
    },
    {
     "data": {
      "image/png": "[encoded data removed]",
      "text/plain": [
       "<Figure size 432x288 with 1 Axes>"
      ]
     },
     "metadata": {},
     "output_type": "display_data"
    },
    {
     "name": "stdout",
     "output_type": "stream",
     "text": [
      "MAE: 0.33077\n",
      "RMSE: 0.46661\n",
      "R2: 0.768\n",
      "9.c 6.2\n",
      "Coefficient -2.7524362040958046\n",
      "--------------------------\n",
      "\n",
      "\n"
     ]
    },
    {
     "data": {
      "image/png": "[encoded data removed]",
      "text/plain": [
       "<Figure size 432x288 with 1 Axes>"
      ]
     },
     "metadata": {},
     "output_type": "display_data"
    },
    {
     "name": "stdout",
     "output_type": "stream",
     "text": [
      "MAE: 0.20640\n",
      "RMSE: 0.27130\n",
      "R2: 0.833\n",
      "9.c 2.1\n",
      "Coefficient -2.0781012513055206\n",
      "--------------------------\n",
      "\n",
      "\n"
     ]
    },
    {
     "data": {
      "image/png": "[encoded data removed]",
      "text/plain": [
       "<Figure size 432x288 with 1 Axes>"
      ]
     },
     "metadata": {},
     "output_type": "display_data"
    },
    {
     "name": "stdout",
     "output_type": "stream",
     "text": [
      "MAE: 0.35030\n",
      "RMSE: 0.50453\n",
      "R2: 0.715\n",
      "9.c 9.2\n",
      "Coefficient 0.6912549387906681\n",
      "--------------------------\n",
      "\n",
      "\n"
     ]
    },
    {
     "data": {
      "image/png": "[encoded data removed]",
      "text/plain": [
       "<Figure size 432x288 with 1 Axes>"
      ]
     },
     "metadata": {},
     "output_type": "display_data"
    },
    {
     "name": "stdout",
     "output_type": "stream",
     "text": [
      "MAE: 0.40425\n",
      "RMSE: 0.59127\n",
      "R2: 0.615\n",
      "9.c 12.2\n",
      "Coefficient 0.1708427815520167\n",
      "--------------------------\n",
      "\n",
      "\n"
     ]
    },
    {
     "data": {
      "image/png": "[encoded data removed]",
      "text/plain": [
       "<Figure size 432x288 with 1 Axes>"
      ]
     },
     "metadata": {},
     "output_type": "display_data"
    },
    {
     "name": "stdout",
     "output_type": "stream",
     "text": [
      "MAE: 0.38056\n",
      "RMSE: 0.43831\n",
      "R2: 0.700\n",
      "9.c 14.5\n",
      "Coefficient 0.39680007424109565\n",
      "--------------------------\n",
      "\n",
      "\n"
     ]
    },
    {
     "data": {
      "image/png": "[encoded data removed]",
      "text/plain": [
       "<Figure size 432x288 with 1 Axes>"
      ]
     },
     "metadata": {},
     "output_type": "display_data"
    },
    {
     "name": "stdout",
     "output_type": "stream",
     "text": [
      "MAE: 0.52033\n",
      "RMSE: 0.60966\n",
      "R2: 0.381\n",
      "9.c 14.4\n",
      "Coefficient -0.28753505940877844\n",
      "--------------------------\n",
      "\n",
      "\n"
     ]
    },
    {
     "data": {
      "image/png": "[encoded data removed]",
      "text/plain": [
       "<Figure size 432x288 with 1 Axes>"
      ]
     },
     "metadata": {},
     "output_type": "display_data"
    },
    {
     "name": "stdout",
     "output_type": "stream",
     "text": [
      "MAE: 0.59761\n",
      "RMSE: 0.69871\n",
      "R2: 0.349\n",
      "9.c 3.9\n",
      "Coefficient -2.5347048565983243\n",
      "--------------------------\n",
      "\n",
      "\n",
      "1.1 8.1\n",
      "Coefficient 0.0\n",
      "--------------------------\n",
      "\n",
      "\n",
      "1.1 3.3\n",
      "Coefficient 0.0\n",
      "--------------------------\n",
      "\n",
      "\n",
      "1.1 3.6\n",
      "Coefficient 0.0\n",
      "--------------------------\n",
      "\n",
      "\n",
      "1.1 15.1\n",
      "Coefficient 0.0\n",
      "--------------------------\n",
      "\n",
      "\n",
      "1.1 15.4\n",
      "Coefficient 0.0\n",
      "--------------------------\n",
      "\n",
      "\n"
     ]
    },
    {
     "name": "stderr",
     "output_type": "stream",
     "text": [
      "/home/felix/anaconda3/lib/python3.6/site-packages/scipy/stats/stats.py:2998: RuntimeWarning: Mean of empty slice.\n",
      "  mx = x.mean()\n",
      "/home/felix/anaconda3/lib/python3.6/site-packages/numpy/core/_methods.py:80: RuntimeWarning: invalid value encountered in double_scalars\n",
      "  ret = ret.dtype.type(ret / rcount)\n",
      "/home/felix/anaconda3/lib/python3.6/site-packages/scipy/stats/stats.py:2999: RuntimeWarning: Mean of empty slice.\n",
      "  my = y.mean()\n"
     ]
    },
    {
     "ename": "ValueError",
     "evalue": "Found array with 0 sample(s) (shape=(0,)) while a minimum of 1 is required.",
     "output_type": "error",
     "traceback": [
      "\u001b[0;31m---------------------------------------------------------------------------\u001b[0m",
      "\u001b[0;31mValueError\u001b[0m                                Traceback (most recent call last)",
      "\u001b[0;32m<ipython-input-73-5c440dfb3243>\u001b[0m in \u001b[0;36m<module>\u001b[0;34m()\u001b[0m\n\u001b[1;32m     15\u001b[0m                 \u001b[0;32mif\u001b[0m \u001b[0;32mnot\u001b[0m \u001b[0mtargety\u001b[0m\u001b[0;34m==\u001b[0m\u001b[0mtargetx\u001b[0m\u001b[0;34m:\u001b[0m\u001b[0;34m\u001b[0m\u001b[0m\n\u001b[1;32m     16\u001b[0m \u001b[0;34m\u001b[0m\u001b[0m\n\u001b[0;32m---> 17\u001b[0;31m                     \u001b[0mp_r\u001b[0m\u001b[0;34m,\u001b[0m \u001b[0mcoef\u001b[0m \u001b[0;34m=\u001b[0m \u001b[0mcalcCorr\u001b[0m\u001b[0;34m(\u001b[0m\u001b[0mfinal_t_shuffled\u001b[0m\u001b[0;34m,\u001b[0m \u001b[0mtargetx\u001b[0m\u001b[0;34m,\u001b[0m \u001b[0mtargety\u001b[0m\u001b[0;34m)\u001b[0m\u001b[0;34m\u001b[0m\u001b[0m\n\u001b[0m\u001b[1;32m     18\u001b[0m \u001b[0;34m\u001b[0m\u001b[0m\n\u001b[1;32m     19\u001b[0m                     \u001b[0;31m# filter out independant variables (coefficient close to 0, coefficient > 100)\u001b[0m\u001b[0;34m\u001b[0m\u001b[0;34m\u001b[0m\u001b[0m\n",
      "\u001b[0;32m<ipython-input-40-34c87cd39f6e>\u001b[0m in \u001b[0;36mcalcCorr\u001b[0;34m(df, target1, target2)\u001b[0m\n\u001b[1;32m     12\u001b[0m     \u001b[0;31m#correlation between two targets\u001b[0m\u001b[0;34m\u001b[0m\u001b[0;34m\u001b[0m\u001b[0m\n\u001b[1;32m     13\u001b[0m     \u001b[0mpearson_r\u001b[0m \u001b[0;34m=\u001b[0m \u001b[0mpearsonr\u001b[0m\u001b[0;34m(\u001b[0m\u001b[0mt1_list\u001b[0m\u001b[0;34m,\u001b[0m \u001b[0mt2_list\u001b[0m\u001b[0;34m)\u001b[0m\u001b[0;34m[\u001b[0m\u001b[0;36m0\u001b[0m\u001b[0;34m]\u001b[0m\u001b[0;34m\u001b[0m\u001b[0m\n\u001b[0;32m---> 14\u001b[0;31m     \u001b[0mcorrCoef\u001b[0m \u001b[0;34m=\u001b[0m \u001b[0mr2_score\u001b[0m\u001b[0;34m(\u001b[0m\u001b[0mt1_list\u001b[0m\u001b[0;34m,\u001b[0m \u001b[0mt2_list\u001b[0m\u001b[0;34m)\u001b[0m\u001b[0;34m\u001b[0m\u001b[0m\n\u001b[0m\u001b[1;32m     15\u001b[0m \u001b[0;34m\u001b[0m\u001b[0m\n\u001b[1;32m     16\u001b[0m     \u001b[0;32mreturn\u001b[0m \u001b[0mpearson_r\u001b[0m\u001b[0;34m,\u001b[0m \u001b[0mcorrCoef\u001b[0m\u001b[0;34m\u001b[0m\u001b[0m\n",
      "\u001b[0;32m~/anaconda3/lib/python3.6/site-packages/sklearn/metrics/regression.py\u001b[0m in \u001b[0;36mr2_score\u001b[0;34m(y_true, y_pred, sample_weight, multioutput)\u001b[0m\n\u001b[1;32m    528\u001b[0m     \"\"\"\n\u001b[1;32m    529\u001b[0m     y_type, y_true, y_pred, multioutput = _check_reg_targets(\n\u001b[0;32m--> 530\u001b[0;31m         y_true, y_pred, multioutput)\n\u001b[0m\u001b[1;32m    531\u001b[0m \u001b[0;34m\u001b[0m\u001b[0m\n\u001b[1;32m    532\u001b[0m     \u001b[0;32mif\u001b[0m \u001b[0msample_weight\u001b[0m \u001b[0;32mis\u001b[0m \u001b[0;32mnot\u001b[0m \u001b[0;32mNone\u001b[0m\u001b[0;34m:\u001b[0m\u001b[0;34m\u001b[0m\u001b[0m\n",
      "\u001b[0;32m~/anaconda3/lib/python3.6/site-packages/sklearn/metrics/regression.py\u001b[0m in \u001b[0;36m_check_reg_targets\u001b[0;34m(y_true, y_pred, multioutput)\u001b[0m\n\u001b[1;32m     74\u001b[0m     \"\"\"\n\u001b[1;32m     75\u001b[0m     \u001b[0mcheck_consistent_length\u001b[0m\u001b[0;34m(\u001b[0m\u001b[0my_true\u001b[0m\u001b[0;34m,\u001b[0m \u001b[0my_pred\u001b[0m\u001b[0;34m)\u001b[0m\u001b[0;34m\u001b[0m\u001b[0m\n\u001b[0;32m---> 76\u001b[0;31m     \u001b[0my_true\u001b[0m \u001b[0;34m=\u001b[0m \u001b[0mcheck_array\u001b[0m\u001b[0;34m(\u001b[0m\u001b[0my_true\u001b[0m\u001b[0;34m,\u001b[0m \u001b[0mensure_2d\u001b[0m\u001b[0;34m=\u001b[0m\u001b[0;32mFalse\u001b[0m\u001b[0;34m)\u001b[0m\u001b[0;34m\u001b[0m\u001b[0m\n\u001b[0m\u001b[1;32m     77\u001b[0m     \u001b[0my_pred\u001b[0m \u001b[0;34m=\u001b[0m \u001b[0mcheck_array\u001b[0m\u001b[0;34m(\u001b[0m\u001b[0my_pred\u001b[0m\u001b[0;34m,\u001b[0m \u001b[0mensure_2d\u001b[0m\u001b[0;34m=\u001b[0m\u001b[0;32mFalse\u001b[0m\u001b[0;34m)\u001b[0m\u001b[0;34m\u001b[0m\u001b[0m\n\u001b[1;32m     78\u001b[0m \u001b[0;34m\u001b[0m\u001b[0m\n",
      "\u001b[0;32m~/anaconda3/lib/python3.6/site-packages/sklearn/utils/validation.py\u001b[0m in \u001b[0;36mcheck_array\u001b[0;34m(array, accept_sparse, dtype, order, copy, force_all_finite, ensure_2d, allow_nd, ensure_min_samples, ensure_min_features, warn_on_dtype, estimator)\u001b[0m\n\u001b[1;32m    460\u001b[0m                              \u001b[0;34m\" minimum of %d is required%s.\"\u001b[0m\u001b[0;34m\u001b[0m\u001b[0m\n\u001b[1;32m    461\u001b[0m                              % (n_samples, shape_repr, ensure_min_samples,\n\u001b[0;32m--> 462\u001b[0;31m                                 context))\n\u001b[0m\u001b[1;32m    463\u001b[0m \u001b[0;34m\u001b[0m\u001b[0m\n\u001b[1;32m    464\u001b[0m     \u001b[0;32mif\u001b[0m \u001b[0mensure_min_features\u001b[0m \u001b[0;34m>\u001b[0m \u001b[0;36m0\u001b[0m \u001b[0;32mand\u001b[0m \u001b[0marray\u001b[0m\u001b[0;34m.\u001b[0m\u001b[0mndim\u001b[0m \u001b[0;34m==\u001b[0m \u001b[0;36m2\u001b[0m\u001b[0;34m:\u001b[0m\u001b[0;34m\u001b[0m\u001b[0m\n",
      "\u001b[0;31mValueError\u001b[0m: Found array with 0 sample(s) (shape=(0,)) while a minimum of 1 is required."
     ]
    }
   ],
   "source": [
    "keptPairs = list()\n",
    "processedPairs = list()\n",
    "discardedPairs = list()\n",
    "edgecolor = list()\n",
    "pairsAndRel = {}\n",
    "\n",
    "\n",
    "for targetx in targets:     #loop over all targets\n",
    "        \n",
    "        for targety in targets:\n",
    "            # avoid double processing of reverse pairs\n",
    "            if not set([targetx, targety]) in processedPairs:\n",
    "                processedPairs.extend([set([targetx, targety])])\n",
    "                \n",
    "                if not targety==targetx:\n",
    "                    \n",
    "                    p_r, coef = calcCorr(final_t_shuffled, targetx, targety)\n",
    "                    \n",
    "                    # filter out independant variables (coefficient close to 0, coefficient > 100)\n",
    "                    if (coefThreshold < np.abs(p_r) < 1):\n",
    "                            \n",
    "                        keptPairs.extend([tuple((targetx, targety))])\n",
    "\n",
    "                        if p_r > 0: edge_color = 'g'#edgecolor.append('g')\n",
    "                        else: edge_color = 'r'\n",
    "                                    \n",
    "                        edgecolor.append(edge_color)\n",
    "                        pairsAndRel[targetx, targety] = edge_color\n",
    "                        \n",
    "                        \n",
    "                        X = final_t_shuffled[targetx].reshape(-1,1)\n",
    "                        Y = final_t_shuffled[targety].reshape(-1,1)\n",
    "                        \n",
    "                        # apply mask to lists to filter out pairs containing any NaNs\n",
    "                        mask = ~pd.isnull(X) & ~pd.isnull(Y)\n",
    "\n",
    "                        X = X[mask].reshape(-1, 1)\n",
    "                        Y = Y[mask].reshape(-1, 1)\n",
    "                        \n",
    "                        linreg = linear_model.LinearRegression()\n",
    "                        linreg.fit(X, Y)\n",
    "                        \n",
    "                        # Make predictions using the validation values\n",
    "                        y_pred = linreg.predict(X)\n",
    "                        \n",
    "                        \n",
    "                        mae, rae, rmse, r2 = compute_error(Y, y_pred)\n",
    "                        \n",
    "                        plt.scatter(X, Y, color='peru')\n",
    "                        plt.plot(X, y_pred, color='blue', linewidth=3)\n",
    "\n",
    "                        plt.xticks(())\n",
    "                        plt.yticks(())\n",
    "                        plt.xlabel(targetx)\n",
    "                        plt.ylabel(targety)\n",
    "                        plt.show()\n",
    "                        \n",
    "                        print(\"MAE: %.5f\\nRMSE: %.5f\\nR2: %.3f\" % (mae, rmse, r2))\n",
    "\n",
    "                    else: discardedPairs.extend([[targetx, targety]])\n",
    "\n",
    "                    print(targetx, targety)\n",
    "                    print('Coefficient', coef)\n",
    "                    print('--------------------------')\n",
    "                    print('\\n')\n",
    "\n",
    "#print(keptPairs)"
   ]
  },
  {
   "cell_type": "code",
   "execution_count": 46,
   "metadata": {
    "scrolled": true
   },
   "outputs": [
    {
     "name": "stdout",
     "output_type": "stream",
     "text": [
      "Total number of connections found:  48\n",
      "The following target pairs have a linear correlation: [('17.3', '9.c'), ('17.3', '3.3'), ('17.3', '15.1'), ('17.3', '15.4'), ('17.3', '3.1'), ('17.3', '16.a'), ('17.3', '8.4'), ('17.3', '10.c'), ('17.3', '7.2'), ('17.3', '17.2'), ('17.3', '7.1'), ('17.3', '17.8'), ('17.3', '9.5'), ('17.3', '3.4'), ('17.3', '6.1'), ('17.3', '9.4'), ('17.3', '4.2'), ('17.3', '6.2'), ('17.3', '2.1'), ('17.3', '9.2'), ('17.3', '12.2'), ('17.3', '14.5'), ('17.3', '14.4'), ('17.3', '3.9'), ('9.c', '3.3'), ('9.c', '3.6'), ('9.c', '15.1'), ('9.c', '15.4'), ('9.c', '3.1'), ('9.c', '8.4'), ('9.c', '10.c'), ('9.c', '7.2'), ('9.c', '17.19'), ('9.c', '17.2'), ('9.c', '7.1'), ('9.c', '17.8'), ('9.c', '9.5'), ('9.c', '3.4'), ('9.c', '6.1'), ('9.c', '9.4'), ('9.c', '4.2'), ('9.c', '6.2'), ('9.c', '2.1'), ('9.c', '9.2'), ('9.c', '12.2'), ('9.c', '14.5'), ('9.c', '14.4'), ('9.c', '3.9')]\n"
     ]
    }
   ],
   "source": [
    "print(\"Total number of connections found: \", len(keptPairs))\n",
    "print(\"The following target pairs have a linear correlation:\", keptPairs)"
   ]
  },
  {
   "cell_type": "markdown",
   "metadata": {},
   "source": [
    "### Graphical Models"
   ]
  },
  {
   "cell_type": "code",
   "execution_count": 47,
   "metadata": {},
   "outputs": [],
   "source": [
    "import networkx as nx"
   ]
  },
  {
   "cell_type": "code",
   "execution_count": 48,
   "metadata": {},
   "outputs": [],
   "source": [
    "G1 = nx.Graph()\n",
    "G1.add_edges_from(keptPairs)"
   ]
  },
  {
   "cell_type": "code",
   "execution_count": 49,
   "metadata": {},
   "outputs": [
    {
     "data": {
      "image/png": "[encoded data removed]",
      "text/plain": [
       "<Figure size 720x720 with 1 Axes>"
      ]
     },
     "metadata": {},
     "output_type": "display_data"
    }
   ],
   "source": [
    "pos2 = nx.spring_layout(G1) # choose layout\n",
    "\n",
    "plt.figure(1,figsize=(10,10)) \n",
    "nx.draw(G1,pos2, with_labels=True, edge_color=edgecolor, node_color='whitesmoke', font_size=10)\n",
    "plt.savefig(\"structure.png\")\n",
    "plt.show()"
   ]
  },
  {
   "cell_type": "markdown",
   "metadata": {},
   "source": [
    "In this plot, the most connected and therefore most influential nodes are located in the middle of the graph and are plotted closer together. There are also some targets that are only connected to one other target.\n",
    "\n",
    "Positive interconnections are indicated by a green, negative by a red edge."
   ]
  },
  {
   "cell_type": "code",
   "execution_count": 50,
   "metadata": {},
   "outputs": [],
   "source": [
    "from matplotlib.pyplot import imshow\n",
    "%matplotlib inline\n",
    "from PIL import Image\n",
    "\n",
    "size = 1024,1024\n",
    "circles = Image.open(\"Circle-Designs-01.png\")\n",
    "circles = circles.resize(size, Image.ANTIALIAS)\n",
    "plot = Image.open(\"structure.png\")\n",
    "plot = plot.resize(size, Image.ANTIALIAS)\n",
    "overlay = Image.blend(circles, plot,alpha=0.7)\n",
    "#overlay.show()\n",
    "#overlay.save(\"final.png\")"
   ]
  },
  {
   "cell_type": "markdown",
   "metadata": {},
   "source": [
    "To extract the cliques (complete subgraphs of the graph) that already are visible in the graph above, we use networkx' inbuilt function find_cliques(G).\n",
    "\n",
    "We would like to make our imputations first on one of these cliques, actually on one that has the most members.\n"
   ]
  },
  {
   "cell_type": "code",
   "execution_count": 51,
   "metadata": {},
   "outputs": [
    {
     "data": {
      "text/plain": [
       "[['9.c', '17.3', '17.2'],\n",
       " ['9.c', '17.3', '14.5'],\n",
       " ['9.c', '17.3', '7.1'],\n",
       " ['9.c', '17.3', '3.3'],\n",
       " ['9.c', '17.3', '17.8'],\n",
       " ['9.c', '17.3', '9.5'],\n",
       " ['9.c', '17.3', '3.4'],\n",
       " ['9.c', '17.3', '9.4'],\n",
       " ['9.c', '17.3', '6.1'],\n",
       " ['9.c', '17.3', '7.2'],\n",
       " ['9.c', '17.3', '4.2'],\n",
       " ['9.c', '17.3', '6.2'],\n",
       " ['9.c', '17.3', '2.1'],\n",
       " ['9.c', '17.3', '15.1'],\n",
       " ['9.c', '17.3', '15.4'],\n",
       " ['9.c', '17.3', '9.2'],\n",
       " ['9.c', '17.3', '3.1'],\n",
       " ['9.c', '17.3', '12.2'],\n",
       " ['9.c', '17.3', '8.4'],\n",
       " ['9.c', '17.3', '10.c'],\n",
       " ['9.c', '17.3', '14.4'],\n",
       " ['9.c', '17.3', '3.9'],\n",
       " ['9.c', '3.6'],\n",
       " ['9.c', '17.19'],\n",
       " ['16.a', '17.3']]"
      ]
     },
     "execution_count": 51,
     "metadata": {},
     "output_type": "execute_result"
    }
   ],
   "source": [
    "clique_list = list(nx.find_cliques(G1))\n",
    "clique_list"
   ]
  },
  {
   "cell_type": "code",
   "execution_count": 52,
   "metadata": {},
   "outputs": [],
   "source": [
    "# finding clique containing most nodes\n",
    "length = 0\n",
    "for c in clique_list:\n",
    "    if len(c) > length:\n",
    "        length = len(c)\n",
    "        max_clique = c"
   ]
  },
  {
   "cell_type": "code",
   "execution_count": 53,
   "metadata": {},
   "outputs": [],
   "source": [
    "import itertools\n",
    "\n",
    "def complete_graph_from_list(L, create_using=None):\n",
    "    G = nx.empty_graph()\n",
    "    if len(L)>1:\n",
    "        if G.is_directed():\n",
    "            edges = itertools.permutations(L,2)\n",
    "        else:\n",
    "            edges = itertools.combinations(L,2)\n",
    "        G.add_edges_from(edges)\n",
    "    return G\n"
   ]
  },
  {
   "cell_type": "code",
   "execution_count": 54,
   "metadata": {},
   "outputs": [],
   "source": [
    "cliqueGraph = complete_graph_from_list(max_clique)"
   ]
  },
  {
   "cell_type": "code",
   "execution_count": 55,
   "metadata": {},
   "outputs": [],
   "source": [
    "cliqueGraph_edges = list(cliqueGraph.edges)\n",
    "pairsDictListKeys = list(pairsAndRel.keys())"
   ]
  },
  {
   "cell_type": "code",
   "execution_count": 56,
   "metadata": {},
   "outputs": [],
   "source": [
    "clique_e_color = []\n",
    "for edge in cliqueGraph_edges:\n",
    "    if edge in pairsDictListKeys:\n",
    "        clique_e_color.append(pairsAndRel[edge])\n",
    "    elif edge[::-1] in pairsDictListKeys:\n",
    "        clique_e_color.append(pairsAndRel[edge[::-1]])"
   ]
  },
  {
   "cell_type": "code",
   "execution_count": 57,
   "metadata": {},
   "outputs": [
    {
     "data": {
      "image/png": "[encoded data removed]",
      "text/plain": [
       "<Figure size 432x432 with 1 Axes>"
      ]
     },
     "metadata": {},
     "output_type": "display_data"
    }
   ],
   "source": [
    "#cliqueGraph.add_nodes_from(max_clique)\n",
    "pos9 = nx.shell_layout(cliqueGraph)\n",
    "plt.figure(1,figsize=(6,6)) \n",
    "nx.draw(cliqueGraph,pos9, with_labels=True, font_size=10, edge_color=clique_e_color, node_color='whitesmoke')\n",
    "plt.show()"
   ]
  },
  {
   "cell_type": "code",
   "execution_count": 58,
   "metadata": {},
   "outputs": [
    {
     "name": "stdout",
     "output_type": "stream",
     "text": [
      "Our max clique consists of the following targets:  ['9.c', '17.3', '17.2']\n"
     ]
    }
   ],
   "source": [
    "print('Our max clique consists of the following targets: ', cliqueGraph.nodes)"
   ]
  },
  {
   "cell_type": "markdown",
   "metadata": {},
   "source": [
    "# 2. Build temporal model to infer missing observations - observing covariance in the residuals\n",
    "\n",
    "We have a temporal model with missing observations as NaNs, and want to infer them according to their correlated targets and their own time series development. Therefore, we design a linear dynamical system with inputs, including an autoregressive model of order 2."
   ]
  },
  {
   "cell_type": "markdown",
   "metadata": {
    "collapsed": true
   },
   "source": [
    "## Define STAN model\n",
    "\n",
    "From now on, we can actually forget all information we've gotten so far. With the implementation in STAN, we will gain insights for the following two questions in one single model (wow - so amazing :-) ):\n",
    "\n",
    "**1. How are Targets correlated?**\n",
    "\n",
    "**2. What are expectable values for missing observations (imputing)?**\n",
    "\n",
    "Note that we observe two time-series simultaneously. We will model the correlations between the two time-series in the latent state $\\textbf{z}_t$. We will assume that our latent state is 2-dimensional $\\textbf{z}_t = \\{z_{t,1},z_{t,2}\\}$ with latent dynamics:\n",
    "\\begin{align}\n",
    "\\textbf{z}_t &\\sim \\mathcal{N}(\\boldsymbol\\beta \\textbf{z}_{t-1}, \\boldsymbol\\Sigma)\n",
    "\\end{align}\n",
    "And likelihoods:\n",
    "\\begin{align}\n",
    "y_{t,1} &\\sim \\mathcal{N}(z_{t,1}, \\sigma^2)\\\\\n",
    "y_{t,2} &\\sim \\mathcal{N}(z_{t,2}, \\sigma^2)\n",
    "\\end{align}\n",
    "Or (equivalent):\n",
    "\\begin{align}\n",
    "\\textbf{y}_t &\\sim \\mathcal{N}(\\textbf{z}_t, \\sigma^2 \\textbf{I})\n",
    "\\end{align}\n",
    "\n",
    "The key element in the model described above is the **covariance matrix $\\boldsymbol\\Sigma$** which embodies the object that will allow us to capture the correlations between the two time-series.\n",
    "\n",
    "In STAN, the recommended approach is to decompose the covariance matrix $\\boldsymbol\\Sigma$ into a *scale* and a *matrix*, but we are able to do so in a more natural way based on the actual variable scales and a correlation matrix. Specifically, we define:\n",
    "\n",
    "\\begin{align}\n",
    "\\boldsymbol\\Sigma = \\mbox{diag_matrix}(\\boldsymbol\\tau) \\, \\boldsymbol\\Omega \\, \\mbox{diag_matrix}(\\boldsymbol\\tau)\n",
    "\\end{align}\n",
    "\n",
    "where $\\mbox{diag_matrix}(\\boldsymbol\\tau)$ denotes a diagonal matrix with diagonal elements given by the vector $\\boldsymbol\\tau$. In this parameterization, $\\boldsymbol\\Omega$ can be regarded as a correlation matrix and $\\boldsymbol\\tau$ is a vector of coefficient scales.\n",
    "\n",
    "Similar to any other variable, we also must assign priors to $\\boldsymbol\\tau$ and $\\boldsymbol\\Omega$. The components of the scale vector $\\boldsymbol\\tau$ can be given any reasonable prior for scales, but something weakly informative like a half-Cauchy distribution with a small scale is recommended, such as:\n",
    "\n",
    "\\begin{align}\n",
    "\\boldsymbol\\tau ∼ Cauchy(0, 1.0) , \\, \\mbox{with the constraint:} \\, \\boldsymbol\\tau > 0\n",
    "\\end{align}\n",
    "\n",
    "As for the correlation matrix $\\boldsymbol\\Omega$, the STAN manual recommends a LKJ prior like:\n",
    "\n",
    "\\begin{align}\n",
    "\\boldsymbol\\Omega ∼ LKJCorr(10.0)\n",
    "\\end{align}\n",
    "\n",
    "Finally, we can define a multivariate Gaussian with parameters $\\boldsymbol\\mu$, $\\boldsymbol\\tau$ and $\\boldsymbol\\Omega$ using:\n",
    "\n",
    "    multi_normal(mu, quad_form_diag(Omega, tau))\n",
    "\n",
    "\n",
    "To impute missing observations, we do\n",
    "\n",
    "\\begin{align}\n",
    "y_{t} &\\sim \\mathcal{N} \\Big(\\beta_{1} y_{t-1} + \\beta_{2} y_{t-2} + ... + \\beta_{T} y_{t-T} \\Big)\n",
    "\\end{align}\n",
    "\n",
    "\n",
    "**Note** that we want to make the missing observation dependent on two previous observations. This is equivalent to define an autoregressive model of order 2."
   ]
  },
  {
   "cell_type": "markdown",
   "metadata": {},
   "source": [
    "<img src=\"pgm.png\">"
   ]
  },
  {
   "cell_type": "code",
   "execution_count": 59,
   "metadata": {},
   "outputs": [],
   "source": [
    "SDG_STAN=\"\"\"\n",
    "data {\n",
    "    int<lower = 0> N_obs1;\n",
    "    int<lower = 0> N_mis1;    // how many do we want to infer\n",
    "    int<lower = 0> N_obs2;  \n",
    "    int<lower = 0> N_mis2;\n",
    "    int<lower = 1, upper = N_obs1 + N_mis1> ix_obs1[N_obs1];    // index for observed time steps of target 1\n",
    "    int<lower = 1, upper = N_obs1 + N_mis1> ix_mis1[N_mis1];\n",
    "    int<lower = 1, upper = N_obs2 + N_mis2> ix_obs2[N_obs2];    // index for observed time steps of target 2\n",
    "    int<lower = 1, upper = N_obs2 + N_mis2> ix_mis2[N_mis2];\n",
    "    real y_obs1[N_obs1];         // observed time-series data for target 1\n",
    "    real y_obs2[N_obs2];         // observed time-series data for target 2\n",
    "}\n",
    "\n",
    "transformed data {\n",
    "    int<lower = 0> T = N_obs1 + N_mis1;  // length of the time-series\n",
    "}\n",
    "\n",
    "parameters {\n",
    "    vector[2] beta[2];            // state transition coefficients \n",
    "    corr_matrix[2] Omega;       // gives us the correlation with **Omega[1,2]=Omega[2,1]=Cov(1,2)**; Omega[1,1]=Var(1);Omega[2,2]=Var(2)    1 is target 1, 2 is target 2\n",
    "    vector<lower=0>[2] tau;     // uncertainty in the latent space\n",
    "    real<lower=0> sigma;       // observation noise\n",
    "    matrix[T,2] z;             // vector of latent states\n",
    "    real y_mis1[N_mis1];        // missing time-series data to infer for target 1\n",
    "    real y_mis2[N_mis2];        // missing time-series data to infer for target 2\n",
    "}\n",
    "\n",
    "transformed parameters {\n",
    "    real y1[T];\n",
    "    real y2[T];\n",
    "    matrix[2,2] L_sigma;\n",
    "    y1[ix_obs1] = y_obs1;\n",
    "    y1[ix_mis1] = y_mis1;\n",
    "    y2[ix_obs2] = y_obs2;\n",
    "    y2[ix_mis2] = y_mis2;\n",
    "}\n",
    "\n",
    "model {\n",
    "    for(i in 1:2)                   \n",
    "        beta[i] ~ normal(0,1);            // prior on the auto-regressive coefficients\n",
    "    tau ~ cauchy(0,1);\n",
    "    Omega ~ lkj_corr(1);         // STAN manual Section 63.1 (recommendation is lkj_corr)\n",
    "    sigma ~ cauchy(0,5);            // prior on the variance\n",
    "    \n",
    "    z[1,:] ~ normal(0,1);           // prior on first latent state\n",
    "    z[2,:] ~ normal(0,1);           // prior on second latent state\n",
    "    \n",
    "    for(t in 3:T) {\n",
    "        vector[2] mu;                          // mu is a vector of the means of our multivariate normal \n",
    "        mu[1] = beta[1]' * z[(t-2):(t-1),1];   // mu[1] is the mean of target 1 \n",
    "        mu[2] = beta[2]' * z[(t-2):(t-1),2];   // mu[2] is the mean of target 2\n",
    "        z[t,:] ~ multi_normal(mu, quad_form_diag(Omega, tau)); // latent dynamics\n",
    "    }\n",
    "    \n",
    "    y1 ~ normal(z[:,1], sigma);    // likelihood for target 1\n",
    "    y2 ~ normal(z[:,2], sigma);    // likelihood for target 2\n",
    "}\n",
    "\"\"\""
   ]
  },
  {
   "cell_type": "markdown",
   "metadata": {},
   "source": [
    "### What targets are in our clique?\n",
    "\n",
    "We will work for the rest of the notebook with this single clique."
   ]
  },
  {
   "cell_type": "code",
   "execution_count": 60,
   "metadata": {},
   "outputs": [
    {
     "data": {
      "text/plain": [
       "['9.c', '17.3', '17.2']"
      ]
     },
     "execution_count": 60,
     "metadata": {},
     "output_type": "execute_result"
    }
   ],
   "source": [
    "clique_nodes = list(cliqueGraph.nodes)\n",
    "clique_nodes"
   ]
  },
  {
   "cell_type": "code",
   "execution_count": 61,
   "metadata": {
    "scrolled": true
   },
   "outputs": [],
   "source": [
    "clique_df_t = final_t[clique_nodes]"
   ]
  },
  {
   "cell_type": "code",
   "execution_count": 62,
   "metadata": {},
   "outputs": [],
   "source": [
    "clique_df_t = clique_df_t[clique_df_t.index > str(startyear)]"
   ]
  },
  {
   "cell_type": "code",
   "execution_count": 63,
   "metadata": {},
   "outputs": [],
   "source": [
    "g1_nodes = list(G1.nodes)\n",
    "g1_df_t = final_t[g1_nodes]\n",
    "g1_df_t = g1_df_t[g1_df_t.index > str(startyear)]"
   ]
  },
  {
   "cell_type": "markdown",
   "metadata": {},
   "source": [
    "## What is observed, what is missing?\n",
    "\n",
    "- N_obs: Number of observed values (length of loc array)\n",
    "- N_mis: Number of missing values (length of loc array)\n",
    "- ix_obs: indices of observed values\n",
    "- ix_mis: indices of missing values\n",
    "- y_obs: observed values"
   ]
  },
  {
   "cell_type": "code",
   "execution_count": 64,
   "metadata": {},
   "outputs": [],
   "source": [
    "# prepare data for STAN model\n",
    "def prepareInputData(df, target1, target2):\n",
    "    t1_list = df[target1].tolist()\n",
    "    t2_list = df[target2].tolist()\n",
    "    \n",
    "    ix_obs1 = np.where(~np.isnan(t1_list))[0]\n",
    "    ix_obs2 = np.where(~np.isnan(t2_list))[0]\n",
    "    \n",
    "    ix_mis1 = np.where(np.isnan(t1_list))[0]\n",
    "    ix_mis2 = np.where(np.isnan(t2_list))[0]\n",
    "    \n",
    "    y_obs1 = [t1_list[index] for index in ix_obs1]\n",
    "    y_obs2 = [t2_list[index] for index in ix_obs2]\n",
    "    \n",
    "    N_obs1 = len(ix_obs1)\n",
    "    N_obs2 = len(ix_obs2)\n",
    "    \n",
    "    N_mis1 = len(ix_mis1)\n",
    "    N_mis2 = len(ix_mis2)\n",
    "    \n",
    "    data = {'N_obs1': N_obs1, 'N_mis1': N_mis1, 'N_obs2': N_obs2, 'N_mis2': N_mis2,\n",
    "            'ix_obs1': ix_obs1+1, 'ix_mis1': ix_mis1+1, 'y_obs1': y_obs1, \n",
    "            'ix_obs2': ix_obs2+1, 'ix_mis2': ix_mis2+1, 'y_obs2': y_obs2}\n",
    "    \n",
    "    return data"
   ]
  },
  {
   "cell_type": "code",
   "execution_count": 65,
   "metadata": {},
   "outputs": [
    {
     "name": "stderr",
     "output_type": "stream",
     "text": [
      "INFO:pystan:COMPILING THE C++ CODE FOR MODEL anon_model_c2c8db35d3d6b106a2010ff56a7e73b8 NOW.\n"
     ]
    },
    {
     "name": "stdout",
     "output_type": "stream",
     "text": [
      "CPU times: user 1.3 s, sys: 72 ms, total: 1.38 s\n",
      "Wall time: 1min 40s\n"
     ]
    }
   ],
   "source": [
    "%%time\n",
    "# create STAN model object (compile STAN model)\n",
    "sm = pystan.StanModel(model_code=SDG_STAN)"
   ]
  },
  {
   "cell_type": "markdown",
   "metadata": {},
   "source": [
    "### How we find the highest correlated pairs\n",
    "We use here Pearson's r as a correlation coefficient what returns us *only* the pairs of random variables which are highest correlated in a linear manner. But, the world is not linear; so, we could have also used [this](http://old.econ.ucdavis.edu/faculty/cameron/research/je97preprint.pdf) correlation coefficient."
   ]
  },
  {
   "cell_type": "markdown",
   "metadata": {},
   "source": [
    "To find out which pairs would give the most cartain results after inference, we want to find the pairs that have the highest correlation between each other (lowest uncertainty in prediction). This is why we first calculate the correlation coefficient and choose the pairs that give the highest correlation coefficients."
   ]
  },
  {
   "cell_type": "code",
   "execution_count": 72,
   "metadata": {},
   "outputs": [
    {
     "name": "stdout",
     "output_type": "stream",
     "text": [
      "('17.3', '3.1') :  -0.9986345477475923\n",
      "('9.c', '3.6') :  -0.9597680047136002\n",
      "('3.3', '17.3') :  -0.9071673688690943\n",
      "('15.1', '17.3') :  0.9810874111013809\n",
      "('15.4', '17.3') :  0.9810799411784373\n",
      "('3.1', '17.3') :  -0.9986345477475923\n",
      "('16.a', '17.3') :  0.9782550867281942\n",
      "('8.4', '17.3') :  0.9717775401027658\n",
      "('10.c', '17.3') :  -0.9721724578938964\n",
      "('7.2', '9.c') :  0.6774739156977707\n",
      "('17.2', '17.3') :  0.9466013661683574\n",
      "('7.1', '17.3') :  0.9753041662914969\n",
      "('17.8', '17.3') :  0.9439286391890692\n",
      "('9.5', '17.3') :  0.9661632648000364\n",
      "('3.4', '17.3') :  -0.9982388300390304\n",
      "('6.1', '17.3') :  0.9616112052212962\n",
      "('9.4', '17.3') :  0.9682092579151956\n",
      "('4.2', '9.c') :  0.8595787820653492\n",
      "('6.2', '17.3') :  -0.9590986826614143\n",
      "('2.1', '9.c') :  -0.9126994567627709\n",
      "('9.2', '9.c') :  0.8455682975486154\n",
      "('12.2', '17.3') :  0.9717775401027658\n",
      "('14.5', '17.3') :  0.9418917076051908\n",
      "('14.4', '17.3') :  0.8176452048262536\n",
      "('3.9', '17.3') :  -0.9941695217210463\n",
      "('3.6', '9.c') :  -0.9597680047136002\n",
      "('17.19', '9.c') :  0.6131374974321513\n"
     ]
    }
   ],
   "source": [
    "bestCorrPairs = []\n",
    "corrCoefs = []\n",
    "for x in list(G1.nodes):\n",
    "    bestCorrCoef = 0\n",
    "    targetx = x\n",
    "    t_y = []\n",
    "    for p in keptPairs:\n",
    "        #if p in processedPairs: continue\n",
    "        if targetx in p:\n",
    "            if p[0]!=targetx: t_y.append(p[0])\n",
    "            #if (p[0]!=targetx and p not in processedPairs): t_y.append(p[0])\n",
    "            else: t_y.append(p[1])\n",
    "    for targety in t_y:\n",
    "        corr, _ = calcCorr(final_t,targetx, targety)\n",
    "        if (np.abs(corr) > np.abs(bestCorrCoef) and not (corr==0 or corr==1)):\n",
    "            bestCorrCoef = corr\n",
    "            bestPair = tuple([targetx, targety])\n",
    "\n",
    "    bestCorrPairs.append(bestPair)\n",
    "    corrCoefs.append(bestCorrCoef)\n",
    "\n",
    "for i in range(0,len(bestCorrPairs)):\n",
    "    print(bestCorrPairs[i], ': ', corrCoefs[i])"
   ]
  },
  {
   "cell_type": "markdown",
   "metadata": {},
   "source": [
    "As one can see, sometimes the reversed pair is also the best correlation pair for one node. As we still only want to process these pairs once, we create an array of distinct pairs from the bestCorrPairs array."
   ]
  },
  {
   "cell_type": "code",
   "execution_count": 69,
   "metadata": {},
   "outputs": [
    {
     "name": "stdout",
     "output_type": "stream",
     "text": [
      "[('17.3', '3.1'), ('9.c', '3.6'), ('3.3', '17.3'), ('15.1', '17.3'), ('15.4', '17.3'), ('16.a', '17.3'), ('8.4', '17.3'), ('10.c', '17.3'), ('7.2', '9.c'), ('17.2', '17.3'), ('7.1', '17.3'), ('17.8', '17.3'), ('9.5', '17.3'), ('3.4', '17.3'), ('6.1', '17.3'), ('9.4', '17.3'), ('4.2', '9.c'), ('6.2', '17.3'), ('2.1', '9.c'), ('9.2', '9.c'), ('12.2', '17.3'), ('14.5', '17.3'), ('14.4', '17.3'), ('3.9', '17.3'), ('17.19', '9.c')]\n",
      "25\n"
     ]
    }
   ],
   "source": [
    "corrPairs = []\n",
    "for t in bestCorrPairs:\n",
    "    if t[::-1] not in corrPairs: corrPairs.append(t)\n",
    "print(corrPairs)\n",
    "print(len(corrPairs))"
   ]
  },
  {
   "cell_type": "markdown",
   "metadata": {},
   "source": [
    "We calculate the covariance matrix Omega for each possible connection"
   ]
  },
  {
   "cell_type": "code",
   "execution_count": null,
   "metadata": {},
   "outputs": [
    {
     "name": "stdout",
     "output_type": "stream",
     "text": [
      "('17.3', '9.c')\n"
     ]
    },
    {
     "name": "stderr",
     "output_type": "stream",
     "text": [
      "/home/felix/anaconda3/lib/python3.6/site-packages/pystan/misc.py:399: FutureWarning: Conversion of the second argument of issubdtype from `float` to `np.floating` is deprecated. In future, it will be treated as `np.float64 == np.dtype(float).type`.\n",
      "  elif np.issubdtype(np.asarray(v).dtype, float):\n"
     ]
    }
   ],
   "source": [
    "for pair in processedPairs:\n",
    "    if len(pair) > 1:\n",
    "        targetx = pair[0]\n",
    "        targety = pair[1]\n",
    "\n",
    "        # prepare input data\n",
    "        inData = prepareInputData(final_t, targetx, targety)\n",
    "        print(pair)\n",
    "\n",
    "        # run inference using MCMC sampling\n",
    "        fit = sm.sampling(data=inData, iter=1000, chains=4, algorithm=\"NUTS\", seed=42, verbose=True)\n",
    "        \n",
    "        samples = fit.extract(permuted=True)\n",
    "        \n",
    "        print(samples['Omega'][1,0][1])\n",
    "        print('-----')"
   ]
  },
  {
   "cell_type": "code",
   "execution_count": 90,
   "metadata": {},
   "outputs": [
    {
     "name": "stdout",
     "output_type": "stream",
     "text": [
      "0.3300860095291784\n"
     ]
    }
   ],
   "source": [
    "print(samples['Omega'][1,0][1])"
   ]
  },
  {
   "cell_type": "code",
   "execution_count": null,
   "metadata": {},
   "outputs": [],
   "source": [
    "connections = []\n",
    "for pair in omegaList:\n",
    "    if pair in keptPairs: connections.append(pair)\n",
    "        \n",
    "print('Number of pairs that have a causal and temporal relationship: ' len(connections))\n",
    "print(connections)"
   ]
  },
  {
   "cell_type": "code",
   "execution_count": 81,
   "metadata": {},
   "outputs": [
    {
     "data": {
      "text/plain": [
       "stanfit4anon_model_c2c8db35d3d6b106a2010ff56a7e73b8_1077160484483741225.StanFit4Model"
      ]
     },
     "execution_count": 81,
     "metadata": {},
     "output_type": "execute_result"
    }
   ],
   "source": [
    "type(fit)"
   ]
  },
  {
   "cell_type": "code",
   "execution_count": null,
   "metadata": {},
   "outputs": [],
   "source": [
    "for pair in processedPairs:\n",
    "    targetx = pair[0]\n",
    "    targety = pair[1]\n",
    "\n",
    "    # prepare input data\n",
    "    inData = prepareInputData(final_t, targetx, targety)\n",
    "    print(pair)\n",
    "\n",
    "    # run inference using MCMC sampling\n",
    "    fit = sm.sampling(data=inData, iter=1000, chains=4, algorithm=\"NUTS\", seed=42, verbose=True)\n",
    "    print(fit)\n",
    "    \n",
    "    # what do we actually want to show? sigma and tau are performance measurements.\n",
    "    fit.plot([\"tau\",\"lp__\"]) # take vars from temporal model\n",
    "    plt.show()\n",
    "\n",
    "    samples = fit.extract(permuted=True)\n",
    "    \n",
    "    # get values for plots\n",
    "    # convert indices back to year values\n",
    "    ix_mis1 = inData['ix_mis1']+startyear\n",
    "    ix_mis2 = inData['ix_mis2']+startyear\n",
    "    ix_obs1 = inData['ix_obs1']+startyear\n",
    "    ix_obs2 = inData['ix_obs2']+startyear\n",
    "    \n",
    "    # extract imputed and known values and renormalize them\n",
    "    y_mis1 = samples['y_mis1'].mean(axis=0) * std_df[targetx] + mean_df[targetx]\n",
    "    y_mis2 = samples['y_mis2'].mean(axis=0) * std_df[targety] + mean_df[targety]\n",
    "    y_obs1 = np.array(inData['y_obs1']) * std_df[targetx] + mean_df[targetx]\n",
    "    y_obs2 = np.array(inData['y_obs2']) * std_df[targety] + mean_df[targety]\n",
    "    \n",
    "    # define title and labels from original dataframe\n",
    "    y1_df = merged_df[merged_df['Target']==pair[0]]\n",
    "    y2_df = merged_df[merged_df['Target']==pair[1]]\n",
    "    y1_title = 'Target '+pair[0]+'\\n'+str(y1_df['Indicator Description'].values).replace('[','').replace(']','')\n",
    "    y1_label = str(y1_df['Unit'].values).replace('[','').replace(']','')\n",
    "    y2_title = 'Target '+pair[0]+'\\n'+str(y2_df['Indicator Description'].values).replace('[','').replace(']','')\n",
    "    y2_label = str(y2_df['Unit'].values).replace('[','').replace(']','')\n",
    "    \n",
    "    # plot with imputed values of target 1\n",
    "    plt.plot(ix_obs1, y_obs1, \"bo\")\n",
    "    plt.plot(ix_mis1, y_mis1, \"bx\")\n",
    "    plt.title(y1_title)\n",
    "    plt.legend([\"observed values\",\"imputed values\"])\n",
    "    plt.xlabel('year')\n",
    "    plt.ylabel(y1_label)\n",
    "    plt.show()\n",
    "    \n",
    "    # plot with imputed values of target 2\n",
    "    plt.plot(ix_obs2, y_obs2, \"bo\")\n",
    "    plt.plot(ix_mis2, y_mis2, \"bx\")\n",
    "    plt.title(y2_title)\n",
    "    plt.legend([\"observed values\", \"imputed values\"])\n",
    "    plt.xlabel('year')\n",
    "    plt.ylabel(y2_label)\n",
    "    plt.show()"
   ]
  },
  {
   "cell_type": "markdown",
   "metadata": {},
   "source": [
    "## Conclusion\n",
    "- We were able to prove that there are strong linear correlations (correlation coefficient higher than 0.98) between some targets.\n",
    "- Some dependencies might still remain undiscovered which could be identified by a correlation different from a linear one, e.g. exponential\n",
    "- We have to be critical about the imputed values in the years where data for both targets are missing (only dependant on the prior), but can be rather confident on imputed values that have an observation in the correlated target.\n",
    "- Some of the predictions for y can only be given low confidence as the number of effective values used for this prediction is very low.\n",
    "- We have a dependency on the time series overally, but considering each time step separately, we don't have very good correlations.\n",
    "- Causality!"
   ]
  },
  {
   "cell_type": "markdown",
   "metadata": {},
   "source": [
    "## Open questions: What we haven't understood so far\n",
    "\n",
    "- Omega[1,0] is a value of Omega that gives us the correlation between Target 1 and 2. What kind of correlation measure is it? How can it be different/lower from our previously found Pearson r?\n",
    "\n",
    " Omega explains the residuals,  i.e. taking away the time series dependency, what is left of the correlation?\n",
    " Correlation of deviations in the processes. \n",
    " Causation can occur without correlation"
   ]
  },
  {
   "cell_type": "markdown",
   "metadata": {},
   "source": [
    "## Prospect: What we can do next\n",
    "- use inferred values and/or identified relations to make predictions for the future based on assumptions of the development of one indicator\n",
    "- find \"plan of action\" to improve one target/reach one target"
   ]
  }
 ],
 "metadata": {
  "kernelspec": {
   "display_name": "Python 3",
   "language": "python",
   "name": "python3"
  },
  "language_info": {
   "codemirror_mode": {
    "name": "ipython",
    "version": 3
   },
   "file_extension": ".py",
   "mimetype": "text/x-python",
   "name": "python",
   "nbconvert_exporter": "python",
   "pygments_lexer": "ipython3",
   "version": "3.6.5"
  }
 },
 "nbformat": 4,
 "nbformat_minor": 2
}
